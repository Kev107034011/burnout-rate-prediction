{
 "cells": [
  {
   "cell_type": "markdown",
   "id": "3wSi-KSCIpEM",
   "metadata": {
    "id": "3wSi-KSCIpEM"
   },
   "source": [
    "# Import Package"
   ]
  },
  {
   "cell_type": "code",
   "execution_count": 1,
   "id": "5Cz5-77fIpEN",
   "metadata": {
    "ExecuteTime": {
     "end_time": "2022-10-17T05:58:10.004849Z",
     "start_time": "2022-10-17T05:58:08.823115Z"
    },
    "colab": {
     "base_uri": "https://localhost:8080/",
     "height": 36
    },
    "id": "5Cz5-77fIpEN",
    "outputId": "3ebd36d7-7ac8-418a-b0ad-cc206e1b61ee"
   },
   "outputs": [
    {
     "name": "stderr",
     "output_type": "stream",
     "text": [
      "C:\\Users\\USER\\anaconda3\\envs\\tensorflow_new\\lib\\site-packages\\tqdm\\auto.py:22: TqdmWarning: IProgress not found. Please update jupyter and ipywidgets. See https://ipywidgets.readthedocs.io/en/stable/user_install.html\n",
      "  from .autonotebook import tqdm as notebook_tqdm\n"
     ]
    },
    {
     "data": {
      "text/plain": [
       "'C:\\\\Users\\\\USER\\\\Desktop\\\\Kev\\\\碩一\\\\人工智慧\\\\HW2'"
      ]
     },
     "execution_count": 1,
     "metadata": {},
     "output_type": "execute_result"
    }
   ],
   "source": [
    "SEED = 42\n",
    "\n",
    "# 基本套件\n",
    "from sklearn.pipeline import Pipeline\n",
    "import numpy as np\n",
    "import pandas as pd\n",
    "import os\n",
    "from datetime import datetime\n",
    "\n",
    "# Categorical Data Transforming\n",
    "import category_encoders as ce\n",
    "from sklearn.impute import KNNImputer\n",
    "\n",
    "# Change Scaler\n",
    "from sklearn.preprocessing import StandardScaler\n",
    "\n",
    "# 資料集切割\n",
    "from sklearn.model_selection import train_test_split\n",
    "from sklearn.model_selection import cross_val_score, cross_validate\n",
    "from sklearn.model_selection import StratifiedKFold\n",
    "\n",
    "# 特徵篩選\n",
    "from mlxtend.feature_selection import SequentialFeatureSelector as SFS\n",
    "\n",
    "# 使用模型\n",
    "from sklearn.linear_model import LinearRegression\n",
    "from sklearn.svm import SVR\n",
    "from sklearn.ensemble import RandomForestRegressor\n",
    "import xgboost as xgb\n",
    "import catboost as cb\n",
    "import lightgbm as lgbm\n",
    "# import tensorflow as tf\n",
    "\n",
    "\n",
    "# 資料視覺化\n",
    "import matplotlib.pyplot as plt\n",
    "import seaborn as sns\n",
    "import plotly.express as px\n",
    "\n",
    "\n",
    "# 最佳化參數\n",
    "import optuna\n",
    "from optuna.integration import LightGBMPruningCallback\n",
    "\n",
    "os.getcwd()"
   ]
  },
  {
   "cell_type": "markdown",
   "id": "16QNBD14IpEO",
   "metadata": {
    "id": "16QNBD14IpEO"
   },
   "source": [
    "# Read data"
   ]
  },
  {
   "cell_type": "code",
   "execution_count": 2,
   "id": "jVqvLLiVIpEO",
   "metadata": {
    "ExecuteTime": {
     "end_time": "2022-10-17T05:58:10.036175Z",
     "start_time": "2022-10-17T05:58:10.005846Z"
    },
    "colab": {
     "base_uri": "https://localhost:8080/",
     "height": 224
    },
    "id": "jVqvLLiVIpEO",
    "outputId": "4b593aa1-5d3a-4d0f-b92b-bec36c0e6d16"
   },
   "outputs": [
    {
     "name": "stdout",
     "output_type": "stream",
     "text": [
      "view the data shape (10108, 9)\n"
     ]
    },
    {
     "data": {
      "text/html": [
       "<div>\n",
       "<style scoped>\n",
       "    .dataframe tbody tr th:only-of-type {\n",
       "        vertical-align: middle;\n",
       "    }\n",
       "\n",
       "    .dataframe tbody tr th {\n",
       "        vertical-align: top;\n",
       "    }\n",
       "\n",
       "    .dataframe thead th {\n",
       "        text-align: right;\n",
       "    }\n",
       "</style>\n",
       "<table border=\"1\" class=\"dataframe\">\n",
       "  <thead>\n",
       "    <tr style=\"text-align: right;\">\n",
       "      <th></th>\n",
       "      <th>Employee ID</th>\n",
       "      <th>Date of Joining</th>\n",
       "      <th>Gender</th>\n",
       "      <th>Company Type</th>\n",
       "      <th>WFH Setup Available</th>\n",
       "      <th>Designation</th>\n",
       "      <th>Resource Allocation</th>\n",
       "      <th>Mental Fatigue Score</th>\n",
       "      <th>Burn Rate</th>\n",
       "    </tr>\n",
       "  </thead>\n",
       "  <tbody>\n",
       "    <tr>\n",
       "      <th>0</th>\n",
       "      <td>0</td>\n",
       "      <td>2008/9/30</td>\n",
       "      <td>Female</td>\n",
       "      <td>Service</td>\n",
       "      <td>No</td>\n",
       "      <td>2</td>\n",
       "      <td>3.0</td>\n",
       "      <td>3.8</td>\n",
       "      <td>0.16</td>\n",
       "    </tr>\n",
       "    <tr>\n",
       "      <th>1</th>\n",
       "      <td>1</td>\n",
       "      <td>2008/11/30</td>\n",
       "      <td>Male</td>\n",
       "      <td>Service</td>\n",
       "      <td>Yes</td>\n",
       "      <td>1</td>\n",
       "      <td>2.0</td>\n",
       "      <td>5.0</td>\n",
       "      <td>0.36</td>\n",
       "    </tr>\n",
       "    <tr>\n",
       "      <th>2</th>\n",
       "      <td>2</td>\n",
       "      <td>2008/3/10</td>\n",
       "      <td>Female</td>\n",
       "      <td>Product</td>\n",
       "      <td>Yes</td>\n",
       "      <td>2</td>\n",
       "      <td>NaN</td>\n",
       "      <td>5.8</td>\n",
       "      <td>0.49</td>\n",
       "    </tr>\n",
       "    <tr>\n",
       "      <th>3</th>\n",
       "      <td>3</td>\n",
       "      <td>2008/11/3</td>\n",
       "      <td>Male</td>\n",
       "      <td>Service</td>\n",
       "      <td>Yes</td>\n",
       "      <td>1</td>\n",
       "      <td>1.0</td>\n",
       "      <td>2.6</td>\n",
       "      <td>0.20</td>\n",
       "    </tr>\n",
       "    <tr>\n",
       "      <th>4</th>\n",
       "      <td>4</td>\n",
       "      <td>2008/7/24</td>\n",
       "      <td>Female</td>\n",
       "      <td>Service</td>\n",
       "      <td>No</td>\n",
       "      <td>3</td>\n",
       "      <td>7.0</td>\n",
       "      <td>6.9</td>\n",
       "      <td>0.52</td>\n",
       "    </tr>\n",
       "  </tbody>\n",
       "</table>\n",
       "</div>"
      ],
      "text/plain": [
       "   Employee ID Date of Joining  Gender Company Type WFH Setup Available  \\\n",
       "0            0       2008/9/30  Female      Service                  No   \n",
       "1            1      2008/11/30    Male      Service                 Yes   \n",
       "2            2       2008/3/10  Female      Product                 Yes   \n",
       "3            3       2008/11/3    Male      Service                 Yes   \n",
       "4            4       2008/7/24  Female      Service                  No   \n",
       "\n",
       "   Designation  Resource Allocation  Mental Fatigue Score  Burn Rate  \n",
       "0            2                  3.0                   3.8       0.16  \n",
       "1            1                  2.0                   5.0       0.36  \n",
       "2            2                  NaN                   5.8       0.49  \n",
       "3            1                  1.0                   2.6       0.20  \n",
       "4            3                  7.0                   6.9       0.52  "
      ]
     },
     "execution_count": 2,
     "metadata": {},
     "output_type": "execute_result"
    }
   ],
   "source": [
    "df = pd.read_csv(r'./train.csv')\n",
    "print('view the data shape', df.shape)\n",
    "df.head()"
   ]
  },
  {
   "cell_type": "code",
   "execution_count": 3,
   "id": "cb5f7a13",
   "metadata": {
    "ExecuteTime": {
     "end_time": "2022-10-17T05:58:10.051675Z",
     "start_time": "2022-10-17T05:58:10.037170Z"
    }
   },
   "outputs": [],
   "source": [
    "# elliminate traget not na\n",
    "df = df[df['Burn Rate'].notna()]"
   ]
  },
  {
   "cell_type": "code",
   "execution_count": 4,
   "id": "932b1220",
   "metadata": {
    "ExecuteTime": {
     "end_time": "2022-10-17T05:58:10.066983Z",
     "start_time": "2022-10-17T05:58:10.052716Z"
    }
   },
   "outputs": [],
   "source": [
    "df = df[df.columns[1:]]\n",
    "X = df[df.columns[:-1]]\n",
    "y = df[df.columns[-1]]"
   ]
  },
  {
   "cell_type": "code",
   "execution_count": 5,
   "id": "33e76629",
   "metadata": {
    "ExecuteTime": {
     "end_time": "2022-10-17T05:58:10.176616Z",
     "start_time": "2022-10-17T05:58:10.067979Z"
    }
   },
   "outputs": [
    {
     "name": "stderr",
     "output_type": "stream",
     "text": [
      "C:\\Users\\USER\\AppData\\Local\\Temp\\ipykernel_9740\\58359773.py:1: FutureWarning: The default value of numeric_only in DataFrame.corr is deprecated. In a future version, it will default to False. Select only valid columns or specify the value of numeric_only to silence this warning.\n",
      "  sns.heatmap(df.corr())\n"
     ]
    },
    {
     "data": {
      "text/plain": [
       "<AxesSubplot: >"
      ]
     },
     "execution_count": 5,
     "metadata": {},
     "output_type": "execute_result"
    },
    {
     "data": {
      "image/png": "[encoded data removed]",
      "text/plain": [
       "<Figure size 640x480 with 2 Axes>"
      ]
     },
     "metadata": {},
     "output_type": "display_data"
    }
   ],
   "source": [
    "sns.heatmap(df.corr())"
   ]
  },
  {
   "cell_type": "code",
   "execution_count": 6,
   "id": "a01d3bab",
   "metadata": {
    "ExecuteTime": {
     "end_time": "2022-10-17T05:58:10.192562Z",
     "start_time": "2022-10-17T05:58:10.177612Z"
    }
   },
   "outputs": [
    {
     "data": {
      "text/html": [
       "<div>\n",
       "<style scoped>\n",
       "    .dataframe tbody tr th:only-of-type {\n",
       "        vertical-align: middle;\n",
       "    }\n",
       "\n",
       "    .dataframe tbody tr th {\n",
       "        vertical-align: top;\n",
       "    }\n",
       "\n",
       "    .dataframe thead th {\n",
       "        text-align: right;\n",
       "    }\n",
       "</style>\n",
       "<table border=\"1\" class=\"dataframe\">\n",
       "  <thead>\n",
       "    <tr style=\"text-align: right;\">\n",
       "      <th></th>\n",
       "      <th>Designation</th>\n",
       "      <th>Resource Allocation</th>\n",
       "      <th>Mental Fatigue Score</th>\n",
       "      <th>Burn Rate</th>\n",
       "    </tr>\n",
       "  </thead>\n",
       "  <tbody>\n",
       "    <tr>\n",
       "      <th>count</th>\n",
       "      <td>9624.000000</td>\n",
       "      <td>9041.000000</td>\n",
       "      <td>8738.000000</td>\n",
       "      <td>9624.000000</td>\n",
       "    </tr>\n",
       "    <tr>\n",
       "      <th>mean</th>\n",
       "      <td>2.183292</td>\n",
       "      <td>4.500055</td>\n",
       "      <td>5.731231</td>\n",
       "      <td>0.452351</td>\n",
       "    </tr>\n",
       "    <tr>\n",
       "      <th>std</th>\n",
       "      <td>1.141031</td>\n",
       "      <td>2.051501</td>\n",
       "      <td>1.921508</td>\n",
       "      <td>0.198787</td>\n",
       "    </tr>\n",
       "    <tr>\n",
       "      <th>min</th>\n",
       "      <td>0.000000</td>\n",
       "      <td>1.000000</td>\n",
       "      <td>0.000000</td>\n",
       "      <td>0.000000</td>\n",
       "    </tr>\n",
       "    <tr>\n",
       "      <th>25%</th>\n",
       "      <td>1.000000</td>\n",
       "      <td>3.000000</td>\n",
       "      <td>4.600000</td>\n",
       "      <td>0.320000</td>\n",
       "    </tr>\n",
       "    <tr>\n",
       "      <th>50%</th>\n",
       "      <td>2.000000</td>\n",
       "      <td>4.000000</td>\n",
       "      <td>5.900000</td>\n",
       "      <td>0.450000</td>\n",
       "    </tr>\n",
       "    <tr>\n",
       "      <th>75%</th>\n",
       "      <td>3.000000</td>\n",
       "      <td>6.000000</td>\n",
       "      <td>7.100000</td>\n",
       "      <td>0.590000</td>\n",
       "    </tr>\n",
       "    <tr>\n",
       "      <th>max</th>\n",
       "      <td>5.000000</td>\n",
       "      <td>10.000000</td>\n",
       "      <td>10.000000</td>\n",
       "      <td>1.000000</td>\n",
       "    </tr>\n",
       "  </tbody>\n",
       "</table>\n",
       "</div>"
      ],
      "text/plain": [
       "       Designation  Resource Allocation  Mental Fatigue Score    Burn Rate\n",
       "count  9624.000000          9041.000000           8738.000000  9624.000000\n",
       "mean      2.183292             4.500055              5.731231     0.452351\n",
       "std       1.141031             2.051501              1.921508     0.198787\n",
       "min       0.000000             1.000000              0.000000     0.000000\n",
       "25%       1.000000             3.000000              4.600000     0.320000\n",
       "50%       2.000000             4.000000              5.900000     0.450000\n",
       "75%       3.000000             6.000000              7.100000     0.590000\n",
       "max       5.000000            10.000000             10.000000     1.000000"
      ]
     },
     "execution_count": 6,
     "metadata": {},
     "output_type": "execute_result"
    }
   ],
   "source": [
    "df.describe()"
   ]
  },
  {
   "cell_type": "markdown",
   "id": "vaA_AJqSPfo0",
   "metadata": {
    "id": "vaA_AJqSPfo0"
   },
   "source": [
    "# Data Preprocessing"
   ]
  },
  {
   "cell_type": "markdown",
   "id": "46151c18",
   "metadata": {},
   "source": [
    "## Transfer Time related Data"
   ]
  },
  {
   "cell_type": "code",
   "execution_count": 7,
   "id": "da494d19",
   "metadata": {
    "ExecuteTime": {
     "end_time": "2022-10-17T05:58:10.208480Z",
     "start_time": "2022-10-17T05:58:10.193559Z"
    }
   },
   "outputs": [],
   "source": [
    "def transfer_date(date):\n",
    "    date_format = \"%Y/%m/%d\"\n",
    "    a = datetime.strptime('2022/10/10', date_format)\n",
    "    b = datetime.strptime(date, date_format)\n",
    "    delta = a - b\n",
    "    return delta.days"
   ]
  },
  {
   "cell_type": "code",
   "execution_count": 8,
   "id": "d249a953",
   "metadata": {
    "ExecuteTime": {
     "end_time": "2022-10-17T05:58:10.288213Z",
     "start_time": "2022-10-17T05:58:10.209495Z"
    }
   },
   "outputs": [
    {
     "name": "stderr",
     "output_type": "stream",
     "text": [
      "C:\\Users\\USER\\AppData\\Local\\Temp\\ipykernel_9740\\1446608504.py:1: SettingWithCopyWarning: \n",
      "A value is trying to be set on a copy of a slice from a DataFrame.\n",
      "Try using .loc[row_indexer,col_indexer] = value instead\n",
      "\n",
      "See the caveats in the documentation: https://pandas.pydata.org/pandas-docs/stable/user_guide/indexing.html#returning-a-view-versus-a-copy\n",
      "  X['Date of Joining'] = X['Date of Joining'].apply(lambda x : transfer_date(x))\n"
     ]
    }
   ],
   "source": [
    "X['Date of Joining'] = X['Date of Joining'].apply(lambda x : transfer_date(x))"
   ]
  },
  {
   "cell_type": "markdown",
   "id": "84043b1e",
   "metadata": {},
   "source": [
    "## Categorical Data Transforming -  Target Encoder"
   ]
  },
  {
   "cell_type": "code",
   "execution_count": 9,
   "id": "040d5098",
   "metadata": {
    "ExecuteTime": {
     "end_time": "2022-10-17T05:58:10.540441Z",
     "start_time": "2022-10-17T05:58:10.289210Z"
    }
   },
   "outputs": [],
   "source": [
    "## 原類別型\n",
    "ce_leave = ce.GLMMEncoder(cols = ['Gender','Company Type','WFH Setup Available'],binomial_target = False,handle_unknown='value')\n",
    "ce_leave.fit(X, y)     \n",
    "X = ce_leave.transform(X)"
   ]
  },
  {
   "cell_type": "markdown",
   "id": "1efa7eed",
   "metadata": {},
   "source": [
    "## Normalize Data"
   ]
  },
  {
   "cell_type": "code",
   "execution_count": 10,
   "id": "f6737bde",
   "metadata": {
    "ExecuteTime": {
     "end_time": "2022-10-17T05:58:10.556253Z",
     "start_time": "2022-10-17T05:58:10.541477Z"
    }
   },
   "outputs": [],
   "source": [
    "# Normalization\n",
    "Normalize_scaler = StandardScaler()\n",
    "X = pd.DataFrame(Normalize_scaler.fit_transform(X), columns=X.columns, index=X.index)"
   ]
  },
  {
   "cell_type": "markdown",
   "id": "9d15295b",
   "metadata": {},
   "source": [
    "## Fill Missing Value - KNN Imputer"
   ]
  },
  {
   "cell_type": "code",
   "execution_count": 11,
   "id": "Xjt9kVQpIpEP",
   "metadata": {
    "ExecuteTime": {
     "end_time": "2022-10-17T05:58:10.571937Z",
     "start_time": "2022-10-17T05:58:10.557250Z"
    },
    "colab": {
     "base_uri": "https://localhost:8080/"
    },
    "id": "Xjt9kVQpIpEP",
    "outputId": "575da9d3-5983-4959-862e-dac170fd99be"
   },
   "outputs": [
    {
     "data": {
      "text/plain": [
       "Date of Joining           0\n",
       "Gender                    0\n",
       "Company Type              0\n",
       "WFH Setup Available       0\n",
       "Designation               0\n",
       "Resource Allocation     583\n",
       "Mental Fatigue Score    886\n",
       "dtype: int64"
      ]
     },
     "execution_count": 11,
     "metadata": {},
     "output_type": "execute_result"
    }
   ],
   "source": [
    "X.isna().sum()"
   ]
  },
  {
   "cell_type": "code",
   "execution_count": 12,
   "id": "82354660",
   "metadata": {
    "ExecuteTime": {
     "end_time": "2022-10-17T05:58:11.028330Z",
     "start_time": "2022-10-17T05:58:10.571937Z"
    }
   },
   "outputs": [],
   "source": [
    "# TODO\n",
    "imputer = KNNImputer(n_neighbors=5)\n",
    "X = pd.DataFrame(imputer.fit_transform(X),columns = X.columns)"
   ]
  },
  {
   "cell_type": "code",
   "execution_count": 13,
   "id": "ae9c0feb",
   "metadata": {
    "ExecuteTime": {
     "end_time": "2022-10-17T05:58:11.043353Z",
     "start_time": "2022-10-17T05:58:11.029328Z"
    }
   },
   "outputs": [
    {
     "data": {
      "text/plain": [
       "Date of Joining         0\n",
       "Gender                  0\n",
       "Company Type            0\n",
       "WFH Setup Available     0\n",
       "Designation             0\n",
       "Resource Allocation     0\n",
       "Mental Fatigue Score    0\n",
       "dtype: int64"
      ]
     },
     "execution_count": 13,
     "metadata": {},
     "output_type": "execute_result"
    }
   ],
   "source": [
    "X.isna().sum()"
   ]
  },
  {
   "cell_type": "code",
   "execution_count": 14,
   "id": "f0d35a06",
   "metadata": {
    "ExecuteTime": {
     "end_time": "2022-10-17T05:58:11.058555Z",
     "start_time": "2022-10-17T05:58:11.044350Z"
    }
   },
   "outputs": [],
   "source": [
    "X.reset_index(drop=True,inplace=True)\n",
    "y.reset_index(drop=True,inplace=True)"
   ]
  },
  {
   "cell_type": "markdown",
   "id": "0265f024",
   "metadata": {},
   "source": [
    "# EDA"
   ]
  },
  {
   "cell_type": "code",
   "execution_count": 15,
   "id": "b28072bc",
   "metadata": {
    "ExecuteTime": {
     "end_time": "2022-10-17T05:58:11.183643Z",
     "start_time": "2022-10-17T05:58:11.059554Z"
    }
   },
   "outputs": [
    {
     "data": {
      "text/plain": [
       "<AxesSubplot: >"
      ]
     },
     "execution_count": 15,
     "metadata": {},
     "output_type": "execute_result"
    },
    {
     "data": {
      "image/png": "[encoded data removed]",
      "text/plain": [
       "<Figure size 640x480 with 2 Axes>"
      ]
     },
     "metadata": {},
     "output_type": "display_data"
    }
   ],
   "source": [
    "df = pd.concat([X,y],axis=1)\n",
    "sns.heatmap(df.corr())"
   ]
  },
  {
   "cell_type": "markdown",
   "id": "7139aaad",
   "metadata": {},
   "source": [
    "# Feature Selection"
   ]
  },
  {
   "cell_type": "code",
   "execution_count": 16,
   "id": "8c441041",
   "metadata": {
    "ExecuteTime": {
     "end_time": "2022-10-17T05:58:22.210306Z",
     "start_time": "2022-10-17T05:58:11.183643Z"
    }
   },
   "outputs": [
    {
     "name": "stderr",
     "output_type": "stream",
     "text": [
      "[Parallel(n_jobs=4)]: Using backend LokyBackend with 4 concurrent workers.\n",
      "[Parallel(n_jobs=4)]: Done   4 out of   7 | elapsed:    1.0s remaining:    0.7s\n",
      "[Parallel(n_jobs=4)]: Done   7 out of   7 | elapsed:    1.2s finished\n",
      "\n",
      "[2022-10-17 13:58:12] Features: 1/7 -- score: 0.8698794873049049[Parallel(n_jobs=4)]: Using backend LokyBackend with 4 concurrent workers.\n",
      "[Parallel(n_jobs=4)]: Done   3 out of   6 | elapsed:    0.1s remaining:    0.1s\n",
      "[Parallel(n_jobs=4)]: Done   6 out of   6 | elapsed:    0.3s finished\n",
      "\n",
      "[2022-10-17 13:58:12] Features: 2/7 -- score: 0.897274538263304[Parallel(n_jobs=4)]: Using backend LokyBackend with 4 concurrent workers.\n",
      "[Parallel(n_jobs=4)]: Done   5 out of   5 | elapsed:    0.3s finished\n",
      "[Parallel(n_jobs=2)]: Using backend LokyBackend with 2 concurrent workers.\n",
      "[Parallel(n_jobs=2)]: Done   2 out of   2 | elapsed:    1.0s finished\n",
      "\n",
      "[2022-10-17 13:58:14] Features: 3/7 -- score: 0.8994543361130042[Parallel(n_jobs=4)]: Using backend LokyBackend with 4 concurrent workers.\n",
      "[Parallel(n_jobs=4)]: Done   4 out of   4 | elapsed:    1.1s finished\n",
      "[Parallel(n_jobs=3)]: Using backend LokyBackend with 3 concurrent workers.\n",
      "[Parallel(n_jobs=3)]: Done   3 out of   3 | elapsed:    1.0s finished\n",
      "\n",
      "[2022-10-17 13:58:17] Features: 4/7 -- score: 0.9009279157901127[Parallel(n_jobs=3)]: Using backend LokyBackend with 3 concurrent workers.\n",
      "[Parallel(n_jobs=3)]: Done   3 out of   3 | elapsed:    0.1s finished\n",
      "[Parallel(n_jobs=4)]: Using backend LokyBackend with 4 concurrent workers.\n",
      "[Parallel(n_jobs=4)]: Done   4 out of   4 | elapsed:    1.1s finished\n",
      "\n",
      "[2022-10-17 13:58:18] Features: 5/7 -- score: 0.9006207133747145[Parallel(n_jobs=2)]: Using backend LokyBackend with 2 concurrent workers.\n",
      "[Parallel(n_jobs=2)]: Done   2 out of   2 | elapsed:    1.0s finished\n",
      "[Parallel(n_jobs=4)]: Using backend LokyBackend with 4 concurrent workers.\n",
      "[Parallel(n_jobs=4)]: Done   5 out of   5 | elapsed:    1.3s finished\n",
      "\n",
      "[2022-10-17 13:58:21] Features: 6/7 -- score: 0.900699715287639[Parallel(n_jobs=1)]: Using backend SequentialBackend with 1 concurrent workers.\n",
      "[Parallel(n_jobs=1)]: Done   1 out of   1 | elapsed:    0.2s remaining:    0.0s\n",
      "[Parallel(n_jobs=1)]: Done   1 out of   1 | elapsed:    0.2s finished\n",
      "[Parallel(n_jobs=4)]: Using backend LokyBackend with 4 concurrent workers.\n",
      "[Parallel(n_jobs=4)]: Done   3 out of   6 | elapsed:    0.2s remaining:    0.2s\n",
      "[Parallel(n_jobs=4)]: Done   6 out of   6 | elapsed:    0.4s finished\n",
      "\n",
      "[2022-10-17 13:58:22] Features: 7/7 -- score: 0.9006086101618471"
     ]
    }
   ],
   "source": [
    "# begin SFS\n",
    "model_lgbm = lgbm.LGBMRegressor(random_state=SEED)\n",
    "sfs_LGBM = SFS(model_lgbm, \n",
    "           k_features= int(round(X.shape[1],0)), \n",
    "           floating=True,# 可以改false，如果跑太久\n",
    "           forward=True,  \n",
    "           verbose=2,\n",
    "           cv=5,\n",
    "           n_jobs=4)\n",
    "sfs_LGBM = sfs_LGBM.fit(X, y)"
   ]
  },
  {
   "cell_type": "code",
   "execution_count": 17,
   "id": "7b08af7d",
   "metadata": {
    "ExecuteTime": {
     "end_time": "2022-10-17T05:58:22.226253Z",
     "start_time": "2022-10-17T05:58:22.211303Z"
    }
   },
   "outputs": [
    {
     "data": {
      "text/html": [
       "<div>\n",
       "<style scoped>\n",
       "    .dataframe tbody tr th:only-of-type {\n",
       "        vertical-align: middle;\n",
       "    }\n",
       "\n",
       "    .dataframe tbody tr th {\n",
       "        vertical-align: top;\n",
       "    }\n",
       "\n",
       "    .dataframe thead th {\n",
       "        text-align: right;\n",
       "    }\n",
       "</style>\n",
       "<table border=\"1\" class=\"dataframe\">\n",
       "  <thead>\n",
       "    <tr style=\"text-align: right;\">\n",
       "      <th></th>\n",
       "      <th>1</th>\n",
       "      <th>2</th>\n",
       "      <th>3</th>\n",
       "      <th>4</th>\n",
       "      <th>5</th>\n",
       "      <th>6</th>\n",
       "      <th>7</th>\n",
       "    </tr>\n",
       "  </thead>\n",
       "  <tbody>\n",
       "    <tr>\n",
       "      <th>feature_idx</th>\n",
       "      <td>(6,)</td>\n",
       "      <td>(5, 6)</td>\n",
       "      <td>(4, 5, 6)</td>\n",
       "      <td>(3, 4, 5, 6)</td>\n",
       "      <td>(2, 3, 4, 5, 6)</td>\n",
       "      <td>(1, 2, 3, 4, 5, 6)</td>\n",
       "      <td>(0, 1, 2, 3, 4, 5, 6)</td>\n",
       "    </tr>\n",
       "    <tr>\n",
       "      <th>cv_scores</th>\n",
       "      <td>[0.8795551210649553, 0.8697820618171753, 0.874...</td>\n",
       "      <td>[0.907161764083326, 0.896535543495723, 0.90135...</td>\n",
       "      <td>[0.9100334314388974, 0.8986141694573998, 0.902...</td>\n",
       "      <td>[0.9113197443621612, 0.8992090808754988, 0.903...</td>\n",
       "      <td>[0.9107333586350557, 0.8986295095478738, 0.904...</td>\n",
       "      <td>[0.9112190293886943, 0.8989834069340188, 0.903...</td>\n",
       "      <td>[0.9106804850053196, 0.8989778083988269, 0.904...</td>\n",
       "    </tr>\n",
       "    <tr>\n",
       "      <th>avg_score</th>\n",
       "      <td>0.869879</td>\n",
       "      <td>0.897275</td>\n",
       "      <td>0.899454</td>\n",
       "      <td>0.900928</td>\n",
       "      <td>0.900621</td>\n",
       "      <td>0.9007</td>\n",
       "      <td>0.900609</td>\n",
       "    </tr>\n",
       "    <tr>\n",
       "      <th>feature_names</th>\n",
       "      <td>(Mental Fatigue Score,)</td>\n",
       "      <td>(Resource Allocation, Mental Fatigue Score)</td>\n",
       "      <td>(Designation, Resource Allocation, Mental Fati...</td>\n",
       "      <td>(WFH Setup Available, Designation, Resource Al...</td>\n",
       "      <td>(Company Type, WFH Setup Available, Designatio...</td>\n",
       "      <td>(Gender, Company Type, WFH Setup Available, De...</td>\n",
       "      <td>(Date of Joining, Gender, Company Type, WFH Se...</td>\n",
       "    </tr>\n",
       "    <tr>\n",
       "      <th>ci_bound</th>\n",
       "      <td>0.009122</td>\n",
       "      <td>0.008584</td>\n",
       "      <td>0.008592</td>\n",
       "      <td>0.008047</td>\n",
       "      <td>0.008051</td>\n",
       "      <td>0.008159</td>\n",
       "      <td>0.007955</td>\n",
       "    </tr>\n",
       "    <tr>\n",
       "      <th>std_dev</th>\n",
       "      <td>0.007097</td>\n",
       "      <td>0.006678</td>\n",
       "      <td>0.006685</td>\n",
       "      <td>0.006261</td>\n",
       "      <td>0.006264</td>\n",
       "      <td>0.006348</td>\n",
       "      <td>0.006189</td>\n",
       "    </tr>\n",
       "    <tr>\n",
       "      <th>std_err</th>\n",
       "      <td>0.003548</td>\n",
       "      <td>0.003339</td>\n",
       "      <td>0.003342</td>\n",
       "      <td>0.00313</td>\n",
       "      <td>0.003132</td>\n",
       "      <td>0.003174</td>\n",
       "      <td>0.003094</td>\n",
       "    </tr>\n",
       "  </tbody>\n",
       "</table>\n",
       "</div>"
      ],
      "text/plain": [
       "                                                               1  \\\n",
       "feature_idx                                                 (6,)   \n",
       "cv_scores      [0.8795551210649553, 0.8697820618171753, 0.874...   \n",
       "avg_score                                               0.869879   \n",
       "feature_names                            (Mental Fatigue Score,)   \n",
       "ci_bound                                                0.009122   \n",
       "std_dev                                                 0.007097   \n",
       "std_err                                                 0.003548   \n",
       "\n",
       "                                                               2  \\\n",
       "feature_idx                                               (5, 6)   \n",
       "cv_scores      [0.907161764083326, 0.896535543495723, 0.90135...   \n",
       "avg_score                                               0.897275   \n",
       "feature_names        (Resource Allocation, Mental Fatigue Score)   \n",
       "ci_bound                                                0.008584   \n",
       "std_dev                                                 0.006678   \n",
       "std_err                                                 0.003339   \n",
       "\n",
       "                                                               3  \\\n",
       "feature_idx                                            (4, 5, 6)   \n",
       "cv_scores      [0.9100334314388974, 0.8986141694573998, 0.902...   \n",
       "avg_score                                               0.899454   \n",
       "feature_names  (Designation, Resource Allocation, Mental Fati...   \n",
       "ci_bound                                                0.008592   \n",
       "std_dev                                                 0.006685   \n",
       "std_err                                                 0.003342   \n",
       "\n",
       "                                                               4  \\\n",
       "feature_idx                                         (3, 4, 5, 6)   \n",
       "cv_scores      [0.9113197443621612, 0.8992090808754988, 0.903...   \n",
       "avg_score                                               0.900928   \n",
       "feature_names  (WFH Setup Available, Designation, Resource Al...   \n",
       "ci_bound                                                0.008047   \n",
       "std_dev                                                 0.006261   \n",
       "std_err                                                  0.00313   \n",
       "\n",
       "                                                               5  \\\n",
       "feature_idx                                      (2, 3, 4, 5, 6)   \n",
       "cv_scores      [0.9107333586350557, 0.8986295095478738, 0.904...   \n",
       "avg_score                                               0.900621   \n",
       "feature_names  (Company Type, WFH Setup Available, Designatio...   \n",
       "ci_bound                                                0.008051   \n",
       "std_dev                                                 0.006264   \n",
       "std_err                                                 0.003132   \n",
       "\n",
       "                                                               6  \\\n",
       "feature_idx                                   (1, 2, 3, 4, 5, 6)   \n",
       "cv_scores      [0.9112190293886943, 0.8989834069340188, 0.903...   \n",
       "avg_score                                                 0.9007   \n",
       "feature_names  (Gender, Company Type, WFH Setup Available, De...   \n",
       "ci_bound                                                0.008159   \n",
       "std_dev                                                 0.006348   \n",
       "std_err                                                 0.003174   \n",
       "\n",
       "                                                               7  \n",
       "feature_idx                                (0, 1, 2, 3, 4, 5, 6)  \n",
       "cv_scores      [0.9106804850053196, 0.8989778083988269, 0.904...  \n",
       "avg_score                                               0.900609  \n",
       "feature_names  (Date of Joining, Gender, Company Type, WFH Se...  \n",
       "ci_bound                                                0.007955  \n",
       "std_dev                                                 0.006189  \n",
       "std_err                                                 0.003094  "
      ]
     },
     "execution_count": 17,
     "metadata": {},
     "output_type": "execute_result"
    }
   ],
   "source": [
    "pd.DataFrame(sfs_LGBM.get_metric_dict())"
   ]
  },
  {
   "cell_type": "code",
   "execution_count": 18,
   "id": "18258753",
   "metadata": {
    "ExecuteTime": {
     "end_time": "2022-10-17T05:58:22.241203Z",
     "start_time": "2022-10-17T05:58:22.226253Z"
    }
   },
   "outputs": [
    {
     "data": {
      "text/plain": [
       "('WFH Setup Available',\n",
       " 'Designation',\n",
       " 'Resource Allocation',\n",
       " 'Mental Fatigue Score')"
      ]
     },
     "execution_count": 18,
     "metadata": {},
     "output_type": "execute_result"
    }
   ],
   "source": [
    "pd.DataFrame(sfs_LGBM.get_metric_dict()).loc['feature_names',4]"
   ]
  },
  {
   "cell_type": "markdown",
   "id": "72aa7e63",
   "metadata": {},
   "source": [
    "# Hypterparameter tuning - Optuna"
   ]
  },
  {
   "cell_type": "code",
   "execution_count": 20,
   "id": "14c7d070",
   "metadata": {
    "ExecuteTime": {
     "end_time": "2022-10-17T05:58:22.273096Z",
     "start_time": "2022-10-17T05:58:22.258154Z"
    }
   },
   "outputs": [],
   "source": [
    "# 分成不同盒子 - 分層抽樣用\n",
    "def get_box(df):\n",
    "    Y1_list = []\n",
    "    for Y1 in df['Burn Rate']: \n",
    "        if (Y1 > np.percentile(df['Burn Rate'], 80)):\n",
    "            Y1_list.append('3')\n",
    "        elif (Y1 < np.percentile(df['Burn Rate'], 20)):\n",
    "            Y1_list.append('2')\n",
    "        else:\n",
    "            Y1_list.append('1')\n",
    "    df['box'] = Y1_list\n",
    "    return df"
   ]
  },
  {
   "cell_type": "code",
   "execution_count": 41,
   "id": "d1202934",
   "metadata": {
    "ExecuteTime": {
     "end_time": "2022-10-17T06:00:46.632042Z",
     "start_time": "2022-10-17T06:00:44.693735Z"
    }
   },
   "outputs": [],
   "source": [
    "# 分層抽樣因子\n",
    "df = get_box(df)\n",
    "\n",
    "X = df[df.columns[:-2]]\n",
    "y = df[df.columns[-2:]]\n",
    "\n",
    "# TODO\n",
    "X = X.loc[:,X.columns.isin(['WFH Setup Available','Designation', 'Resource Allocation', 'Mental Fatigue Score'])]\n",
    "\n",
    "X_train, X_valid, y_train, y_valid = train_test_split(X, y, test_size=0.2, random_state=42,stratify=y['box'])\n",
    "\n",
    "\n",
    "X_train.reset_index(drop=True,inplace=True)\n",
    "X_valid.reset_index(drop=True,inplace=True) \n",
    "y_train.reset_index(drop=True,inplace=True) \n",
    "y_valid.reset_index(drop=True,inplace=True)\n"
   ]
  },
  {
   "cell_type": "code",
   "execution_count": 42,
   "id": "91bd844c",
   "metadata": {
    "ExecuteTime": {
     "end_time": "2022-10-17T06:00:50.641908Z",
     "start_time": "2022-10-17T06:00:50.628993Z"
    }
   },
   "outputs": [],
   "source": [
    "def objective_lgbm(trial):\n",
    "    param = {\n",
    "        'metric': 'rmse',\n",
    "        'n_estimators': 20000,\n",
    "        'reg_alpha': trial.suggest_loguniform('reg_alpha', 1e-3, 10.0),\n",
    "        'reg_lambda': trial.suggest_loguniform('reg_lambda', 1e-3, 10.0),\n",
    "        'colsample_bytree': trial.suggest_categorical('colsample_bytree', [0.3,0.4,0.5,0.6,0.7,0.8,0.9, 1.0]),\n",
    "        'subsample': trial.suggest_categorical('subsample', [0.4,0.5,0.6,0.7,0.8,1.0]),\n",
    "        'learning_rate': trial.suggest_categorical('learning_rate', [0.006,0.008,0.01,0.014,0.017,0.02]),\n",
    "        'max_depth': trial.suggest_categorical('max_depth', [10,20,100]),\n",
    "        'num_leaves' : trial.suggest_int('num_leaves', 1, 1000),\n",
    "        'min_child_samples': trial.suggest_int('min_child_samples', 1, 300),\n",
    "        'cat_smooth' : trial.suggest_int('min_data_per_groups', 1, 100)\n",
    "    }\n",
    "    \n",
    "    model = lgbm.LGBMRegressor(**param,random_state=SEED)\n",
    "    model.fit(X_train,y_train['Burn Rate'],eval_set=[(X_valid, y_valid['Burn Rate'])],early_stopping_rounds=100,verbose=False)\n",
    "    y_pred = model.predict(X_valid)\n",
    "    pred_list = y_pred.tolist()\n",
    "    act_list = y_valid['Burn Rate'].tolist()\n",
    "\n",
    "    error_list = []   \n",
    "    for i in range(0, len(y_pred)):\n",
    "        error_list.append(abs(round(act_list[i] - pred_list[i], 4)))\n",
    "    abs_error_list_r4 =  [abs(ele) for ele in error_list]\n",
    "    \n",
    "    return sum(abs_error_list_r4)/len(abs_error_list_r4)"
   ]
  },
  {
   "cell_type": "code",
   "execution_count": 43,
   "id": "ea8140ba",
   "metadata": {
    "ExecuteTime": {
     "end_time": "2022-10-17T06:00:50.857796Z",
     "start_time": "2022-10-17T06:00:50.835870Z"
    }
   },
   "outputs": [],
   "source": [
    "#optuna to set the hyperparameter of XGBoost\n",
    "def objective_xgb(trial):\n",
    "    \n",
    "    param = {\n",
    "        'max_depth': trial.suggest_int('max_depth', 6, 15),\n",
    "        \"subsample\": trial.suggest_float(\"subsample\", 0.2, 1.0),\n",
    "        'n_estimators': trial.suggest_int('n_estimators', 500, 2000, 100),\n",
    "        'eta': trial.suggest_float(\"eta\", 1e-8, 1.0, log=True),\n",
    "        'alpha': trial.suggest_float('alpha', 1e-8, 1.0, log=True),\n",
    "        'lambda': trial.suggest_float('lambda', 1e-8, 1.0, log=True),\n",
    "        'gamma': trial.suggest_float(\"gamma\", 1e-8, 1.0, log=True),\n",
    "        'min_child_weight': trial.suggest_int('min_child_weight', 2, 10),\n",
    "        'grow_policy': trial.suggest_categorical(\"grow_policy\", [\"depthwise\", \"lossguide\"]),\n",
    "        \"colsample_bytree\": trial.suggest_float(\"colsample_bytree\", 0.2, 1.0)\n",
    "    }\n",
    "    model = xgb.XGBRegressor(**param,tree_method='gpu_hist',random_state=SEED).fit(X_train,y_train['Burn Rate'])\n",
    "    y_pred = model.predict(X_valid)\n",
    "    pred_list = y_pred.tolist()\n",
    "    act_list = y_valid['Burn Rate'].tolist()\n",
    "\n",
    "    error_list = []   \n",
    "    for i in range(0, len(y_pred)):\n",
    "        error_list.append(abs(round(act_list[i] - pred_list[i], 4)))\n",
    "    abs_error_list_r4 =  [abs(ele) for ele in error_list]\n",
    "    \n",
    "    return sum(abs_error_list_r4)/len(abs_error_list_r4)"
   ]
  },
  {
   "cell_type": "code",
   "execution_count": 44,
   "id": "54c3763d",
   "metadata": {
    "ExecuteTime": {
     "end_time": "2022-10-17T06:00:51.031143Z",
     "start_time": "2022-10-17T06:00:51.013204Z"
    }
   },
   "outputs": [],
   "source": [
    "def objective_cat(trial):\n",
    "    X_train, X_test, y_train, y_test = train_test_split(X, y, test_size=0.3)\n",
    "    param = {\n",
    "        \"loss_function\": trial.suggest_categorical(\"loss_function\", [\"RMSE\", \"MAE\"]),\n",
    "        \"learning_rate\": trial.suggest_loguniform(\"learning_rate\", 1e-5, 1e0),\n",
    "        \"l2_leaf_reg\": trial.suggest_loguniform(\"l2_leaf_reg\", 1e-2, 1e0),\n",
    "        \"colsample_bylevel\": trial.suggest_float(\"colsample_bylevel\", 0.01, 0.1),\n",
    "        \"depth\": trial.suggest_int(\"depth\", 1, 10),\n",
    "        \"boosting_type\": trial.suggest_categorical(\"boosting_type\", [\"Ordered\", \"Plain\"]),\n",
    "        \"bootstrap_type\": trial.suggest_categorical(\"bootstrap_type\", [\"Bayesian\", \"Bernoulli\", \"MVS\"]),\n",
    "        \"min_data_in_leaf\": trial.suggest_int(\"min_data_in_leaf\", 2, 20),\n",
    "        \"one_hot_max_size\": trial.suggest_int(\"one_hot_max_size\", 2, 20),  \n",
    "    }\n",
    "    # Conditional Hyper-Parameters\n",
    "    if param[\"bootstrap_type\"] == \"Bayesian\":\n",
    "        param[\"bagging_temperature\"] = trial.suggest_float(\"bagging_temperature\", 0, 10)\n",
    "    elif param[\"bootstrap_type\"] == \"Bernoulli\":\n",
    "        param[\"subsample\"] = trial.suggest_float(\"subsample\", 0.1, 1)\n",
    "\n",
    "    reg = cb.CatBoostRegressor(**param)\n",
    "    reg.fit(X_train, y_train['Burn Rate'], verbose=0, early_stopping_rounds=100)\n",
    "    y_pred = reg.predict(X_valid)\n",
    "    pred_list = y_pred.tolist()\n",
    "    act_list = y_valid['Burn Rate'].tolist()\n",
    "\n",
    "    error_list = []   \n",
    "    for i in range(0, len(y_pred)):\n",
    "        error_list.append(abs(round(act_list[i] - pred_list[i], 4)))\n",
    "    abs_error_list_r4 =  [abs(ele) for ele in error_list]\n",
    "    \n",
    "    return sum(abs_error_list_r4)/len(abs_error_list_r4)"
   ]
  },
  {
   "cell_type": "code",
   "execution_count": 45,
   "id": "16b45d53",
   "metadata": {
    "ExecuteTime": {
     "end_time": "2022-10-17T06:00:51.200920Z",
     "start_time": "2022-10-17T06:00:51.196977Z"
    }
   },
   "outputs": [],
   "source": [
    "# # optuna\n",
    "# study_xgb = optuna.create_study(direction=\"minimize\")\n",
    "# study_xgb.optimize(objective_xgb, n_trials=100)"
   ]
  },
  {
   "cell_type": "code",
   "execution_count": 46,
   "id": "266ef6b7",
   "metadata": {
    "ExecuteTime": {
     "end_time": "2022-10-17T06:00:51.404050Z",
     "start_time": "2022-10-17T06:00:51.387106Z"
    }
   },
   "outputs": [],
   "source": [
    "# # optuna\n",
    "# study_cat = optuna.create_study(direction=\"minimize\")\n",
    "# study_cat.optimize(objective_cat, n_trials=100)"
   ]
  },
  {
   "cell_type": "code",
   "execution_count": 47,
   "id": "93f44824",
   "metadata": {
    "ExecuteTime": {
     "end_time": "2022-10-17T06:02:12.298720Z",
     "start_time": "2022-10-17T06:00:51.596977Z"
    }
   },
   "outputs": [
    {
     "name": "stderr",
     "output_type": "stream",
     "text": [
      "\u001b[32m[I 2022-10-17 14:00:51,599]\u001b[0m A new study created in memory with name: no-name-f82855f7-4cd6-419d-ad6e-0dc5727f77e7\u001b[0m\n",
      "C:\\Users\\USER\\AppData\\Local\\Temp\\ipykernel_9740\\3053857354.py:5: FutureWarning: suggest_loguniform has been deprecated in v3.0.0. This feature will be removed in v6.0.0. See https://github.com/optuna/optuna/releases/tag/v3.0.0. Use :func:`~optuna.trial.Trial.suggest_float` instead.\n",
      "  'reg_alpha': trial.suggest_loguniform('reg_alpha', 1e-3, 10.0),\n",
      "C:\\Users\\USER\\AppData\\Local\\Temp\\ipykernel_9740\\3053857354.py:6: FutureWarning: suggest_loguniform has been deprecated in v3.0.0. This feature will be removed in v6.0.0. See https://github.com/optuna/optuna/releases/tag/v3.0.0. Use :func:`~optuna.trial.Trial.suggest_float` instead.\n",
      "  'reg_lambda': trial.suggest_loguniform('reg_lambda', 1e-3, 10.0),\n",
      "C:\\Users\\USER\\anaconda3\\envs\\tensorflow_new\\lib\\site-packages\\lightgbm\\sklearn.py:726: UserWarning: 'early_stopping_rounds' argument is deprecated and will be removed in a future release of LightGBM. Pass 'early_stopping()' callback via 'callbacks' argument instead.\n",
      "  _log_warning(\"'early_stopping_rounds' argument is deprecated and will be removed in a future release of LightGBM. \"\n",
      "C:\\Users\\USER\\anaconda3\\envs\\tensorflow_new\\lib\\site-packages\\lightgbm\\sklearn.py:736: UserWarning: 'verbose' argument is deprecated and will be removed in a future release of LightGBM. Pass 'log_evaluation()' callback via 'callbacks' argument instead.\n",
      "  _log_warning(\"'verbose' argument is deprecated and will be removed in a future release of LightGBM. \"\n",
      "\u001b[32m[I 2022-10-17 14:00:53,345]\u001b[0m Trial 0 finished with value: 0.050553506493506525 and parameters: {'reg_alpha': 0.002182348947481417, 'reg_lambda': 0.032720284400372536, 'colsample_bytree': 0.6, 'subsample': 1.0, 'learning_rate': 0.008, 'max_depth': 100, 'num_leaves': 650, 'min_child_samples': 173, 'min_data_per_groups': 60}. Best is trial 0 with value: 0.050553506493506525.\u001b[0m\n",
      "\u001b[32m[I 2022-10-17 14:00:54,173]\u001b[0m Trial 1 finished with value: 0.0505870649350649 and parameters: {'reg_alpha': 0.017058918778747555, 'reg_lambda': 2.6720339379629436, 'colsample_bytree': 0.6, 'subsample': 0.8, 'learning_rate': 0.017, 'max_depth': 10, 'num_leaves': 779, 'min_child_samples': 129, 'min_data_per_groups': 68}. Best is trial 0 with value: 0.050553506493506525.\u001b[0m\n",
      "\u001b[32m[I 2022-10-17 14:00:57,981]\u001b[0m Trial 2 finished with value: 0.05119174025974025 and parameters: {'reg_alpha': 0.7607274694302281, 'reg_lambda': 0.001452845800264623, 'colsample_bytree': 0.3, 'subsample': 1.0, 'learning_rate': 0.008, 'max_depth': 20, 'num_leaves': 824, 'min_child_samples': 1, 'min_data_per_groups': 74}. Best is trial 0 with value: 0.050553506493506525.\u001b[0m\n",
      "\u001b[32m[I 2022-10-17 14:01:01,420]\u001b[0m Trial 3 finished with value: 0.051814857142857114 and parameters: {'reg_alpha': 3.728134785319666, 'reg_lambda': 0.0034308400485625785, 'colsample_bytree': 0.5, 'subsample': 0.5, 'learning_rate': 0.006, 'max_depth': 100, 'num_leaves': 716, 'min_child_samples': 121, 'min_data_per_groups': 15}. Best is trial 0 with value: 0.050553506493506525.\u001b[0m\n",
      "\u001b[32m[I 2022-10-17 14:01:01,945]\u001b[0m Trial 4 finished with value: 0.050686805194805125 and parameters: {'reg_alpha': 0.06954752073206341, 'reg_lambda': 0.1290841781823231, 'colsample_bytree': 0.4, 'subsample': 0.5, 'learning_rate': 0.017, 'max_depth': 10, 'num_leaves': 124, 'min_child_samples': 71, 'min_data_per_groups': 74}. Best is trial 0 with value: 0.050553506493506525.\u001b[0m\n",
      "\u001b[32m[I 2022-10-17 14:01:02,157]\u001b[0m Trial 5 finished with value: 0.05039418181818188 and parameters: {'reg_alpha': 0.012265810175961865, 'reg_lambda': 3.0735534188221765, 'colsample_bytree': 0.7, 'subsample': 1.0, 'learning_rate': 0.02, 'max_depth': 20, 'num_leaves': 708, 'min_child_samples': 201, 'min_data_per_groups': 70}. Best is trial 5 with value: 0.05039418181818188.\u001b[0m\n",
      "\u001b[32m[I 2022-10-17 14:01:03,794]\u001b[0m Trial 6 finished with value: 0.05187677922077925 and parameters: {'reg_alpha': 0.23698615444600374, 'reg_lambda': 0.1261602547651101, 'colsample_bytree': 0.5, 'subsample': 0.6, 'learning_rate': 0.006, 'max_depth': 10, 'num_leaves': 89, 'min_child_samples': 253, 'min_data_per_groups': 46}. Best is trial 5 with value: 0.05039418181818188.\u001b[0m\n",
      "\u001b[32m[I 2022-10-17 14:01:04,108]\u001b[0m Trial 7 finished with value: 0.051788519480519477 and parameters: {'reg_alpha': 0.0017505373774000538, 'reg_lambda': 0.05815400035193369, 'colsample_bytree': 1.0, 'subsample': 0.6, 'learning_rate': 0.01, 'max_depth': 20, 'num_leaves': 247, 'min_child_samples': 273, 'min_data_per_groups': 69}. Best is trial 5 with value: 0.05039418181818188.\u001b[0m\n",
      "\u001b[32m[I 2022-10-17 14:01:07,248]\u001b[0m Trial 8 finished with value: 0.05205631168831173 and parameters: {'reg_alpha': 4.496764847369335, 'reg_lambda': 0.08305892233834919, 'colsample_bytree': 0.3, 'subsample': 0.4, 'learning_rate': 0.006, 'max_depth': 10, 'num_leaves': 820, 'min_child_samples': 38, 'min_data_per_groups': 100}. Best is trial 5 with value: 0.05039418181818188.\u001b[0m\n",
      "\u001b[32m[I 2022-10-17 14:01:08,502]\u001b[0m Trial 9 finished with value: 0.05069309090909085 and parameters: {'reg_alpha': 0.3387359479541054, 'reg_lambda': 0.026898579877198903, 'colsample_bytree': 0.6, 'subsample': 0.6, 'learning_rate': 0.01, 'max_depth': 100, 'num_leaves': 960, 'min_child_samples': 74, 'min_data_per_groups': 76}. Best is trial 5 with value: 0.05039418181818188.\u001b[0m\n",
      "\u001b[32m[I 2022-10-17 14:01:08,716]\u001b[0m Trial 10 finished with value: 0.05044233766233772 and parameters: {'reg_alpha': 0.013411910140283298, 'reg_lambda': 4.821697953079335, 'colsample_bytree': 0.7, 'subsample': 0.7, 'learning_rate': 0.02, 'max_depth': 20, 'num_leaves': 422, 'min_child_samples': 215, 'min_data_per_groups': 34}. Best is trial 5 with value: 0.05039418181818188.\u001b[0m\n",
      "\u001b[32m[I 2022-10-17 14:01:08,938]\u001b[0m Trial 11 finished with value: 0.05041646753246752 and parameters: {'reg_alpha': 0.01353012595271623, 'reg_lambda': 9.632479881094207, 'colsample_bytree': 0.7, 'subsample': 0.7, 'learning_rate': 0.02, 'max_depth': 20, 'num_leaves': 467, 'min_child_samples': 207, 'min_data_per_groups': 33}. Best is trial 5 with value: 0.05039418181818188.\u001b[0m\n",
      "\u001b[32m[I 2022-10-17 14:01:09,140]\u001b[0m Trial 12 finished with value: 0.050057922077922014 and parameters: {'reg_alpha': 0.015416885962528933, 'reg_lambda': 1.3515296217992367, 'colsample_bytree': 0.7, 'subsample': 0.7, 'learning_rate': 0.02, 'max_depth': 20, 'num_leaves': 482, 'min_child_samples': 195, 'min_data_per_groups': 26}. Best is trial 12 with value: 0.050057922077922014.\u001b[0m\n",
      "\u001b[32m[I 2022-10-17 14:01:09,418]\u001b[0m Trial 13 finished with value: 0.050013558441558394 and parameters: {'reg_alpha': 0.04345086985185376, 'reg_lambda': 0.9633908550675213, 'colsample_bytree': 0.9, 'subsample': 1.0, 'learning_rate': 0.02, 'max_depth': 20, 'num_leaves': 589, 'min_child_samples': 176, 'min_data_per_groups': 1}. Best is trial 13 with value: 0.050013558441558394.\u001b[0m\n",
      "\u001b[32m[I 2022-10-17 14:01:09,862]\u001b[0m Trial 14 finished with value: 0.049985662337662384 and parameters: {'reg_alpha': 0.05143898541856542, 'reg_lambda': 0.8637236820808109, 'colsample_bytree': 0.9, 'subsample': 0.7, 'learning_rate': 0.014, 'max_depth': 20, 'num_leaves': 341, 'min_child_samples': 160, 'min_data_per_groups': 2}. Best is trial 14 with value: 0.049985662337662384.\u001b[0m\n",
      "\u001b[32m[I 2022-10-17 14:01:10,193]\u001b[0m Trial 15 finished with value: 0.04994540259740256 and parameters: {'reg_alpha': 0.04515832778160333, 'reg_lambda': 0.41043872171207335, 'colsample_bytree': 0.9, 'subsample': 0.8, 'learning_rate': 0.014, 'max_depth': 20, 'num_leaves': 295, 'min_child_samples': 152, 'min_data_per_groups': 4}. Best is trial 15 with value: 0.04994540259740256.\u001b[0m\n",
      "\u001b[32m[I 2022-10-17 14:01:10,458]\u001b[0m Trial 16 finished with value: 0.04999854545454556 and parameters: {'reg_alpha': 1.0439717892935432, 'reg_lambda': 0.45848026444377, 'colsample_bytree': 0.9, 'subsample': 0.8, 'learning_rate': 0.014, 'max_depth': 20, 'num_leaves': 305, 'min_child_samples': 130, 'min_data_per_groups': 2}. Best is trial 15 with value: 0.04994540259740256.\u001b[0m\n",
      "\u001b[32m[I 2022-10-17 14:01:10,802]\u001b[0m Trial 17 finished with value: 0.049747844155844115 and parameters: {'reg_alpha': 0.1729167878122619, 'reg_lambda': 0.3710426777885769, 'colsample_bytree': 0.8, 'subsample': 0.8, 'learning_rate': 0.014, 'max_depth': 20, 'num_leaves': 296, 'min_child_samples': 99, 'min_data_per_groups': 15}. Best is trial 17 with value: 0.049747844155844115.\u001b[0m\n"
     ]
    },
    {
     "name": "stderr",
     "output_type": "stream",
     "text": [
      "\u001b[32m[I 2022-10-17 14:01:11,103]\u001b[0m Trial 18 finished with value: 0.04972540259740269 and parameters: {'reg_alpha': 0.1669623158201437, 'reg_lambda': 0.3801116469200146, 'colsample_bytree': 0.8, 'subsample': 0.8, 'learning_rate': 0.014, 'max_depth': 20, 'num_leaves': 195, 'min_child_samples': 84, 'min_data_per_groups': 16}. Best is trial 18 with value: 0.04972540259740269.\u001b[0m\n",
      "\u001b[32m[I 2022-10-17 14:01:11,493]\u001b[0m Trial 19 finished with value: 0.05000618181818182 and parameters: {'reg_alpha': 0.16379250507222956, 'reg_lambda': 0.24027663083774825, 'colsample_bytree': 0.8, 'subsample': 0.8, 'learning_rate': 0.014, 'max_depth': 100, 'num_leaves': 6, 'min_child_samples': 92, 'min_data_per_groups': 19}. Best is trial 18 with value: 0.04972540259740269.\u001b[0m\n",
      "\u001b[32m[I 2022-10-17 14:01:11,979]\u001b[0m Trial 20 finished with value: 0.05011200000000001 and parameters: {'reg_alpha': 1.2769292026081225, 'reg_lambda': 0.018203381141784953, 'colsample_bytree': 0.8, 'subsample': 0.8, 'learning_rate': 0.014, 'max_depth': 20, 'num_leaves': 186, 'min_child_samples': 48, 'min_data_per_groups': 43}. Best is trial 18 with value: 0.04972540259740269.\u001b[0m\n",
      "\u001b[32m[I 2022-10-17 14:01:12,276]\u001b[0m Trial 21 finished with value: 0.049690597402597396 and parameters: {'reg_alpha': 0.13203643982585908, 'reg_lambda': 0.33193502764718485, 'colsample_bytree': 0.8, 'subsample': 0.8, 'learning_rate': 0.014, 'max_depth': 20, 'num_leaves': 361, 'min_child_samples': 99, 'min_data_per_groups': 13}. Best is trial 21 with value: 0.049690597402597396.\u001b[0m\n",
      "\u001b[32m[I 2022-10-17 14:01:12,686]\u001b[0m Trial 22 finished with value: 0.04982046753246757 and parameters: {'reg_alpha': 0.5188141430748504, 'reg_lambda': 0.2420162532093897, 'colsample_bytree': 0.8, 'subsample': 0.8, 'learning_rate': 0.014, 'max_depth': 20, 'num_leaves': 381, 'min_child_samples': 103, 'min_data_per_groups': 17}. Best is trial 21 with value: 0.049690597402597396.\u001b[0m\n",
      "\u001b[32m[I 2022-10-17 14:01:13,097]\u001b[0m Trial 23 finished with value: 0.04973735064935065 and parameters: {'reg_alpha': 0.1494418516941459, 'reg_lambda': 0.5101921183943066, 'colsample_bytree': 0.8, 'subsample': 0.8, 'learning_rate': 0.014, 'max_depth': 20, 'num_leaves': 208, 'min_child_samples': 26, 'min_data_per_groups': 26}. Best is trial 21 with value: 0.049690597402597396.\u001b[0m\n",
      "\u001b[32m[I 2022-10-17 14:01:13,518]\u001b[0m Trial 24 finished with value: 0.04967366233766243 and parameters: {'reg_alpha': 0.08178686711151918, 'reg_lambda': 0.009949412250782844, 'colsample_bytree': 0.8, 'subsample': 0.4, 'learning_rate': 0.014, 'max_depth': 20, 'num_leaves': 154, 'min_child_samples': 19, 'min_data_per_groups': 26}. Best is trial 24 with value: 0.04967366233766243.\u001b[0m\n",
      "\u001b[32m[I 2022-10-17 14:01:14,030]\u001b[0m Trial 25 finished with value: 0.05042280519480506 and parameters: {'reg_alpha': 2.176486080542615, 'reg_lambda': 0.012759191771903952, 'colsample_bytree': 0.8, 'subsample': 0.4, 'learning_rate': 0.014, 'max_depth': 20, 'num_leaves': 14, 'min_child_samples': 3, 'min_data_per_groups': 11}. Best is trial 24 with value: 0.04967366233766243.\u001b[0m\n",
      "\u001b[32m[I 2022-10-17 14:01:14,407]\u001b[0m Trial 26 finished with value: 0.04972062337662337 and parameters: {'reg_alpha': 0.004620495233693712, 'reg_lambda': 0.007895010617773437, 'colsample_bytree': 0.8, 'subsample': 0.4, 'learning_rate': 0.014, 'max_depth': 20, 'num_leaves': 175, 'min_child_samples': 56, 'min_data_per_groups': 26}. Best is trial 24 with value: 0.04967366233766243.\u001b[0m\n",
      "\u001b[32m[I 2022-10-17 14:01:15,209]\u001b[0m Trial 27 finished with value: 0.05076051948051945 and parameters: {'reg_alpha': 0.0048891383193332355, 'reg_lambda': 0.00745882516253399, 'colsample_bytree': 0.4, 'subsample': 0.4, 'learning_rate': 0.014, 'max_depth': 20, 'num_leaves': 112, 'min_child_samples': 52, 'min_data_per_groups': 37}. Best is trial 24 with value: 0.04967366233766243.\u001b[0m\n",
      "\u001b[32m[I 2022-10-17 14:01:15,446]\u001b[0m Trial 28 finished with value: 0.052033974025974046 and parameters: {'reg_alpha': 8.92551505207948, 'reg_lambda': 0.001017116948573729, 'colsample_bytree': 1.0, 'subsample': 0.4, 'learning_rate': 0.017, 'max_depth': 10, 'num_leaves': 74, 'min_child_samples': 19, 'min_data_per_groups': 25}. Best is trial 24 with value: 0.04967366233766243.\u001b[0m\n",
      "\u001b[32m[I 2022-10-17 14:01:16,140]\u001b[0m Trial 29 finished with value: 0.04972753246753254 and parameters: {'reg_alpha': 0.0033171600541234423, 'reg_lambda': 0.005100744940378058, 'colsample_bytree': 0.8, 'subsample': 0.4, 'learning_rate': 0.008, 'max_depth': 100, 'num_leaves': 552, 'min_child_samples': 59, 'min_data_per_groups': 59}. Best is trial 24 with value: 0.04967366233766243.\u001b[0m\n",
      "\u001b[32m[I 2022-10-17 14:01:16,860]\u001b[0m Trial 30 finished with value: 0.04976290909090894 and parameters: {'reg_alpha': 0.001085838620707042, 'reg_lambda': 0.044013522592293144, 'colsample_bytree': 0.8, 'subsample': 0.4, 'learning_rate': 0.01, 'max_depth': 100, 'num_leaves': 398, 'min_child_samples': 37, 'min_data_per_groups': 55}. Best is trial 24 with value: 0.04967366233766243.\u001b[0m\n",
      "\u001b[32m[I 2022-10-17 14:01:17,196]\u001b[0m Trial 31 finished with value: 0.04969225974025991 and parameters: {'reg_alpha': 0.02570191044555547, 'reg_lambda': 0.008885397093211511, 'colsample_bytree': 0.8, 'subsample': 0.4, 'learning_rate': 0.014, 'max_depth': 20, 'num_leaves': 176, 'min_child_samples': 77, 'min_data_per_groups': 11}. Best is trial 24 with value: 0.04967366233766243.\u001b[0m\n",
      "\u001b[32m[I 2022-10-17 14:01:17,541]\u001b[0m Trial 32 finished with value: 0.049753766233766254 and parameters: {'reg_alpha': 0.005992961336884873, 'reg_lambda': 0.0026275680793969034, 'colsample_bytree': 0.8, 'subsample': 0.4, 'learning_rate': 0.014, 'max_depth': 20, 'num_leaves': 240, 'min_child_samples': 111, 'min_data_per_groups': 9}. Best is trial 24 with value: 0.04967366233766243.\u001b[0m\n",
      "\u001b[32m[I 2022-10-17 14:01:18,102]\u001b[0m Trial 33 finished with value: 0.04970322077922081 and parameters: {'reg_alpha': 0.030243452979937455, 'reg_lambda': 0.008861141533048377, 'colsample_bytree': 0.8, 'subsample': 0.4, 'learning_rate': 0.008, 'max_depth': 20, 'num_leaves': 147, 'min_child_samples': 65, 'min_data_per_groups': 23}. Best is trial 24 with value: 0.04967366233766243.\u001b[0m\n",
      "\u001b[32m[I 2022-10-17 14:01:19,630]\u001b[0m Trial 34 finished with value: 0.050594545454545496 and parameters: {'reg_alpha': 0.026381290970558816, 'reg_lambda': 0.013955404379167407, 'colsample_bytree': 0.6, 'subsample': 0.4, 'learning_rate': 0.008, 'max_depth': 20, 'num_leaves': 148, 'min_child_samples': 131, 'min_data_per_groups': 9}. Best is trial 24 with value: 0.04967366233766243.\u001b[0m\n",
      "\u001b[32m[I 2022-10-17 14:01:21,527]\u001b[0m Trial 35 finished with value: 0.051411324675324666 and parameters: {'reg_alpha': 0.08956368021916764, 'reg_lambda': 0.002181216063461497, 'colsample_bytree': 0.3, 'subsample': 0.5, 'learning_rate': 0.008, 'max_depth': 20, 'num_leaves': 40, 'min_child_samples': 14, 'min_data_per_groups': 22}. Best is trial 24 with value: 0.04967366233766243.\u001b[0m\n",
      "\u001b[32m[I 2022-10-17 14:01:22,682]\u001b[0m Trial 36 finished with value: 0.05060862337662338 and parameters: {'reg_alpha': 0.028596453990066186, 'reg_lambda': 0.02538652737329208, 'colsample_bytree': 0.5, 'subsample': 0.4, 'learning_rate': 0.008, 'max_depth': 10, 'num_leaves': 265, 'min_child_samples': 79, 'min_data_per_groups': 32}. Best is trial 24 with value: 0.04967366233766243.\u001b[0m\n",
      "\u001b[32m[I 2022-10-17 14:01:23,392]\u001b[0m Trial 37 finished with value: 0.05060477922077925 and parameters: {'reg_alpha': 0.0908114260039733, 'reg_lambda': 0.004412443354144466, 'colsample_bytree': 0.4, 'subsample': 0.5, 'learning_rate': 0.017, 'max_depth': 20, 'num_leaves': 353, 'min_child_samples': 116, 'min_data_per_groups': 41}. Best is trial 24 with value: 0.04967366233766243.\u001b[0m\n",
      "\u001b[32m[I 2022-10-17 14:01:23,937]\u001b[0m Trial 38 finished with value: 0.0496531948051948 and parameters: {'reg_alpha': 0.008419913927116343, 'reg_lambda': 0.008747243416320506, 'colsample_bytree': 0.8, 'subsample': 1.0, 'learning_rate': 0.008, 'max_depth': 20, 'num_leaves': 120, 'min_child_samples': 66, 'min_data_per_groups': 10}. Best is trial 38 with value: 0.0496531948051948.\u001b[0m\n",
      "\u001b[32m[I 2022-10-17 14:01:24,631]\u001b[0m Trial 39 finished with value: 0.04966135064935058 and parameters: {'reg_alpha': 0.00930553007296192, 'reg_lambda': 0.08292366000391119, 'colsample_bytree': 1.0, 'subsample': 1.0, 'learning_rate': 0.006, 'max_depth': 10, 'num_leaves': 70, 'min_child_samples': 37, 'min_data_per_groups': 10}. Best is trial 38 with value: 0.0496531948051948.\u001b[0m\n"
     ]
    },
    {
     "name": "stderr",
     "output_type": "stream",
     "text": [
      "\u001b[32m[I 2022-10-17 14:01:25,476]\u001b[0m Trial 40 finished with value: 0.04986638961038953 and parameters: {'reg_alpha': 0.008981507537135615, 'reg_lambda': 0.07595015370503772, 'colsample_bytree': 1.0, 'subsample': 1.0, 'learning_rate': 0.006, 'max_depth': 10, 'num_leaves': 81, 'min_child_samples': 33, 'min_data_per_groups': 6}. Best is trial 38 with value: 0.0496531948051948.\u001b[0m\n",
      "\u001b[32m[I 2022-10-17 14:01:26,591]\u001b[0m Trial 41 finished with value: 0.05015163636363642 and parameters: {'reg_alpha': 0.008027311742207638, 'reg_lambda': 0.15435926373975242, 'colsample_bytree': 1.0, 'subsample': 1.0, 'learning_rate': 0.006, 'max_depth': 10, 'num_leaves': 138, 'min_child_samples': 7, 'min_data_per_groups': 11}. Best is trial 38 with value: 0.0496531948051948.\u001b[0m\n",
      "\u001b[32m[I 2022-10-17 14:01:27,320]\u001b[0m Trial 42 finished with value: 0.04980275324675317 and parameters: {'reg_alpha': 0.02111506614046251, 'reg_lambda': 0.029246703343915416, 'colsample_bytree': 1.0, 'subsample': 1.0, 'learning_rate': 0.006, 'max_depth': 10, 'num_leaves': 73, 'min_child_samples': 46, 'min_data_per_groups': 12}. Best is trial 38 with value: 0.0496531948051948.\u001b[0m\n",
      "\u001b[32m[I 2022-10-17 14:01:29,042]\u001b[0m Trial 43 finished with value: 0.05060950649350656 and parameters: {'reg_alpha': 0.0030737664192413356, 'reg_lambda': 0.018315436574159155, 'colsample_bytree': 0.5, 'subsample': 1.0, 'learning_rate': 0.006, 'max_depth': 10, 'num_leaves': 229, 'min_child_samples': 69, 'min_data_per_groups': 20}. Best is trial 38 with value: 0.0496531948051948.\u001b[0m\n",
      "\u001b[32m[I 2022-10-17 14:01:30,534]\u001b[0m Trial 44 finished with value: 0.05120602597402602 and parameters: {'reg_alpha': 0.32377686873396083, 'reg_lambda': 0.04600737391549602, 'colsample_bytree': 0.3, 'subsample': 1.0, 'learning_rate': 0.01, 'max_depth': 10, 'num_leaves': 111, 'min_child_samples': 83, 'min_data_per_groups': 85}. Best is trial 38 with value: 0.0496531948051948.\u001b[0m\n",
      "\u001b[32m[I 2022-10-17 14:01:31,551]\u001b[0m Trial 45 finished with value: 0.050559168831168844 and parameters: {'reg_alpha': 0.01125736732425632, 'reg_lambda': 0.004954903225913173, 'colsample_bytree': 0.6, 'subsample': 0.6, 'learning_rate': 0.008, 'max_depth': 100, 'num_leaves': 47, 'min_child_samples': 26, 'min_data_per_groups': 6}. Best is trial 38 with value: 0.0496531948051948.\u001b[0m\n",
      "\u001b[32m[I 2022-10-17 14:01:32,457]\u001b[0m Trial 46 finished with value: 0.049668727272727274 and parameters: {'reg_alpha': 0.06419175623750925, 'reg_lambda': 0.0019097270691822911, 'colsample_bytree': 0.8, 'subsample': 1.0, 'learning_rate': 0.006, 'max_depth': 20, 'num_leaves': 432, 'min_child_samples': 43, 'min_data_per_groups': 29}. Best is trial 38 with value: 0.0496531948051948.\u001b[0m\n",
      "\u001b[32m[I 2022-10-17 14:01:33,213]\u001b[0m Trial 47 finished with value: 0.049643480519480594 and parameters: {'reg_alpha': 0.4483757871086275, 'reg_lambda': 0.001769537949336471, 'colsample_bytree': 1.0, 'subsample': 1.0, 'learning_rate': 0.006, 'max_depth': 10, 'num_leaves': 534, 'min_child_samples': 41, 'min_data_per_groups': 30}. Best is trial 47 with value: 0.049643480519480594.\u001b[0m\n",
      "\u001b[32m[I 2022-10-17 14:01:33,937]\u001b[0m Trial 48 finished with value: 0.04957890909090913 and parameters: {'reg_alpha': 0.30461935600545026, 'reg_lambda': 0.0012675259788404649, 'colsample_bytree': 1.0, 'subsample': 1.0, 'learning_rate': 0.006, 'max_depth': 10, 'num_leaves': 669, 'min_child_samples': 42, 'min_data_per_groups': 50}. Best is trial 48 with value: 0.04957890909090913.\u001b[0m\n",
      "\u001b[32m[I 2022-10-17 14:01:34,845]\u001b[0m Trial 49 finished with value: 0.049725090909090885 and parameters: {'reg_alpha': 0.593692874646238, 'reg_lambda': 0.0017078714291649281, 'colsample_bytree': 1.0, 'subsample': 1.0, 'learning_rate': 0.006, 'max_depth': 10, 'num_leaves': 721, 'min_child_samples': 45, 'min_data_per_groups': 31}. Best is trial 48 with value: 0.04957890909090913.\u001b[0m\n",
      "\u001b[32m[I 2022-10-17 14:01:35,521]\u001b[0m Trial 50 finished with value: 0.04977672727272721 and parameters: {'reg_alpha': 0.3163128603704079, 'reg_lambda': 0.0012448242421505124, 'colsample_bytree': 1.0, 'subsample': 1.0, 'learning_rate': 0.006, 'max_depth': 10, 'num_leaves': 639, 'min_child_samples': 64, 'min_data_per_groups': 48}. Best is trial 48 with value: 0.04957890909090913.\u001b[0m\n",
      "\u001b[32m[I 2022-10-17 14:01:36,909]\u001b[0m Trial 51 finished with value: 0.04996903896103897 and parameters: {'reg_alpha': 0.05897519525849077, 'reg_lambda': 0.0030718434226951947, 'colsample_bytree': 1.0, 'subsample': 1.0, 'learning_rate': 0.006, 'max_depth': 10, 'num_leaves': 548, 'min_child_samples': 17, 'min_data_per_groups': 53}. Best is trial 48 with value: 0.04957890909090913.\u001b[0m\n",
      "\u001b[32m[I 2022-10-17 14:01:38,012]\u001b[0m Trial 52 finished with value: 0.04957231168831157 and parameters: {'reg_alpha': 0.46110656340876777, 'reg_lambda': 0.0016760288607302332, 'colsample_bytree': 1.0, 'subsample': 1.0, 'learning_rate': 0.006, 'max_depth': 10, 'num_leaves': 948, 'min_child_samples': 32, 'min_data_per_groups': 38}. Best is trial 52 with value: 0.04957231168831157.\u001b[0m\n",
      "\u001b[32m[I 2022-10-17 14:01:39,198]\u001b[0m Trial 53 finished with value: 0.04985480519480513 and parameters: {'reg_alpha': 1.1416299323848502, 'reg_lambda': 0.0020460973789186918, 'colsample_bytree': 1.0, 'subsample': 1.0, 'learning_rate': 0.006, 'max_depth': 10, 'num_leaves': 938, 'min_child_samples': 34, 'min_data_per_groups': 38}. Best is trial 52 with value: 0.04957231168831157.\u001b[0m\n",
      "\u001b[32m[I 2022-10-17 14:01:40,210]\u001b[0m Trial 54 finished with value: 0.051338961038960955 and parameters: {'reg_alpha': 0.4411229555790275, 'reg_lambda': 0.0014778661999561714, 'colsample_bytree': 1.0, 'subsample': 1.0, 'learning_rate': 0.006, 'max_depth': 10, 'num_leaves': 881, 'min_child_samples': 242, 'min_data_per_groups': 45}. Best is trial 52 with value: 0.04957231168831157.\u001b[0m\n",
      "\u001b[32m[I 2022-10-17 14:01:41,052]\u001b[0m Trial 55 finished with value: 0.049731272727272714 and parameters: {'reg_alpha': 0.7900182093410414, 'reg_lambda': 0.003418454826538888, 'colsample_bytree': 1.0, 'subsample': 1.0, 'learning_rate': 0.006, 'max_depth': 10, 'num_leaves': 737, 'min_child_samples': 41, 'min_data_per_groups': 30}. Best is trial 52 with value: 0.04957231168831157.\u001b[0m\n",
      "\u001b[32m[I 2022-10-17 14:01:41,512]\u001b[0m Trial 56 finished with value: 0.052154545454545384 and parameters: {'reg_alpha': 1.550524497629485, 'reg_lambda': 0.0010594768416652244, 'colsample_bytree': 1.0, 'subsample': 1.0, 'learning_rate': 0.006, 'max_depth': 10, 'num_leaves': 1000, 'min_child_samples': 295, 'min_data_per_groups': 37}. Best is trial 52 with value: 0.04957231168831157.\u001b[0m\n",
      "\u001b[32m[I 2022-10-17 14:01:42,371]\u001b[0m Trial 57 finished with value: 0.049682805194805245 and parameters: {'reg_alpha': 0.24508204601025493, 'reg_lambda': 0.0016709973452543937, 'colsample_bytree': 0.7, 'subsample': 1.0, 'learning_rate': 0.006, 'max_depth': 10, 'num_leaves': 452, 'min_child_samples': 2, 'min_data_per_groups': 62}. Best is trial 52 with value: 0.04957231168831157.\u001b[0m\n",
      "\u001b[32m[I 2022-10-17 14:01:43,194]\u001b[0m Trial 58 finished with value: 0.04966083116883115 and parameters: {'reg_alpha': 0.2247984997513716, 'reg_lambda': 0.005812659272685182, 'colsample_bytree': 1.0, 'subsample': 1.0, 'learning_rate': 0.006, 'max_depth': 10, 'num_leaves': 654, 'min_child_samples': 30, 'min_data_per_groups': 49}. Best is trial 52 with value: 0.04957231168831157.\u001b[0m\n",
      "\u001b[32m[I 2022-10-17 14:01:43,978]\u001b[0m Trial 59 finished with value: 0.04977205194805194 and parameters: {'reg_alpha': 0.20832195771559486, 'reg_lambda': 0.006022845850698988, 'colsample_bytree': 1.0, 'subsample': 1.0, 'learning_rate': 0.006, 'max_depth': 10, 'num_leaves': 646, 'min_child_samples': 57, 'min_data_per_groups': 49}. Best is trial 52 with value: 0.04957231168831157.\u001b[0m\n",
      "\u001b[32m[I 2022-10-17 14:01:44,675]\u001b[0m Trial 60 finished with value: 0.049683896103896195 and parameters: {'reg_alpha': 0.7787674658757562, 'reg_lambda': 0.0026521400301293945, 'colsample_bytree': 1.0, 'subsample': 0.7, 'learning_rate': 0.006, 'max_depth': 10, 'num_leaves': 513, 'min_child_samples': 31, 'min_data_per_groups': 61}. Best is trial 52 with value: 0.04957231168831157.\u001b[0m\n",
      "\u001b[32m[I 2022-10-17 14:01:45,788]\u001b[0m Trial 61 finished with value: 0.049689142857142855 and parameters: {'reg_alpha': 0.11065742422941335, 'reg_lambda': 0.0039049846953008297, 'colsample_bytree': 1.0, 'subsample': 1.0, 'learning_rate': 0.006, 'max_depth': 10, 'num_leaves': 818, 'min_child_samples': 22, 'min_data_per_groups': 41}. Best is trial 52 with value: 0.04957231168831157.\u001b[0m\n"
     ]
    },
    {
     "name": "stderr",
     "output_type": "stream",
     "text": [
      "\u001b[32m[I 2022-10-17 14:01:46,494]\u001b[0m Trial 62 finished with value: 0.04977968831168841 and parameters: {'reg_alpha': 0.4264922467896754, 'reg_lambda': 0.002103819580081347, 'colsample_bytree': 1.0, 'subsample': 1.0, 'learning_rate': 0.006, 'max_depth': 10, 'num_leaves': 679, 'min_child_samples': 50, 'min_data_per_groups': 57}. Best is trial 52 with value: 0.04957231168831157.\u001b[0m\n",
      "\u001b[32m[I 2022-10-17 14:01:46,856]\u001b[0m Trial 63 finished with value: 0.04976379220779212 and parameters: {'reg_alpha': 0.2651837651318343, 'reg_lambda': 0.0013608978889055716, 'colsample_bytree': 0.9, 'subsample': 1.0, 'learning_rate': 0.02, 'max_depth': 10, 'num_leaves': 600, 'min_child_samples': 90, 'min_data_per_groups': 51}. Best is trial 52 with value: 0.04957231168831157.\u001b[0m\n",
      "\u001b[32m[I 2022-10-17 14:01:50,501]\u001b[0m Trial 64 finished with value: 0.05125324675324668 and parameters: {'reg_alpha': 2.0449356533146514, 'reg_lambda': 0.005859589241108604, 'colsample_bytree': 0.4, 'subsample': 0.6, 'learning_rate': 0.006, 'max_depth': 10, 'num_leaves': 764, 'min_child_samples': 11, 'min_data_per_groups': 43}. Best is trial 52 with value: 0.04957231168831157.\u001b[0m\n",
      "\u001b[32m[I 2022-10-17 14:01:50,905]\u001b[0m Trial 65 finished with value: 0.0496438441558442 and parameters: {'reg_alpha': 0.5309112042208163, 'reg_lambda': 0.0029681065918428125, 'colsample_bytree': 1.0, 'subsample': 1.0, 'learning_rate': 0.017, 'max_depth': 10, 'num_leaves': 611, 'min_child_samples': 40, 'min_data_per_groups': 65}. Best is trial 52 with value: 0.04957231168831157.\u001b[0m\n",
      "\u001b[32m[I 2022-10-17 14:01:51,310]\u001b[0m Trial 66 finished with value: 0.04977859740259733 and parameters: {'reg_alpha': 0.5654320873039554, 'reg_lambda': 0.003215925824493153, 'colsample_bytree': 1.0, 'subsample': 1.0, 'learning_rate': 0.017, 'max_depth': 10, 'num_leaves': 612, 'min_child_samples': 71, 'min_data_per_groups': 67}. Best is trial 52 with value: 0.04957231168831157.\u001b[0m\n",
      "\u001b[32m[I 2022-10-17 14:01:51,792]\u001b[0m Trial 67 finished with value: 0.0496449350649351 and parameters: {'reg_alpha': 0.7797157572130987, 'reg_lambda': 3.1050309606726842, 'colsample_bytree': 1.0, 'subsample': 1.0, 'learning_rate': 0.017, 'max_depth': 10, 'num_leaves': 526, 'min_child_samples': 29, 'min_data_per_groups': 78}. Best is trial 52 with value: 0.04957231168831157.\u001b[0m\n",
      "\u001b[32m[I 2022-10-17 14:01:52,106]\u001b[0m Trial 68 finished with value: 0.05054051948051958 and parameters: {'reg_alpha': 2.8549677867888907, 'reg_lambda': 2.2994139042773796, 'colsample_bytree': 1.0, 'subsample': 1.0, 'learning_rate': 0.017, 'max_depth': 10, 'num_leaves': 526, 'min_child_samples': 27, 'min_data_per_groups': 80}. Best is trial 52 with value: 0.04957231168831157.\u001b[0m\n",
      "\u001b[32m[I 2022-10-17 14:01:52,513]\u001b[0m Trial 69 finished with value: 0.04955163636363634 and parameters: {'reg_alpha': 0.3995573615085663, 'reg_lambda': 4.02243240561829, 'colsample_bytree': 0.7, 'subsample': 0.5, 'learning_rate': 0.017, 'max_depth': 100, 'num_leaves': 685, 'min_child_samples': 9, 'min_data_per_groups': 96}. Best is trial 69 with value: 0.04955163636363634.\u001b[0m\n",
      "\u001b[32m[I 2022-10-17 14:01:52,827]\u001b[0m Trial 70 finished with value: 0.04977916883116875 and parameters: {'reg_alpha': 0.7145698867360533, 'reg_lambda': 4.852678189307623, 'colsample_bytree': 0.7, 'subsample': 0.5, 'learning_rate': 0.017, 'max_depth': 100, 'num_leaves': 563, 'min_child_samples': 10, 'min_data_per_groups': 100}. Best is trial 69 with value: 0.04955163636363634.\u001b[0m\n",
      "\u001b[32m[I 2022-10-17 14:01:53,349]\u001b[0m Trial 71 finished with value: 0.04966119480519474 and parameters: {'reg_alpha': 0.43234066809858956, 'reg_lambda': 5.477308450100208, 'colsample_bytree': 0.7, 'subsample': 0.5, 'learning_rate': 0.017, 'max_depth': 100, 'num_leaves': 692, 'min_child_samples': 22, 'min_data_per_groups': 88}. Best is trial 69 with value: 0.04955163636363634.\u001b[0m\n",
      "\u001b[32m[I 2022-10-17 14:01:53,614]\u001b[0m Trial 72 finished with value: 0.04997828571428574 and parameters: {'reg_alpha': 0.9594536690229557, 'reg_lambda': 1.716716811026275, 'colsample_bytree': 0.7, 'subsample': 0.5, 'learning_rate': 0.017, 'max_depth': 100, 'num_leaves': 484, 'min_child_samples': 56, 'min_data_per_groups': 74}. Best is trial 69 with value: 0.04955163636363634.\u001b[0m\n",
      "\u001b[32m[I 2022-10-17 14:01:54,016]\u001b[0m Trial 73 finished with value: 0.04967724675324673 and parameters: {'reg_alpha': 0.18517164093195843, 'reg_lambda': 7.1217033636284395, 'colsample_bytree': 1.0, 'subsample': 0.7, 'learning_rate': 0.017, 'max_depth': 100, 'num_leaves': 672, 'min_child_samples': 29, 'min_data_per_groups': 93}. Best is trial 69 with value: 0.04955163636363634.\u001b[0m\n",
      "\u001b[32m[I 2022-10-17 14:01:57,846]\u001b[0m Trial 74 finished with value: 0.05132888311688296 and parameters: {'reg_alpha': 0.3517322847154584, 'reg_lambda': 2.6914278285556565, 'colsample_bytree': 0.3, 'subsample': 0.5, 'learning_rate': 0.017, 'max_depth': 10, 'num_leaves': 578, 'min_child_samples': 1, 'min_data_per_groups': 96}. Best is trial 69 with value: 0.04955163636363634.\u001b[0m\n",
      "\u001b[32m[I 2022-10-17 14:01:58,500]\u001b[0m Trial 75 finished with value: 0.050703064935064976 and parameters: {'reg_alpha': 0.12065768163871438, 'reg_lambda': 3.761002884309998, 'colsample_bytree': 0.6, 'subsample': 1.0, 'learning_rate': 0.017, 'max_depth': 10, 'num_leaves': 626, 'min_child_samples': 13, 'min_data_per_groups': 64}. Best is trial 69 with value: 0.04955163636363634.\u001b[0m\n",
      "\u001b[32m[I 2022-10-17 14:02:00,977]\u001b[0m Trial 76 finished with value: 0.05138446753246747 and parameters: {'reg_alpha': 1.6675357695839008, 'reg_lambda': 0.8594092605648344, 'colsample_bytree': 0.5, 'subsample': 1.0, 'learning_rate': 0.017, 'max_depth': 100, 'num_leaves': 740, 'min_child_samples': 174, 'min_data_per_groups': 79}. Best is trial 69 with value: 0.04955163636363634.\u001b[0m\n",
      "\u001b[32m[I 2022-10-17 14:02:01,184]\u001b[0m Trial 77 finished with value: 0.04979059740259746 and parameters: {'reg_alpha': 0.633691143506927, 'reg_lambda': 0.011867697169575938, 'colsample_bytree': 0.7, 'subsample': 1.0, 'learning_rate': 0.02, 'max_depth': 10, 'num_leaves': 809, 'min_child_samples': 39, 'min_data_per_groups': 70}. Best is trial 69 with value: 0.04955163636363634.\u001b[0m\n",
      "\u001b[32m[I 2022-10-17 14:02:01,850]\u001b[0m Trial 78 finished with value: 0.049820103896103855 and parameters: {'reg_alpha': 0.9474394472453723, 'reg_lambda': 0.006503623872110328, 'colsample_bytree': 1.0, 'subsample': 0.6, 'learning_rate': 0.01, 'max_depth': 10, 'num_leaves': 856, 'min_child_samples': 53, 'min_data_per_groups': 55}. Best is trial 69 with value: 0.04955163636363634.\u001b[0m\n",
      "\u001b[32m[I 2022-10-17 14:02:02,460]\u001b[0m Trial 79 finished with value: 0.049949454545454575 and parameters: {'reg_alpha': 0.2732171168873311, 'reg_lambda': 0.0025152292974553545, 'colsample_bytree': 0.9, 'subsample': 1.0, 'learning_rate': 0.008, 'max_depth': 10, 'num_leaves': 521, 'min_child_samples': 140, 'min_data_per_groups': 35}. Best is trial 69 with value: 0.04955163636363634.\u001b[0m\n",
      "\u001b[32m[I 2022-10-17 14:02:02,812]\u001b[0m Trial 80 finished with value: 0.049795792207792296 and parameters: {'reg_alpha': 0.488514589444792, 'reg_lambda': 0.003919981494814367, 'colsample_bytree': 1.0, 'subsample': 0.5, 'learning_rate': 0.017, 'max_depth': 100, 'num_leaves': 661, 'min_child_samples': 65, 'min_data_per_groups': 86}. Best is trial 69 with value: 0.04955163636363634.\u001b[0m\n",
      "\u001b[32m[I 2022-10-17 14:02:03,313]\u001b[0m Trial 81 finished with value: 0.049683428571428594 and parameters: {'reg_alpha': 0.3953203363851538, 'reg_lambda': 8.38384205755648, 'colsample_bytree': 0.7, 'subsample': 0.5, 'learning_rate': 0.017, 'max_depth': 100, 'num_leaves': 697, 'min_child_samples': 22, 'min_data_per_groups': 94}. Best is trial 69 with value: 0.04955163636363634.\u001b[0m\n",
      "\u001b[32m[I 2022-10-17 14:02:03,662]\u001b[0m Trial 82 finished with value: 0.049662493506493585 and parameters: {'reg_alpha': 0.22863262598779432, 'reg_lambda': 5.88977747638031, 'colsample_bytree': 0.7, 'subsample': 0.5, 'learning_rate': 0.017, 'max_depth': 100, 'num_leaves': 781, 'min_child_samples': 21, 'min_data_per_groups': 89}. Best is trial 69 with value: 0.04955163636363634.\u001b[0m\n",
      "\u001b[32m[I 2022-10-17 14:02:03,918]\u001b[0m Trial 83 finished with value: 0.05006903896103902 and parameters: {'reg_alpha': 0.14310253994894306, 'reg_lambda': 1.676407608217925, 'colsample_bytree': 0.7, 'subsample': 0.5, 'learning_rate': 0.017, 'max_depth': 100, 'num_leaves': 696, 'min_child_samples': 185, 'min_data_per_groups': 90}. Best is trial 69 with value: 0.04955163636363634.\u001b[0m\n"
     ]
    },
    {
     "name": "stderr",
     "output_type": "stream",
     "text": [
      "\u001b[32m[I 2022-10-17 14:02:04,348]\u001b[0m Trial 84 finished with value: 0.04972893506493503 and parameters: {'reg_alpha': 0.5064843450688178, 'reg_lambda': 3.9882867099583366, 'colsample_bytree': 0.7, 'subsample': 0.5, 'learning_rate': 0.017, 'max_depth': 100, 'num_leaves': 585, 'min_child_samples': 33, 'min_data_per_groups': 80}. Best is trial 69 with value: 0.04955163636363634.\u001b[0m\n",
      "\u001b[32m[I 2022-10-17 14:02:05,815]\u001b[0m Trial 85 finished with value: 0.05060732467532472 and parameters: {'reg_alpha': 0.29517260587507127, 'reg_lambda': 0.0011156540015138535, 'colsample_bytree': 0.4, 'subsample': 1.0, 'learning_rate': 0.008, 'max_depth': 100, 'num_leaves': 621, 'min_child_samples': 46, 'min_data_per_groups': 85}. Best is trial 69 with value: 0.04955163636363634.\u001b[0m\n",
      "\u001b[32m[I 2022-10-17 14:02:06,185]\u001b[0m Trial 86 finished with value: 0.04961189610389604 and parameters: {'reg_alpha': 0.3836053213739505, 'reg_lambda': 3.334330768161852, 'colsample_bytree': 1.0, 'subsample': 1.0, 'learning_rate': 0.017, 'max_depth': 10, 'num_leaves': 551, 'min_child_samples': 17, 'min_data_per_groups': 100}. Best is trial 69 with value: 0.04955163636363634.\u001b[0m\n",
      "\u001b[32m[I 2022-10-17 14:02:07,021]\u001b[0m Trial 87 finished with value: 0.04989787012987012 and parameters: {'reg_alpha': 1.3937193781280848, 'reg_lambda': 3.695240849755998, 'colsample_bytree': 1.0, 'subsample': 1.0, 'learning_rate': 0.01, 'max_depth': 10, 'num_leaves': 536, 'min_child_samples': 11, 'min_data_per_groups': 98}. Best is trial 69 with value: 0.04955163636363634.\u001b[0m\n",
      "\u001b[32m[I 2022-10-17 14:02:07,383]\u001b[0m Trial 88 finished with value: 0.04964363636363642 and parameters: {'reg_alpha': 0.18455994663485262, 'reg_lambda': 0.0014126596821810774, 'colsample_bytree': 1.0, 'subsample': 1.0, 'learning_rate': 0.017, 'max_depth': 10, 'num_leaves': 489, 'min_child_samples': 39, 'min_data_per_groups': 52}. Best is trial 69 with value: 0.04955163636363634.\u001b[0m\n",
      "\u001b[32m[I 2022-10-17 14:02:07,753]\u001b[0m Trial 89 finished with value: 0.04976405194805197 and parameters: {'reg_alpha': 0.36717607669172747, 'reg_lambda': 0.0014701994834398807, 'colsample_bytree': 1.0, 'subsample': 1.0, 'learning_rate': 0.017, 'max_depth': 10, 'num_leaves': 496, 'min_child_samples': 61, 'min_data_per_groups': 76}. Best is trial 69 with value: 0.04955163636363634.\u001b[0m\n",
      "\u001b[32m[I 2022-10-17 14:02:08,357]\u001b[0m Trial 90 finished with value: 0.049767168831168766 and parameters: {'reg_alpha': 0.9049506318854964, 'reg_lambda': 0.5946507912776938, 'colsample_bytree': 1.0, 'subsample': 1.0, 'learning_rate': 0.017, 'max_depth': 10, 'num_leaves': 449, 'min_child_samples': 40, 'min_data_per_groups': 64}. Best is trial 69 with value: 0.04955163636363634.\u001b[0m\n",
      "\u001b[32m[I 2022-10-17 14:02:08,793]\u001b[0m Trial 91 finished with value: 0.04960841558441562 and parameters: {'reg_alpha': 0.6719458028618339, 'reg_lambda': 0.002525338252947943, 'colsample_bytree': 1.0, 'subsample': 1.0, 'learning_rate': 0.017, 'max_depth': 10, 'num_leaves': 561, 'min_child_samples': 29, 'min_data_per_groups': 46}. Best is trial 69 with value: 0.04955163636363634.\u001b[0m\n",
      "\u001b[32m[I 2022-10-17 14:02:09,205]\u001b[0m Trial 92 finished with value: 0.049577506493506555 and parameters: {'reg_alpha': 0.6424502340853688, 'reg_lambda': 0.0023894012798616735, 'colsample_bytree': 1.0, 'subsample': 1.0, 'learning_rate': 0.017, 'max_depth': 10, 'num_leaves': 581, 'min_child_samples': 17, 'min_data_per_groups': 52}. Best is trial 69 with value: 0.04955163636363634.\u001b[0m\n",
      "\u001b[32m[I 2022-10-17 14:02:09,584]\u001b[0m Trial 93 finished with value: 0.049610545454545456 and parameters: {'reg_alpha': 0.6542737673235111, 'reg_lambda': 0.0026803720457702646, 'colsample_bytree': 1.0, 'subsample': 1.0, 'learning_rate': 0.017, 'max_depth': 10, 'num_leaves': 565, 'min_child_samples': 16, 'min_data_per_groups': 45}. Best is trial 69 with value: 0.04955163636363634.\u001b[0m\n",
      "\u001b[32m[I 2022-10-17 14:02:09,969]\u001b[0m Trial 94 finished with value: 0.04949532467532474 and parameters: {'reg_alpha': 0.6036620931981621, 'reg_lambda': 0.0024516413218263373, 'colsample_bytree': 1.0, 'subsample': 1.0, 'learning_rate': 0.017, 'max_depth': 10, 'num_leaves': 479, 'min_child_samples': 6, 'min_data_per_groups': 46}. Best is trial 94 with value: 0.04949532467532474.\u001b[0m\n",
      "\u001b[32m[I 2022-10-17 14:02:10,406]\u001b[0m Trial 95 finished with value: 0.04956270129870136 and parameters: {'reg_alpha': 0.6608186872875791, 'reg_lambda': 0.0017061733849470405, 'colsample_bytree': 1.0, 'subsample': 1.0, 'learning_rate': 0.017, 'max_depth': 10, 'num_leaves': 414, 'min_child_samples': 16, 'min_data_per_groups': 45}. Best is trial 94 with value: 0.04949532467532474.\u001b[0m\n",
      "\u001b[32m[I 2022-10-17 14:02:10,990]\u001b[0m Trial 96 finished with value: 0.049784987012986996 and parameters: {'reg_alpha': 1.1364362372796815, 'reg_lambda': 0.0017630153365978385, 'colsample_bytree': 1.0, 'subsample': 0.7, 'learning_rate': 0.017, 'max_depth': 10, 'num_leaves': 556, 'min_child_samples': 15, 'min_data_per_groups': 40}. Best is trial 94 with value: 0.04949532467532474.\u001b[0m\n",
      "\u001b[32m[I 2022-10-17 14:02:11,440]\u001b[0m Trial 97 finished with value: 0.049524051948051866 and parameters: {'reg_alpha': 0.648241522328783, 'reg_lambda': 0.002359123030783303, 'colsample_bytree': 1.0, 'subsample': 1.0, 'learning_rate': 0.017, 'max_depth': 10, 'num_leaves': 388, 'min_child_samples': 7, 'min_data_per_groups': 45}. Best is trial 94 with value: 0.04949532467532474.\u001b[0m\n",
      "\u001b[32m[I 2022-10-17 14:02:11,802]\u001b[0m Trial 98 finished with value: 0.04955236363636368 and parameters: {'reg_alpha': 0.6806883758821005, 'reg_lambda': 0.0023094424773027525, 'colsample_bytree': 1.0, 'subsample': 1.0, 'learning_rate': 0.017, 'max_depth': 10, 'num_leaves': 460, 'min_child_samples': 6, 'min_data_per_groups': 43}. Best is trial 94 with value: 0.04949532467532474.\u001b[0m\n",
      "\u001b[32m[I 2022-10-17 14:02:12,293]\u001b[0m Trial 99 finished with value: 0.04977849350649338 and parameters: {'reg_alpha': 1.1246827036184008, 'reg_lambda': 0.0023570883344687607, 'colsample_bytree': 1.0, 'subsample': 0.8, 'learning_rate': 0.017, 'max_depth': 10, 'num_leaves': 412, 'min_child_samples': 6, 'min_data_per_groups': 46}. Best is trial 94 with value: 0.04949532467532474.\u001b[0m\n"
     ]
    }
   ],
   "source": [
    "# optuna\n",
    "study_lgbm = optuna.create_study(direction=\"minimize\")\n",
    "study_lgbm.optimize(objective_lgbm, n_trials=100)"
   ]
  },
  {
   "cell_type": "markdown",
   "id": "e4df3f5d",
   "metadata": {},
   "source": [
    "# Modeling"
   ]
  },
  {
   "cell_type": "markdown",
   "id": "WyJKb2JdIpEQ",
   "metadata": {
    "id": "WyJKb2JdIpEQ"
   },
   "source": [
    "## Training (model construction)"
   ]
  },
  {
   "cell_type": "code",
   "execution_count": 48,
   "id": "98e151dd",
   "metadata": {
    "ExecuteTime": {
     "end_time": "2022-10-17T06:02:15.684781Z",
     "start_time": "2022-10-17T06:02:15.668882Z"
    }
   },
   "outputs": [],
   "source": [
    "y = y[y.columns[0]]"
   ]
  },
  {
   "cell_type": "code",
   "execution_count": 49,
   "id": "bcd86bc2",
   "metadata": {
    "ExecuteTime": {
     "end_time": "2022-10-17T06:02:16.130810Z",
     "start_time": "2022-10-17T06:02:16.115858Z"
    },
    "scrolled": true
   },
   "outputs": [
    {
     "data": {
      "text/plain": [
       "{'reg_alpha': 0.6036620931981621,\n",
       " 'reg_lambda': 0.0024516413218263373,\n",
       " 'colsample_bytree': 1.0,\n",
       " 'subsample': 1.0,\n",
       " 'learning_rate': 0.017,\n",
       " 'max_depth': 10,\n",
       " 'num_leaves': 479,\n",
       " 'min_child_samples': 6,\n",
       " 'min_data_per_groups': 46}"
      ]
     },
     "execution_count": 49,
     "metadata": {},
     "output_type": "execute_result"
    }
   ],
   "source": [
    "study_lgbm.best_trial.params"
   ]
  },
  {
   "cell_type": "markdown",
   "id": "edee894d",
   "metadata": {},
   "source": [
    "### Modeling"
   ]
  },
  {
   "cell_type": "code",
   "execution_count": 54,
   "id": "36e4169e",
   "metadata": {
    "ExecuteTime": {
     "end_time": "2022-10-17T06:02:29.318785Z",
     "start_time": "2022-10-17T06:02:29.308856Z"
    }
   },
   "outputs": [],
   "source": [
    "# TODO\n",
    "# build model with best hyperparameter\n",
    "model_lgbm = lgbm.LGBMRegressor(**study_lgbm.best_trial.params,random_state=SEED)"
   ]
  },
  {
   "cell_type": "markdown",
   "id": "GQtkLdwIIpEQ",
   "metadata": {
    "id": "GQtkLdwIIpEQ"
   },
   "source": [
    "## Cross validation\n",
    "- usually we will do cross validation to evaluate the generalization of model\n",
    "- or you can just use ```sklearn.model_selection.train_test_split``` to evaluate your model"
   ]
  },
  {
   "cell_type": "code",
   "execution_count": 55,
   "id": "6FrlV4m5IpEQ",
   "metadata": {
    "ExecuteTime": {
     "end_time": "2022-10-17T06:02:31.711866Z",
     "start_time": "2022-10-17T06:02:30.948414Z"
    },
    "colab": {
     "base_uri": "https://localhost:8080/"
    },
    "id": "6FrlV4m5IpEQ",
    "outputId": "d7141844-631d-4060-9f8c-f4de6c22c348"
   },
   "outputs": [
    {
     "name": "stdout",
     "output_type": "stream",
     "text": [
      "[LightGBM] [Warning] Unknown parameter: min_data_per_groups\n",
      "[LightGBM] [Warning] Unknown parameter: min_data_per_groups\n",
      "[LightGBM] [Warning] Unknown parameter: min_data_per_groups\n",
      "[LightGBM] [Warning] Unknown parameter: min_data_per_groups\n",
      "[LightGBM] [Warning] Unknown parameter: min_data_per_groups\n",
      "R2: 0.87 (std: 0.01)\n",
      "[0.87653744 0.86255151 0.87059379 0.86024969 0.86000398]\n",
      "[LightGBM] [Warning] Unknown parameter: min_data_per_groups\n",
      "[LightGBM] [Warning] Unknown parameter: min_data_per_groups\n",
      "[LightGBM] [Warning] Unknown parameter: min_data_per_groups\n",
      "[LightGBM] [Warning] Unknown parameter: min_data_per_groups\n",
      "[LightGBM] [Warning] Unknown parameter: min_data_per_groups\n",
      "====================================\n",
      "R2: 0.8659872818868755 (std: 0.006527634836951438)\n",
      "MSE: 0.005285674827230669 (std: 0.0002149463882814812)\n",
      "MAPE: 6975593790393.354 (std: 1530747611951.6409)\n"
     ]
    }
   ],
   "source": [
    "# TODO\n",
    "# Using Stratified K fold to find result\n",
    "# skf = StratifiedKFold(n_splits=5,random_state=SEED)\n",
    "\n",
    "scores = cross_val_score(model_lgbm, X, y, cv=5)\n",
    "print(\"R2: %0.2f (std: %0.2f)\" % (scores.mean(), scores.std()))\n",
    "print(scores)\n",
    "# need other scoring\n",
    "scores = cross_validate(model_lgbm, X, y, cv=5,\n",
    "                       scoring=('r2', 'neg_mean_squared_error', 'neg_mean_absolute_percentage_error'))\n",
    "print(\"====================================\")\n",
    "print(\"R2: {} (std: {})\".format(scores['test_r2'].mean(), scores['test_r2'].std()))\n",
    "print(\"MSE: {} (std: {})\".format(-scores['test_neg_mean_squared_error'].mean(), scores['test_neg_mean_squared_error'].std()))\n",
    "print(\"MAPE: {} (std: {})\".format(-scores['test_neg_mean_absolute_percentage_error'].mean(), scores['test_neg_mean_absolute_percentage_error'].std()))"
   ]
  },
  {
   "cell_type": "markdown",
   "id": "myOBllB_IpEQ",
   "metadata": {
    "id": "myOBllB_IpEQ"
   },
   "source": [
    "# Prediction\n",
    "1. read data\n",
    "2. model prediction\n",
    "3. to_csv"
   ]
  },
  {
   "cell_type": "code",
   "execution_count": 57,
   "id": "HyWyzS-oIpEQ",
   "metadata": {
    "ExecuteTime": {
     "end_time": "2022-10-17T06:02:38.374184Z",
     "start_time": "2022-10-17T06:02:38.349268Z"
    },
    "colab": {
     "base_uri": "https://localhost:8080/",
     "height": 224
    },
    "id": "HyWyzS-oIpEQ",
    "outputId": "49a27bb4-62b1-4e10-d03b-379955382aaf"
   },
   "outputs": [
    {
     "name": "stdout",
     "output_type": "stream",
     "text": [
      "(1980, 8)\n"
     ]
    },
    {
     "data": {
      "text/html": [
       "<div>\n",
       "<style scoped>\n",
       "    .dataframe tbody tr th:only-of-type {\n",
       "        vertical-align: middle;\n",
       "    }\n",
       "\n",
       "    .dataframe tbody tr th {\n",
       "        vertical-align: top;\n",
       "    }\n",
       "\n",
       "    .dataframe thead th {\n",
       "        text-align: right;\n",
       "    }\n",
       "</style>\n",
       "<table border=\"1\" class=\"dataframe\">\n",
       "  <thead>\n",
       "    <tr style=\"text-align: right;\">\n",
       "      <th></th>\n",
       "      <th>Employee ID</th>\n",
       "      <th>Date of Joining</th>\n",
       "      <th>Gender</th>\n",
       "      <th>Company Type</th>\n",
       "      <th>WFH Setup Available</th>\n",
       "      <th>Designation</th>\n",
       "      <th>Resource Allocation</th>\n",
       "      <th>Mental Fatigue Score</th>\n",
       "    </tr>\n",
       "  </thead>\n",
       "  <tbody>\n",
       "    <tr>\n",
       "      <th>0</th>\n",
       "      <td>0</td>\n",
       "      <td>2008/11/12</td>\n",
       "      <td>Male</td>\n",
       "      <td>Service</td>\n",
       "      <td>Yes</td>\n",
       "      <td>0</td>\n",
       "      <td>1.0</td>\n",
       "      <td>0.0</td>\n",
       "    </tr>\n",
       "    <tr>\n",
       "      <th>1</th>\n",
       "      <td>1</td>\n",
       "      <td>2008/3/11</td>\n",
       "      <td>Male</td>\n",
       "      <td>Product</td>\n",
       "      <td>No</td>\n",
       "      <td>3</td>\n",
       "      <td>8.0</td>\n",
       "      <td>7.9</td>\n",
       "    </tr>\n",
       "    <tr>\n",
       "      <th>2</th>\n",
       "      <td>2</td>\n",
       "      <td>2008/4/3</td>\n",
       "      <td>Male</td>\n",
       "      <td>Service</td>\n",
       "      <td>No</td>\n",
       "      <td>4</td>\n",
       "      <td>9.0</td>\n",
       "      <td>8.1</td>\n",
       "    </tr>\n",
       "    <tr>\n",
       "      <th>3</th>\n",
       "      <td>3</td>\n",
       "      <td>2008/10/1</td>\n",
       "      <td>Male</td>\n",
       "      <td>Product</td>\n",
       "      <td>No</td>\n",
       "      <td>1</td>\n",
       "      <td>3.0</td>\n",
       "      <td>5.7</td>\n",
       "    </tr>\n",
       "    <tr>\n",
       "      <th>4</th>\n",
       "      <td>4</td>\n",
       "      <td>2008/1/5</td>\n",
       "      <td>Female</td>\n",
       "      <td>Service</td>\n",
       "      <td>No</td>\n",
       "      <td>3</td>\n",
       "      <td>5.0</td>\n",
       "      <td>NaN</td>\n",
       "    </tr>\n",
       "  </tbody>\n",
       "</table>\n",
       "</div>"
      ],
      "text/plain": [
       "   Employee ID Date of Joining  Gender Company Type WFH Setup Available  \\\n",
       "0            0      2008/11/12    Male      Service                 Yes   \n",
       "1            1       2008/3/11    Male      Product                  No   \n",
       "2            2        2008/4/3    Male      Service                  No   \n",
       "3            3       2008/10/1    Male      Product                  No   \n",
       "4            4        2008/1/5  Female      Service                  No   \n",
       "\n",
       "   Designation  Resource Allocation  Mental Fatigue Score  \n",
       "0            0                  1.0                   0.0  \n",
       "1            3                  8.0                   7.9  \n",
       "2            4                  9.0                   8.1  \n",
       "3            1                  3.0                   5.7  \n",
       "4            3                  5.0                   NaN  "
      ]
     },
     "execution_count": 57,
     "metadata": {},
     "output_type": "execute_result"
    }
   ],
   "source": [
    "df_test = pd.read_csv(r'./test.csv')\n",
    "print(df_test.shape)\n",
    "df_test.head()"
   ]
  },
  {
   "cell_type": "code",
   "execution_count": 58,
   "id": "bc9b4eae",
   "metadata": {
    "ExecuteTime": {
     "end_time": "2022-10-17T06:02:38.856686Z",
     "start_time": "2022-10-17T06:02:38.836753Z"
    }
   },
   "outputs": [],
   "source": [
    "X_test = df_test[df_test.columns[1:]]"
   ]
  },
  {
   "cell_type": "markdown",
   "id": "04855841",
   "metadata": {
    "id": "vaA_AJqSPfo0"
   },
   "source": [
    "## Data Preprocessing for testing"
   ]
  },
  {
   "cell_type": "markdown",
   "id": "ad7683d8",
   "metadata": {},
   "source": [
    "## Transfer Time related Data"
   ]
  },
  {
   "cell_type": "code",
   "execution_count": 59,
   "id": "68a69041",
   "metadata": {
    "ExecuteTime": {
     "end_time": "2022-10-17T06:02:39.632681Z",
     "start_time": "2022-10-17T06:02:39.622716Z"
    }
   },
   "outputs": [],
   "source": [
    "def transfer_date(date):\n",
    "    date_format = \"%Y/%m/%d\"\n",
    "    a = datetime.strptime('2022/10/10', date_format)\n",
    "    b = datetime.strptime(date, date_format)\n",
    "    delta = a - b\n",
    "    return delta.days"
   ]
  },
  {
   "cell_type": "code",
   "execution_count": 60,
   "id": "311baa03",
   "metadata": {
    "ExecuteTime": {
     "end_time": "2022-10-17T06:02:40.020788Z",
     "start_time": "2022-10-17T06:02:39.964813Z"
    }
   },
   "outputs": [
    {
     "name": "stderr",
     "output_type": "stream",
     "text": [
      "C:\\Users\\USER\\AppData\\Local\\Temp\\ipykernel_9740\\345012162.py:1: SettingWithCopyWarning: \n",
      "A value is trying to be set on a copy of a slice from a DataFrame.\n",
      "Try using .loc[row_indexer,col_indexer] = value instead\n",
      "\n",
      "See the caveats in the documentation: https://pandas.pydata.org/pandas-docs/stable/user_guide/indexing.html#returning-a-view-versus-a-copy\n",
      "  X_test['Date of Joining'] = X_test['Date of Joining'].apply(lambda x : transfer_date(x))\n"
     ]
    }
   ],
   "source": [
    "X_test['Date of Joining'] = X_test['Date of Joining'].apply(lambda x : transfer_date(x))"
   ]
  },
  {
   "cell_type": "markdown",
   "id": "f67bcce9",
   "metadata": {},
   "source": [
    "## Categorical Data Transforming -  Target Encoder"
   ]
  },
  {
   "cell_type": "code",
   "execution_count": 61,
   "id": "a8a55651",
   "metadata": {
    "ExecuteTime": {
     "end_time": "2022-10-17T06:02:41.200735Z",
     "start_time": "2022-10-17T06:02:41.180844Z"
    }
   },
   "outputs": [],
   "source": [
    "## 原類別型\n",
    "X_test = ce_leave.transform(X_test)"
   ]
  },
  {
   "cell_type": "markdown",
   "id": "b15befbc",
   "metadata": {},
   "source": [
    "## Normalize Data"
   ]
  },
  {
   "cell_type": "code",
   "execution_count": 62,
   "id": "e2fdcc66",
   "metadata": {
    "ExecuteTime": {
     "end_time": "2022-10-17T06:02:41.819736Z",
     "start_time": "2022-10-17T06:02:41.804790Z"
    }
   },
   "outputs": [],
   "source": [
    "# Normalization\n",
    "X_test = pd.DataFrame(Normalize_scaler.transform(X_test), columns=X_test.columns, index=X_test.index)"
   ]
  },
  {
   "cell_type": "markdown",
   "id": "176540f2",
   "metadata": {},
   "source": [
    "## Fill Missing Value - KNN Imputer"
   ]
  },
  {
   "cell_type": "code",
   "execution_count": 63,
   "id": "gb3Fwn1_LRiz",
   "metadata": {
    "ExecuteTime": {
     "end_time": "2022-10-17T06:02:42.319754Z",
     "start_time": "2022-10-17T06:02:42.308829Z"
    },
    "colab": {
     "base_uri": "https://localhost:8080/"
    },
    "id": "gb3Fwn1_LRiz",
    "outputId": "558f0bbd-022b-4a87-e375-2b24d3596067"
   },
   "outputs": [
    {
     "data": {
      "text/plain": [
       "Date of Joining           0\n",
       "Gender                    0\n",
       "Company Type              0\n",
       "WFH Setup Available       0\n",
       "Designation               0\n",
       "Resource Allocation     110\n",
       "Mental Fatigue Score    186\n",
       "dtype: int64"
      ]
     },
     "execution_count": 63,
     "metadata": {},
     "output_type": "execute_result"
    }
   ],
   "source": [
    "X_test.isna().sum()"
   ]
  },
  {
   "cell_type": "code",
   "execution_count": 64,
   "id": "710bc74f",
   "metadata": {
    "ExecuteTime": {
     "end_time": "2022-10-17T06:02:42.772644Z",
     "start_time": "2022-10-17T06:02:42.668672Z"
    }
   },
   "outputs": [],
   "source": [
    "X_test = pd.DataFrame(imputer.transform(X_test),columns = X_test.columns)"
   ]
  },
  {
   "cell_type": "markdown",
   "id": "4165b28c",
   "metadata": {},
   "source": [
    "## Feature Selection"
   ]
  },
  {
   "cell_type": "code",
   "execution_count": 65,
   "id": "159bfce3",
   "metadata": {
    "ExecuteTime": {
     "end_time": "2022-10-17T06:02:43.224607Z",
     "start_time": "2022-10-17T06:02:43.212648Z"
    }
   },
   "outputs": [],
   "source": [
    "# TODO\n",
    "X_test = X_test.loc[:,X_test.columns.isin(['WFH Setup Available','Designation', 'Resource Allocation', 'Mental Fatigue Score'])]"
   ]
  },
  {
   "cell_type": "markdown",
   "id": "512632ac",
   "metadata": {},
   "source": [
    "## Predict Testing set"
   ]
  },
  {
   "cell_type": "code",
   "execution_count": 66,
   "id": "4deb1a0b",
   "metadata": {
    "ExecuteTime": {
     "end_time": "2022-10-17T06:02:45.133980Z",
     "start_time": "2022-10-17T06:02:44.972521Z"
    }
   },
   "outputs": [
    {
     "name": "stdout",
     "output_type": "stream",
     "text": [
      "[LightGBM] [Warning] Unknown parameter: min_data_per_groups\n"
     ]
    },
    {
     "name": "stderr",
     "output_type": "stream",
     "text": [
      "C:\\Users\\USER\\anaconda3\\envs\\tensorflow_new\\lib\\site-packages\\lightgbm\\sklearn.py:736: UserWarning: 'verbose' argument is deprecated and will be removed in a future release of LightGBM. Pass 'log_evaluation()' callback via 'callbacks' argument instead.\n",
      "  _log_warning(\"'verbose' argument is deprecated and will be removed in a future release of LightGBM. \"\n"
     ]
    },
    {
     "data": {
      "text/plain": [
       "LGBMRegressor(learning_rate=0.017, max_depth=10, min_child_samples=6,\n",
       "              min_data_per_groups=46, num_leaves=479, random_state=42,\n",
       "              reg_alpha=0.6036620931981621, reg_lambda=0.0024516413218263373)"
      ]
     },
     "execution_count": 66,
     "metadata": {},
     "output_type": "execute_result"
    }
   ],
   "source": [
    "model_lgbm.fit(X,y,verbose=False)"
   ]
  },
  {
   "cell_type": "code",
   "execution_count": 67,
   "id": "HJF5Z3zHIpER",
   "metadata": {
    "ExecuteTime": {
     "end_time": "2022-10-17T06:02:46.280710Z",
     "start_time": "2022-10-17T06:02:46.260780Z"
    },
    "id": "HJF5Z3zHIpER"
   },
   "outputs": [],
   "source": [
    "y_pred = model_lgbm.predict(X_test)"
   ]
  },
  {
   "cell_type": "code",
   "execution_count": 68,
   "id": "741acb7e",
   "metadata": {
    "ExecuteTime": {
     "end_time": "2022-10-17T06:02:47.417638Z",
     "start_time": "2022-10-17T06:02:47.405680Z"
    }
   },
   "outputs": [],
   "source": [
    "y_pred_output = []\n",
    "for i in y_pred:\n",
    "    if i<0:\n",
    "        y_pred_output.append(0)\n",
    "    elif i>1:\n",
    "        y_pred_output.append(1)\n",
    "    else:\n",
    "        y_pred_output.append(i)\n",
    "        \n",
    "y_pred_output = pd.DataFrame(y_pred_output,columns=['Burn Rate'])"
   ]
  },
  {
   "cell_type": "markdown",
   "id": "NrJx8svNIpER",
   "metadata": {
    "id": "NrJx8svNIpER"
   },
   "source": [
    "# Output .csv for submission"
   ]
  },
  {
   "cell_type": "code",
   "execution_count": 69,
   "id": "sapxBlbhIpER",
   "metadata": {
    "ExecuteTime": {
     "end_time": "2022-10-17T06:02:48.549742Z",
     "start_time": "2022-10-17T06:02:48.525822Z"
    },
    "id": "sapxBlbhIpER"
   },
   "outputs": [],
   "source": [
    "df_ans = pd.DataFrame(y_pred_output.astype(float), columns=['Burn Rate'])\n",
    "df_ans.to_csv('mySubmission.csv', index_label='Employee ID')"
   ]
  },
  {
   "cell_type": "code",
   "execution_count": 70,
   "id": "f01f4a75",
   "metadata": {
    "ExecuteTime": {
     "end_time": "2022-10-17T06:02:49.181180Z",
     "start_time": "2022-10-17T06:02:49.158256Z"
    },
    "scrolled": true
   },
   "outputs": [
    {
     "data": {
      "text/html": [
       "<div>\n",
       "<style scoped>\n",
       "    .dataframe tbody tr th:only-of-type {\n",
       "        vertical-align: middle;\n",
       "    }\n",
       "\n",
       "    .dataframe tbody tr th {\n",
       "        vertical-align: top;\n",
       "    }\n",
       "\n",
       "    .dataframe thead th {\n",
       "        text-align: right;\n",
       "    }\n",
       "</style>\n",
       "<table border=\"1\" class=\"dataframe\">\n",
       "  <thead>\n",
       "    <tr style=\"text-align: right;\">\n",
       "      <th></th>\n",
       "      <th>Burn Rate</th>\n",
       "    </tr>\n",
       "  </thead>\n",
       "  <tbody>\n",
       "    <tr>\n",
       "      <th>0</th>\n",
       "      <td>0.098886</td>\n",
       "    </tr>\n",
       "    <tr>\n",
       "      <th>1</th>\n",
       "      <td>0.682873</td>\n",
       "    </tr>\n",
       "    <tr>\n",
       "      <th>2</th>\n",
       "      <td>0.715152</td>\n",
       "    </tr>\n",
       "    <tr>\n",
       "      <th>3</th>\n",
       "      <td>0.409750</td>\n",
       "    </tr>\n",
       "    <tr>\n",
       "      <th>4</th>\n",
       "      <td>0.478948</td>\n",
       "    </tr>\n",
       "    <tr>\n",
       "      <th>...</th>\n",
       "      <td>...</td>\n",
       "    </tr>\n",
       "    <tr>\n",
       "      <th>1975</th>\n",
       "      <td>0.239894</td>\n",
       "    </tr>\n",
       "    <tr>\n",
       "      <th>1976</th>\n",
       "      <td>0.458333</td>\n",
       "    </tr>\n",
       "    <tr>\n",
       "      <th>1977</th>\n",
       "      <td>0.357410</td>\n",
       "    </tr>\n",
       "    <tr>\n",
       "      <th>1978</th>\n",
       "      <td>0.549004</td>\n",
       "    </tr>\n",
       "    <tr>\n",
       "      <th>1979</th>\n",
       "      <td>0.488730</td>\n",
       "    </tr>\n",
       "  </tbody>\n",
       "</table>\n",
       "<p>1980 rows × 1 columns</p>\n",
       "</div>"
      ],
      "text/plain": [
       "      Burn Rate\n",
       "0      0.098886\n",
       "1      0.682873\n",
       "2      0.715152\n",
       "3      0.409750\n",
       "4      0.478948\n",
       "...         ...\n",
       "1975   0.239894\n",
       "1976   0.458333\n",
       "1977   0.357410\n",
       "1978   0.549004\n",
       "1979   0.488730\n",
       "\n",
       "[1980 rows x 1 columns]"
      ]
     },
     "execution_count": 70,
     "metadata": {},
     "output_type": "execute_result"
    }
   ],
   "source": [
    "df_ans"
   ]
  }
 ],
 "metadata": {
  "colab": {
   "collapsed_sections": [],
   "provenance": []
  },
  "kernelspec": {
   "display_name": "Python 3 (ipykernel)",
   "language": "python",
   "name": "python3"
  },
  "language_info": {
   "codemirror_mode": {
    "name": "ipython",
    "version": 3
   },
   "file_extension": ".py",
   "mimetype": "text/x-python",
   "name": "python",
   "nbconvert_exporter": "python",
   "pygments_lexer": "ipython3",
   "version": "3.9.13"
  },
  "toc": {
   "base_numbering": 1,
   "nav_menu": {},
   "number_sections": true,
   "sideBar": true,
   "skip_h1_title": false,
   "title_cell": "Table of Contents",
   "title_sidebar": "Contents",
   "toc_cell": false,
   "toc_position": {
    "height": "calc(100% - 180px)",
    "left": "10px",
    "top": "150px",
    "width": "303.828px"
   },
   "toc_section_display": true,
   "toc_window_display": true
  }
 },
 "nbformat": 4,
 "nbformat_minor": 5
}
