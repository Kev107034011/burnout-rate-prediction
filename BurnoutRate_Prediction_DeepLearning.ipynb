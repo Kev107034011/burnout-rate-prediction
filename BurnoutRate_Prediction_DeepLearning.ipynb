{
 "cells": [
  {
   "cell_type": "markdown",
   "id": "3wSi-KSCIpEM",
   "metadata": {
    "id": "3wSi-KSCIpEM"
   },
   "source": [
    "# Import Package"
   ]
  },
  {
   "cell_type": "code",
   "execution_count": 1,
   "id": "5Cz5-77fIpEN",
   "metadata": {
    "ExecuteTime": {
     "end_time": "2022-10-27T16:53:17.176914Z",
     "start_time": "2022-10-27T16:53:15.934615Z"
    },
    "colab": {
     "base_uri": "https://localhost:8080/",
     "height": 36
    },
    "id": "5Cz5-77fIpEN",
    "outputId": "3ebd36d7-7ac8-418a-b0ad-cc206e1b61ee"
   },
   "outputs": [
    {
     "name": "stderr",
     "output_type": "stream",
     "text": [
      "C:\\Users\\USER\\anaconda3\\envs\\tensorflow_new\\lib\\site-packages\\tqdm\\auto.py:22: TqdmWarning: IProgress not found. Please update jupyter and ipywidgets. See https://ipywidgets.readthedocs.io/en/stable/user_install.html\n",
      "  from .autonotebook import tqdm as notebook_tqdm\n"
     ]
    },
    {
     "data": {
      "text/plain": [
       "'C:\\\\Users\\\\USER\\\\Desktop\\\\Kev\\\\碩一\\\\人工智慧\\\\HW2'"
      ]
     },
     "execution_count": 1,
     "metadata": {},
     "output_type": "execute_result"
    }
   ],
   "source": [
    "SEED = 42\n",
    "\n",
    "# 基本套件\n",
    "from sklearn.pipeline import Pipeline\n",
    "import numpy as np\n",
    "import pandas as pd\n",
    "import os\n",
    "from datetime import datetime\n",
    "\n",
    "# Categorical Data Transforming\n",
    "import category_encoders as ce\n",
    "from sklearn.impute import KNNImputer\n",
    "\n",
    "# Change Scaler\n",
    "from sklearn.preprocessing import MinMaxScaler\n",
    "from sklearn.preprocessing import StandardScaler\n",
    "\n",
    "# 資料集切割\n",
    "from sklearn.model_selection import train_test_split\n",
    "from sklearn.model_selection import cross_val_score, cross_validate\n",
    "from sklearn.model_selection import StratifiedKFold\n",
    "\n",
    "# 特徵篩選\n",
    "from mlxtend.feature_selection import SequentialFeatureSelector as SFS\n",
    "\n",
    "# 使用模型\n",
    "from sklearn.linear_model import LinearRegression\n",
    "from sklearn.svm import SVR\n",
    "from sklearn.ensemble import RandomForestRegressor\n",
    "import xgboost as xgb\n",
    "# import tensorflow as tf\n",
    "\n",
    "\n",
    "# 資料視覺化\n",
    "import matplotlib.pyplot as plt\n",
    "import seaborn as sns\n",
    "import plotly.express as px\n",
    "\n",
    "\n",
    "# 最佳化參數\n",
    "import optuna\n",
    "\n",
    "os.getcwd()"
   ]
  },
  {
   "cell_type": "code",
   "execution_count": 2,
   "id": "d1f9b4e1",
   "metadata": {
    "ExecuteTime": {
     "end_time": "2022-10-27T16:53:18.297094Z",
     "start_time": "2022-10-27T16:53:17.178907Z"
    }
   },
   "outputs": [],
   "source": [
    "import tensorflow as tf\n",
    "np.random.seed(42)  # 指定亂數種子"
   ]
  },
  {
   "cell_type": "markdown",
   "id": "16QNBD14IpEO",
   "metadata": {
    "id": "16QNBD14IpEO"
   },
   "source": [
    "# Read data"
   ]
  },
  {
   "cell_type": "code",
   "execution_count": 3,
   "id": "jVqvLLiVIpEO",
   "metadata": {
    "ExecuteTime": {
     "end_time": "2022-10-27T16:53:18.328061Z",
     "start_time": "2022-10-27T16:53:18.298064Z"
    },
    "colab": {
     "base_uri": "https://localhost:8080/",
     "height": 224
    },
    "id": "jVqvLLiVIpEO",
    "outputId": "4b593aa1-5d3a-4d0f-b92b-bec36c0e6d16"
   },
   "outputs": [
    {
     "name": "stdout",
     "output_type": "stream",
     "text": [
      "view the data shape (10108, 9)\n"
     ]
    },
    {
     "data": {
      "text/html": [
       "<div>\n",
       "<style scoped>\n",
       "    .dataframe tbody tr th:only-of-type {\n",
       "        vertical-align: middle;\n",
       "    }\n",
       "\n",
       "    .dataframe tbody tr th {\n",
       "        vertical-align: top;\n",
       "    }\n",
       "\n",
       "    .dataframe thead th {\n",
       "        text-align: right;\n",
       "    }\n",
       "</style>\n",
       "<table border=\"1\" class=\"dataframe\">\n",
       "  <thead>\n",
       "    <tr style=\"text-align: right;\">\n",
       "      <th></th>\n",
       "      <th>Employee ID</th>\n",
       "      <th>Date of Joining</th>\n",
       "      <th>Gender</th>\n",
       "      <th>Company Type</th>\n",
       "      <th>WFH Setup Available</th>\n",
       "      <th>Designation</th>\n",
       "      <th>Resource Allocation</th>\n",
       "      <th>Mental Fatigue Score</th>\n",
       "      <th>Burn Rate</th>\n",
       "    </tr>\n",
       "  </thead>\n",
       "  <tbody>\n",
       "    <tr>\n",
       "      <th>0</th>\n",
       "      <td>0</td>\n",
       "      <td>2008/9/30</td>\n",
       "      <td>Female</td>\n",
       "      <td>Service</td>\n",
       "      <td>No</td>\n",
       "      <td>2</td>\n",
       "      <td>3.0</td>\n",
       "      <td>3.8</td>\n",
       "      <td>0.16</td>\n",
       "    </tr>\n",
       "    <tr>\n",
       "      <th>1</th>\n",
       "      <td>1</td>\n",
       "      <td>2008/11/30</td>\n",
       "      <td>Male</td>\n",
       "      <td>Service</td>\n",
       "      <td>Yes</td>\n",
       "      <td>1</td>\n",
       "      <td>2.0</td>\n",
       "      <td>5.0</td>\n",
       "      <td>0.36</td>\n",
       "    </tr>\n",
       "    <tr>\n",
       "      <th>2</th>\n",
       "      <td>2</td>\n",
       "      <td>2008/3/10</td>\n",
       "      <td>Female</td>\n",
       "      <td>Product</td>\n",
       "      <td>Yes</td>\n",
       "      <td>2</td>\n",
       "      <td>NaN</td>\n",
       "      <td>5.8</td>\n",
       "      <td>0.49</td>\n",
       "    </tr>\n",
       "    <tr>\n",
       "      <th>3</th>\n",
       "      <td>3</td>\n",
       "      <td>2008/11/3</td>\n",
       "      <td>Male</td>\n",
       "      <td>Service</td>\n",
       "      <td>Yes</td>\n",
       "      <td>1</td>\n",
       "      <td>1.0</td>\n",
       "      <td>2.6</td>\n",
       "      <td>0.20</td>\n",
       "    </tr>\n",
       "    <tr>\n",
       "      <th>4</th>\n",
       "      <td>4</td>\n",
       "      <td>2008/7/24</td>\n",
       "      <td>Female</td>\n",
       "      <td>Service</td>\n",
       "      <td>No</td>\n",
       "      <td>3</td>\n",
       "      <td>7.0</td>\n",
       "      <td>6.9</td>\n",
       "      <td>0.52</td>\n",
       "    </tr>\n",
       "  </tbody>\n",
       "</table>\n",
       "</div>"
      ],
      "text/plain": [
       "   Employee ID Date of Joining  Gender Company Type WFH Setup Available  \\\n",
       "0            0       2008/9/30  Female      Service                  No   \n",
       "1            1      2008/11/30    Male      Service                 Yes   \n",
       "2            2       2008/3/10  Female      Product                 Yes   \n",
       "3            3       2008/11/3    Male      Service                 Yes   \n",
       "4            4       2008/7/24  Female      Service                  No   \n",
       "\n",
       "   Designation  Resource Allocation  Mental Fatigue Score  Burn Rate  \n",
       "0            2                  3.0                   3.8       0.16  \n",
       "1            1                  2.0                   5.0       0.36  \n",
       "2            2                  NaN                   5.8       0.49  \n",
       "3            1                  1.0                   2.6       0.20  \n",
       "4            3                  7.0                   6.9       0.52  "
      ]
     },
     "execution_count": 3,
     "metadata": {},
     "output_type": "execute_result"
    }
   ],
   "source": [
    "df = pd.read_csv(r'./train.csv')\n",
    "print('view the data shape', df.shape)\n",
    "df.head()"
   ]
  },
  {
   "cell_type": "code",
   "execution_count": 4,
   "id": "cb5f7a13",
   "metadata": {
    "ExecuteTime": {
     "end_time": "2022-10-27T16:53:18.343389Z",
     "start_time": "2022-10-27T16:53:18.329101Z"
    }
   },
   "outputs": [],
   "source": [
    "# elliminate traget not na\n",
    "df = df[df['Burn Rate'].notna()]"
   ]
  },
  {
   "cell_type": "code",
   "execution_count": 5,
   "id": "932b1220",
   "metadata": {
    "ExecuteTime": {
     "end_time": "2022-10-27T16:53:18.359005Z",
     "start_time": "2022-10-27T16:53:18.344387Z"
    }
   },
   "outputs": [],
   "source": [
    "df = df[df.columns[1:]]\n",
    "X = df[df.columns[:-1]]\n",
    "y = df[df.columns[-1]]"
   ]
  },
  {
   "cell_type": "code",
   "execution_count": 6,
   "id": "33e76629",
   "metadata": {
    "ExecuteTime": {
     "end_time": "2022-10-27T16:53:18.466646Z",
     "start_time": "2022-10-27T16:53:18.360004Z"
    }
   },
   "outputs": [
    {
     "name": "stderr",
     "output_type": "stream",
     "text": [
      "C:\\Users\\USER\\AppData\\Local\\Temp\\ipykernel_23864\\58359773.py:1: FutureWarning: The default value of numeric_only in DataFrame.corr is deprecated. In a future version, it will default to False. Select only valid columns or specify the value of numeric_only to silence this warning.\n",
      "  sns.heatmap(df.corr())\n"
     ]
    },
    {
     "data": {
      "text/plain": [
       "<AxesSubplot: >"
      ]
     },
     "execution_count": 6,
     "metadata": {},
     "output_type": "execute_result"
    },
    {
     "data": {
      "image/png": "[encoded data removed]",
      "text/plain": [
       "<Figure size 640x480 with 2 Axes>"
      ]
     },
     "metadata": {},
     "output_type": "display_data"
    }
   ],
   "source": [
    "sns.heatmap(df.corr())"
   ]
  },
  {
   "cell_type": "code",
   "execution_count": 7,
   "id": "a01d3bab",
   "metadata": {
    "ExecuteTime": {
     "end_time": "2022-10-27T16:53:18.481596Z",
     "start_time": "2022-10-27T16:53:18.467644Z"
    }
   },
   "outputs": [
    {
     "data": {
      "text/html": [
       "<div>\n",
       "<style scoped>\n",
       "    .dataframe tbody tr th:only-of-type {\n",
       "        vertical-align: middle;\n",
       "    }\n",
       "\n",
       "    .dataframe tbody tr th {\n",
       "        vertical-align: top;\n",
       "    }\n",
       "\n",
       "    .dataframe thead th {\n",
       "        text-align: right;\n",
       "    }\n",
       "</style>\n",
       "<table border=\"1\" class=\"dataframe\">\n",
       "  <thead>\n",
       "    <tr style=\"text-align: right;\">\n",
       "      <th></th>\n",
       "      <th>Designation</th>\n",
       "      <th>Resource Allocation</th>\n",
       "      <th>Mental Fatigue Score</th>\n",
       "      <th>Burn Rate</th>\n",
       "    </tr>\n",
       "  </thead>\n",
       "  <tbody>\n",
       "    <tr>\n",
       "      <th>count</th>\n",
       "      <td>9624.000000</td>\n",
       "      <td>9041.000000</td>\n",
       "      <td>8738.000000</td>\n",
       "      <td>9624.000000</td>\n",
       "    </tr>\n",
       "    <tr>\n",
       "      <th>mean</th>\n",
       "      <td>2.183292</td>\n",
       "      <td>4.500055</td>\n",
       "      <td>5.731231</td>\n",
       "      <td>0.452351</td>\n",
       "    </tr>\n",
       "    <tr>\n",
       "      <th>std</th>\n",
       "      <td>1.141031</td>\n",
       "      <td>2.051501</td>\n",
       "      <td>1.921508</td>\n",
       "      <td>0.198787</td>\n",
       "    </tr>\n",
       "    <tr>\n",
       "      <th>min</th>\n",
       "      <td>0.000000</td>\n",
       "      <td>1.000000</td>\n",
       "      <td>0.000000</td>\n",
       "      <td>0.000000</td>\n",
       "    </tr>\n",
       "    <tr>\n",
       "      <th>25%</th>\n",
       "      <td>1.000000</td>\n",
       "      <td>3.000000</td>\n",
       "      <td>4.600000</td>\n",
       "      <td>0.320000</td>\n",
       "    </tr>\n",
       "    <tr>\n",
       "      <th>50%</th>\n",
       "      <td>2.000000</td>\n",
       "      <td>4.000000</td>\n",
       "      <td>5.900000</td>\n",
       "      <td>0.450000</td>\n",
       "    </tr>\n",
       "    <tr>\n",
       "      <th>75%</th>\n",
       "      <td>3.000000</td>\n",
       "      <td>6.000000</td>\n",
       "      <td>7.100000</td>\n",
       "      <td>0.590000</td>\n",
       "    </tr>\n",
       "    <tr>\n",
       "      <th>max</th>\n",
       "      <td>5.000000</td>\n",
       "      <td>10.000000</td>\n",
       "      <td>10.000000</td>\n",
       "      <td>1.000000</td>\n",
       "    </tr>\n",
       "  </tbody>\n",
       "</table>\n",
       "</div>"
      ],
      "text/plain": [
       "       Designation  Resource Allocation  Mental Fatigue Score    Burn Rate\n",
       "count  9624.000000          9041.000000           8738.000000  9624.000000\n",
       "mean      2.183292             4.500055              5.731231     0.452351\n",
       "std       1.141031             2.051501              1.921508     0.198787\n",
       "min       0.000000             1.000000              0.000000     0.000000\n",
       "25%       1.000000             3.000000              4.600000     0.320000\n",
       "50%       2.000000             4.000000              5.900000     0.450000\n",
       "75%       3.000000             6.000000              7.100000     0.590000\n",
       "max       5.000000            10.000000             10.000000     1.000000"
      ]
     },
     "execution_count": 7,
     "metadata": {},
     "output_type": "execute_result"
    }
   ],
   "source": [
    "df.describe()"
   ]
  },
  {
   "cell_type": "markdown",
   "id": "vaA_AJqSPfo0",
   "metadata": {
    "id": "vaA_AJqSPfo0"
   },
   "source": [
    "# Data Preprocessing"
   ]
  },
  {
   "cell_type": "markdown",
   "id": "46151c18",
   "metadata": {},
   "source": [
    "## Transfer Time related Data"
   ]
  },
  {
   "cell_type": "code",
   "execution_count": 8,
   "id": "da494d19",
   "metadata": {
    "ExecuteTime": {
     "end_time": "2022-10-27T16:53:18.497075Z",
     "start_time": "2022-10-27T16:53:18.481596Z"
    }
   },
   "outputs": [],
   "source": [
    "def transfer_date(date):\n",
    "    date_format = \"%Y/%m/%d\"\n",
    "    a = datetime.strptime('2022/10/10', date_format)\n",
    "    b = datetime.strptime(date, date_format)\n",
    "    delta = a - b\n",
    "    return delta.days"
   ]
  },
  {
   "cell_type": "code",
   "execution_count": 9,
   "id": "d249a953",
   "metadata": {
    "ExecuteTime": {
     "end_time": "2022-10-27T16:53:18.590823Z",
     "start_time": "2022-10-27T16:53:18.498110Z"
    }
   },
   "outputs": [
    {
     "name": "stderr",
     "output_type": "stream",
     "text": [
      "C:\\Users\\USER\\AppData\\Local\\Temp\\ipykernel_23864\\1446608504.py:1: SettingWithCopyWarning: \n",
      "A value is trying to be set on a copy of a slice from a DataFrame.\n",
      "Try using .loc[row_indexer,col_indexer] = value instead\n",
      "\n",
      "See the caveats in the documentation: https://pandas.pydata.org/pandas-docs/stable/user_guide/indexing.html#returning-a-view-versus-a-copy\n",
      "  X['Date of Joining'] = X['Date of Joining'].apply(lambda x : transfer_date(x))\n"
     ]
    }
   ],
   "source": [
    "X['Date of Joining'] = X['Date of Joining'].apply(lambda x : transfer_date(x))"
   ]
  },
  {
   "cell_type": "markdown",
   "id": "84043b1e",
   "metadata": {},
   "source": [
    "## Categorical Data Transforming -  Target Encoder"
   ]
  },
  {
   "cell_type": "code",
   "execution_count": 10,
   "id": "040d5098",
   "metadata": {
    "ExecuteTime": {
     "end_time": "2022-10-27T16:53:18.622174Z",
     "start_time": "2022-10-27T16:53:18.591820Z"
    }
   },
   "outputs": [],
   "source": [
    "## 原類別型\n",
    "ce_leave = ce.LeaveOneOutEncoder(cols = ['Gender','Company Type','WFH Setup Available'], handle_unknown='value')\n",
    "ce_leave.fit(X, y)     \n",
    "X = ce_leave.transform(X)"
   ]
  },
  {
   "cell_type": "markdown",
   "id": "1efa7eed",
   "metadata": {},
   "source": [
    "## Normalize Data"
   ]
  },
  {
   "cell_type": "code",
   "execution_count": 11,
   "id": "f6737bde",
   "metadata": {
    "ExecuteTime": {
     "end_time": "2022-10-27T16:53:18.638153Z",
     "start_time": "2022-10-27T16:53:18.623170Z"
    }
   },
   "outputs": [],
   "source": [
    "# Normalization\n",
    "Normalize_scaler = StandardScaler()\n",
    "X = pd.DataFrame(Normalize_scaler.fit_transform(X), columns=X.columns, index=X.index)"
   ]
  },
  {
   "cell_type": "markdown",
   "id": "9d15295b",
   "metadata": {},
   "source": [
    "## Fill Missing Value - KNN Imputer"
   ]
  },
  {
   "cell_type": "code",
   "execution_count": 12,
   "id": "Xjt9kVQpIpEP",
   "metadata": {
    "ExecuteTime": {
     "end_time": "2022-10-27T16:53:18.653790Z",
     "start_time": "2022-10-27T16:53:18.639149Z"
    },
    "colab": {
     "base_uri": "https://localhost:8080/"
    },
    "id": "Xjt9kVQpIpEP",
    "outputId": "575da9d3-5983-4959-862e-dac170fd99be"
   },
   "outputs": [
    {
     "data": {
      "text/plain": [
       "Date of Joining           0\n",
       "Gender                    0\n",
       "Company Type              0\n",
       "WFH Setup Available       0\n",
       "Designation               0\n",
       "Resource Allocation     583\n",
       "Mental Fatigue Score    886\n",
       "dtype: int64"
      ]
     },
     "execution_count": 12,
     "metadata": {},
     "output_type": "execute_result"
    }
   ],
   "source": [
    "X.isna().sum()"
   ]
  },
  {
   "cell_type": "code",
   "execution_count": 13,
   "id": "82354660",
   "metadata": {
    "ExecuteTime": {
     "end_time": "2022-10-27T16:53:19.110226Z",
     "start_time": "2022-10-27T16:53:18.654786Z"
    }
   },
   "outputs": [],
   "source": [
    "# TODO\n",
    "imputer = KNNImputer(n_neighbors=5)\n",
    "X = pd.DataFrame(imputer.fit_transform(X),columns = X.columns)"
   ]
  },
  {
   "cell_type": "code",
   "execution_count": 14,
   "id": "ae9c0feb",
   "metadata": {
    "ExecuteTime": {
     "end_time": "2022-10-27T16:53:19.126067Z",
     "start_time": "2022-10-27T16:53:19.110226Z"
    }
   },
   "outputs": [
    {
     "data": {
      "text/plain": [
       "Date of Joining         0\n",
       "Gender                  0\n",
       "Company Type            0\n",
       "WFH Setup Available     0\n",
       "Designation             0\n",
       "Resource Allocation     0\n",
       "Mental Fatigue Score    0\n",
       "dtype: int64"
      ]
     },
     "execution_count": 14,
     "metadata": {},
     "output_type": "execute_result"
    }
   ],
   "source": [
    "X.isna().sum()"
   ]
  },
  {
   "cell_type": "code",
   "execution_count": 15,
   "id": "f0d35a06",
   "metadata": {
    "ExecuteTime": {
     "end_time": "2022-10-27T16:53:19.141499Z",
     "start_time": "2022-10-27T16:53:19.127061Z"
    }
   },
   "outputs": [],
   "source": [
    "X.reset_index(drop=True,inplace=True)\n",
    "y.reset_index(drop=True,inplace=True)"
   ]
  },
  {
   "cell_type": "markdown",
   "id": "0265f024",
   "metadata": {},
   "source": [
    "# EDA"
   ]
  },
  {
   "cell_type": "code",
   "execution_count": 16,
   "id": "b28072bc",
   "metadata": {
    "ExecuteTime": {
     "end_time": "2022-10-27T16:53:19.266994Z",
     "start_time": "2022-10-27T16:53:19.142497Z"
    }
   },
   "outputs": [
    {
     "data": {
      "text/plain": [
       "<AxesSubplot: >"
      ]
     },
     "execution_count": 16,
     "metadata": {},
     "output_type": "execute_result"
    },
    {
     "data": {
      "image/png": "[encoded data removed]",
      "text/plain": [
       "<Figure size 640x480 with 2 Axes>"
      ]
     },
     "metadata": {},
     "output_type": "display_data"
    }
   ],
   "source": [
    "df = pd.concat([X,y],axis=1)\n",
    "sns.heatmap(df.corr())"
   ]
  },
  {
   "cell_type": "markdown",
   "id": "7139aaad",
   "metadata": {},
   "source": [
    "# Feature Selection"
   ]
  },
  {
   "cell_type": "code",
   "execution_count": 17,
   "id": "e98114f2",
   "metadata": {
    "ExecuteTime": {
     "end_time": "2022-10-27T16:53:19.533619Z",
     "start_time": "2022-10-27T16:53:19.267990Z"
    }
   },
   "outputs": [
    {
     "data": {
      "text/plain": [
       "<AxesSubplot: title={'center': 'Feature importance'}, xlabel='F score', ylabel='Features'>"
      ]
     },
     "execution_count": 17,
     "metadata": {},
     "output_type": "execute_result"
    },
    {
     "data": {
      "image/png": "[encoded data removed]",
      "text/plain": [
       "<Figure size 640x480 with 1 Axes>"
      ]
     },
     "metadata": {},
     "output_type": "display_data"
    }
   ],
   "source": [
    "mode_xgb = xgb.XGBRegressor()\n",
    "mode_xgb.fit(X,y)\n",
    "xgb.plot_importance(mode_xgb)"
   ]
  },
  {
   "cell_type": "code",
   "execution_count": 18,
   "id": "77d2e412",
   "metadata": {
    "ExecuteTime": {
     "end_time": "2022-10-27T16:53:21.297195Z",
     "start_time": "2022-10-27T16:53:19.534580Z"
    }
   },
   "outputs": [
    {
     "data": {
      "text/plain": [
       "Text(0.5, 0, 'Feature Importance')"
      ]
     },
     "execution_count": 18,
     "metadata": {},
     "output_type": "execute_result"
    },
    {
     "data": {
      "image/png": "[encoded data removed]",
      "text/plain": [
       "<Figure size 640x480 with 1 Axes>"
      ]
     },
     "metadata": {},
     "output_type": "display_data"
    }
   ],
   "source": [
    "rf = RandomForestRegressor(n_estimators=150)\n",
    "rf.fit(X, y)\n",
    "sort = rf.feature_importances_.argsort()\n",
    "plt.barh(X.columns[sort], rf.feature_importances_[sort])\n",
    "plt.xlabel(\"Feature Importance\")"
   ]
  },
  {
   "cell_type": "code",
   "execution_count": 19,
   "id": "3bda06a2",
   "metadata": {
    "ExecuteTime": {
     "end_time": "2022-10-27T16:53:21.312651Z",
     "start_time": "2022-10-27T16:53:21.298192Z"
    }
   },
   "outputs": [
    {
     "data": {
      "text/plain": [
       "Index(['Date of Joining', 'Gender', 'Company Type', 'WFH Setup Available',\n",
       "       'Designation', 'Resource Allocation', 'Mental Fatigue Score',\n",
       "       'Burn Rate'],\n",
       "      dtype='object')"
      ]
     },
     "execution_count": 19,
     "metadata": {},
     "output_type": "execute_result"
    }
   ],
   "source": [
    "df.columns"
   ]
  },
  {
   "cell_type": "code",
   "execution_count": 20,
   "id": "d44a60e0",
   "metadata": {
    "ExecuteTime": {
     "end_time": "2022-10-27T16:53:21.328002Z",
     "start_time": "2022-10-27T16:53:21.313689Z"
    }
   },
   "outputs": [],
   "source": [
    "# TODO\n",
    "X = X.loc[:,~X.columns.isin(['WFH Setup Available', 'Company Type','Gender'])]"
   ]
  },
  {
   "cell_type": "markdown",
   "id": "e4df3f5d",
   "metadata": {},
   "source": [
    "# Modeling"
   ]
  },
  {
   "cell_type": "markdown",
   "id": "72aa7e63",
   "metadata": {},
   "source": [
    "## Hypterparameter tuning - Optuna"
   ]
  },
  {
   "cell_type": "code",
   "execution_count": 21,
   "id": "ea8140ba",
   "metadata": {
    "ExecuteTime": {
     "end_time": "2022-10-27T16:53:21.343151Z",
     "start_time": "2022-10-27T16:53:21.329000Z"
    }
   },
   "outputs": [],
   "source": [
    "# #optuna to set the hyperparameter of XGBoost\n",
    "# def objective_xgb(trial):\n",
    "    \n",
    "#     param = {\n",
    "#         'max_depth': trial.suggest_int('max_depth', 6, 15),\n",
    "#         \"subsample\": trial.suggest_float(\"subsample\", 0.2, 1.0),\n",
    "#         'n_estimators': trial.suggest_int('n_estimators', 500, 2000, 100),\n",
    "#         'eta': trial.suggest_float(\"eta\", 1e-8, 1.0, log=True),\n",
    "#         'alpha': trial.suggest_float('alpha', 1e-8, 1.0, log=True),\n",
    "#         'lambda': trial.suggest_float('lambda', 1e-8, 1.0, log=True),\n",
    "#         'gamma': trial.suggest_float(\"gamma\", 1e-8, 1.0, log=True),\n",
    "#         'min_child_weight': trial.suggest_int('min_child_weight', 2, 10),\n",
    "#         'grow_policy': trial.suggest_categorical(\"grow_policy\", [\"depthwise\", \"lossguide\"]),\n",
    "#         \"colsample_bytree\": trial.suggest_float(\"colsample_bytree\", 0.2, 1.0)\n",
    "#     }\n",
    "#     model = xgb.XGBRegressor(**param,tree_method='gpu_hist',random_state=SEED).fit(X_train,y_train['Burn Rate'])\n",
    "#     y_pred = model.predict(X_valid)\n",
    "#     pred_list = y_pred.tolist()\n",
    "#     act_list = y_valid['Burn Rate'].tolist()\n",
    "\n",
    "#     error_list = []   \n",
    "#     for i in range(0, len(y_pred)):\n",
    "#         error_list.append(abs(round(act_list[i] - pred_list[i], 4)))\n",
    "#     abs_error_list_r4 =  [abs(ele) for ele in error_list]\n",
    "    \n",
    "#     return sum(abs_error_list_r4)/len(abs_error_list_r4)"
   ]
  },
  {
   "cell_type": "code",
   "execution_count": 22,
   "id": "14c7d070",
   "metadata": {
    "ExecuteTime": {
     "end_time": "2022-10-27T16:53:21.359004Z",
     "start_time": "2022-10-27T16:53:21.344149Z"
    }
   },
   "outputs": [],
   "source": [
    "# 分成不同盒子 - 分層抽樣用\n",
    "def get_box(df):\n",
    "    Y1_list = []\n",
    "    for Y1 in df['Burn Rate']: \n",
    "        if (Y1 > np.percentile(df['Burn Rate'], 80)):\n",
    "            Y1_list.append('3')\n",
    "        elif (Y1 < np.percentile(df['Burn Rate'], 20)):\n",
    "            Y1_list.append('2')\n",
    "        else:\n",
    "            Y1_list.append('1')\n",
    "    df['box'] = Y1_list\n",
    "    return df"
   ]
  },
  {
   "cell_type": "code",
   "execution_count": 23,
   "id": "d1202934",
   "metadata": {
    "ExecuteTime": {
     "end_time": "2022-10-27T16:53:21.374582Z",
     "start_time": "2022-10-27T16:53:21.360003Z"
    }
   },
   "outputs": [],
   "source": [
    "# # 分層抽樣因子\n",
    "# df = get_box(df)\n",
    "\n",
    "# X = df[df.columns[:-2]]\n",
    "# y = df[df.columns[-2:]]\n",
    "\n",
    "# X_train, X_valid, y_train, y_valid = train_test_split(X, y, test_size=0.2, random_state=42,stratify=y['box'])"
   ]
  },
  {
   "cell_type": "markdown",
   "id": "WyJKb2JdIpEQ",
   "metadata": {
    "id": "WyJKb2JdIpEQ"
   },
   "source": [
    "## Training (model construction)"
   ]
  },
  {
   "cell_type": "code",
   "execution_count": 24,
   "id": "aded2855",
   "metadata": {
    "ExecuteTime": {
     "end_time": "2022-10-27T16:53:21.420558Z",
     "start_time": "2022-10-27T16:53:21.375580Z"
    }
   },
   "outputs": [
    {
     "name": "stdout",
     "output_type": "stream",
     "text": [
      "2.10.0\n",
      "1.1.3\n"
     ]
    }
   ],
   "source": [
    "import tensorflow as tf\n",
    "import keras_tuner as kt\n",
    "print(tf.__version__)\n",
    "print(kt.__version__)"
   ]
  },
  {
   "cell_type": "code",
   "execution_count": 25,
   "id": "4f374bca",
   "metadata": {
    "ExecuteTime": {
     "end_time": "2022-10-27T16:53:22.608549Z",
     "start_time": "2022-10-27T16:53:21.421557Z"
    }
   },
   "outputs": [],
   "source": [
    "!pip install -q -U keras-tuner\n",
    "from keras_tuner import HyperModel\n",
    "\n",
    "class RegressionHyperModel(HyperModel):\n",
    "    def __init__(self, input_shape):\n",
    "        self.input_shape = input_shape\n",
    "    def build(self, hp):\n",
    "        model = tf.keras.Sequential()\n",
    "        \n",
    "        #1\n",
    "        model.add(tf.keras.layers.Dense(\n",
    "                units=hp.Int('units', 2, 10, 1, default=5),\n",
    "                activation='relu',\n",
    "                input_shape=input_shape))\n",
    "        model.add(\n",
    "            tf.keras.layers.Dropout(\n",
    "                hp.Float(\n",
    "                    'dropout',\n",
    "                    min_value=0.0,\n",
    "                    max_value=0.5,\n",
    "                    default=0.2,\n",
    "                    step=0.1)))      \n",
    "        model.add(tf.keras.layers.BatchNormalization())\n",
    "        \n",
    "        #2\n",
    "        model.add(tf.keras.layers.Dense(\n",
    "                units=hp.Int('units',2, 10, 1, default=5),\n",
    "                activation='relu'))    \n",
    "        model.add(\n",
    "            tf.keras.layers.Dropout(\n",
    "                hp.Float(\n",
    "                    'dropout',\n",
    "                    min_value=0.0,\n",
    "                    max_value=0.5,\n",
    "                    default=0.2,\n",
    "                    step=0.1)))\n",
    "        model.add(tf.keras.layers.BatchNormalization())\n",
    "        model.add(tf.keras.layers.Dense(1))\n",
    "        \n",
    "        model.compile(\n",
    "            optimizer='adam',loss='mae',metrics=['mae'])\n",
    "        \n",
    "        return model"
   ]
  },
  {
   "cell_type": "code",
   "execution_count": 26,
   "id": "bfe792d5",
   "metadata": {
    "ExecuteTime": {
     "end_time": "2022-10-27T16:53:22.623656Z",
     "start_time": "2022-10-27T16:53:22.609548Z"
    }
   },
   "outputs": [],
   "source": [
    "input_shape = (4,)\n",
    "hypermodel = RegressionHyperModel(input_shape)"
   ]
  },
  {
   "cell_type": "markdown",
   "id": "750fe649",
   "metadata": {},
   "source": [
    "## Random Search"
   ]
  },
  {
   "cell_type": "code",
   "execution_count": 27,
   "id": "8376b07d",
   "metadata": {
    "ExecuteTime": {
     "end_time": "2022-10-27T16:53:22.638704Z",
     "start_time": "2022-10-27T16:53:22.624691Z"
    }
   },
   "outputs": [],
   "source": [
    "# tuner_rs = kt.RandomSearch(\n",
    "#             hypermodel,\n",
    "#             objective='mae',\n",
    "#             seed=42,\n",
    "#             overwrite=True,\n",
    "#             max_trials=10,\n",
    "#             executions_per_trial=2,\n",
    "#             directory='random search')"
   ]
  },
  {
   "cell_type": "code",
   "execution_count": 28,
   "id": "af3490ce",
   "metadata": {
    "ExecuteTime": {
     "end_time": "2022-10-27T16:53:22.653823Z",
     "start_time": "2022-10-27T16:53:22.641730Z"
    }
   },
   "outputs": [],
   "source": [
    "# tuner_rs.search(X, y, epochs=50, validation_split = 0.2, verbose=1)"
   ]
  },
  {
   "cell_type": "code",
   "execution_count": 29,
   "id": "36e5f68a",
   "metadata": {
    "ExecuteTime": {
     "end_time": "2022-10-27T16:53:22.669493Z",
     "start_time": "2022-10-27T16:53:22.654820Z"
    }
   },
   "outputs": [],
   "source": [
    "# best_model_rs = tuner_rs.get_best_models(num_models=1)[0]"
   ]
  },
  {
   "cell_type": "markdown",
   "id": "f1220ed4",
   "metadata": {},
   "source": [
    "## Hyperband"
   ]
  },
  {
   "cell_type": "code",
   "execution_count": 30,
   "id": "1bc13a3d",
   "metadata": {
    "ExecuteTime": {
     "end_time": "2022-10-27T16:53:24.231856Z",
     "start_time": "2022-10-27T16:53:23.459918Z"
    }
   },
   "outputs": [],
   "source": [
    "tuner_hb = kt.Hyperband(\n",
    "            hypermodel,\n",
    "            max_epochs=10,\n",
    "            objective='mae',\n",
    "            seed=42,\n",
    "            overwrite=True,\n",
    "            directory='hyperband')"
   ]
  },
  {
   "cell_type": "code",
   "execution_count": 31,
   "id": "bd88726b",
   "metadata": {
    "ExecuteTime": {
     "end_time": "2022-10-27T16:56:00.111557Z",
     "start_time": "2022-10-27T16:53:24.845100Z"
    }
   },
   "outputs": [
    {
     "name": "stdout",
     "output_type": "stream",
     "text": [
      "Trial 30 Complete [00h 00m 12s]\n",
      "mae: 0.12402966618537903\n",
      "\n",
      "Best mae So Far: 0.06164402514696121\n",
      "Total elapsed time: 00h 02m 35s\n",
      "INFO:tensorflow:Oracle triggered exit\n"
     ]
    }
   ],
   "source": [
    "tuner_hb.search(X, y, epochs=50, validation_split = 0.2, verbose=1)"
   ]
  },
  {
   "cell_type": "code",
   "execution_count": 32,
   "id": "45ec9adc",
   "metadata": {
    "ExecuteTime": {
     "end_time": "2022-10-27T16:56:05.091999Z",
     "start_time": "2022-10-27T16:56:04.924323Z"
    }
   },
   "outputs": [],
   "source": [
    "best_model_hb = tuner_hb.get_best_models(num_models=1)[0]\n",
    "# best_model_hb.evaluate(X_valid, y_valid['Y1'])"
   ]
  },
  {
   "cell_type": "markdown",
   "id": "ee2558c5",
   "metadata": {},
   "source": [
    "## Bayesian "
   ]
  },
  {
   "cell_type": "code",
   "execution_count": null,
   "id": "7874a691",
   "metadata": {},
   "outputs": [],
   "source": [
    "tuner_bo = kt.BayesianOptimization(\n",
    "            hypermodel,\n",
    "            objective='mae',\n",
    "            max_trials=10,\n",
    "            seed=42,\n",
    "            overwrite=True,\n",
    "            executions_per_trial=2,\n",
    "            directory='bayesian optimization')"
   ]
  },
  {
   "cell_type": "code",
   "execution_count": null,
   "id": "f0ad2176",
   "metadata": {},
   "outputs": [],
   "source": [
    "tuner_bo.search(X_train, y_train['Y1'], epochs=50, validation_split = 0.2, verbose=1)"
   ]
  },
  {
   "cell_type": "markdown",
   "id": "myOBllB_IpEQ",
   "metadata": {
    "id": "myOBllB_IpEQ"
   },
   "source": [
    "# Prediction\n",
    "1. read data\n",
    "2. model prediction\n",
    "3. to_csv"
   ]
  },
  {
   "cell_type": "code",
   "execution_count": 33,
   "id": "HyWyzS-oIpEQ",
   "metadata": {
    "ExecuteTime": {
     "end_time": "2022-10-27T16:56:07.259191Z",
     "start_time": "2022-10-27T16:56:07.237265Z"
    },
    "colab": {
     "base_uri": "https://localhost:8080/",
     "height": 224
    },
    "id": "HyWyzS-oIpEQ",
    "outputId": "49a27bb4-62b1-4e10-d03b-379955382aaf"
   },
   "outputs": [
    {
     "name": "stdout",
     "output_type": "stream",
     "text": [
      "(1980, 8)\n"
     ]
    },
    {
     "data": {
      "text/html": [
       "<div>\n",
       "<style scoped>\n",
       "    .dataframe tbody tr th:only-of-type {\n",
       "        vertical-align: middle;\n",
       "    }\n",
       "\n",
       "    .dataframe tbody tr th {\n",
       "        vertical-align: top;\n",
       "    }\n",
       "\n",
       "    .dataframe thead th {\n",
       "        text-align: right;\n",
       "    }\n",
       "</style>\n",
       "<table border=\"1\" class=\"dataframe\">\n",
       "  <thead>\n",
       "    <tr style=\"text-align: right;\">\n",
       "      <th></th>\n",
       "      <th>Employee ID</th>\n",
       "      <th>Date of Joining</th>\n",
       "      <th>Gender</th>\n",
       "      <th>Company Type</th>\n",
       "      <th>WFH Setup Available</th>\n",
       "      <th>Designation</th>\n",
       "      <th>Resource Allocation</th>\n",
       "      <th>Mental Fatigue Score</th>\n",
       "    </tr>\n",
       "  </thead>\n",
       "  <tbody>\n",
       "    <tr>\n",
       "      <th>0</th>\n",
       "      <td>0</td>\n",
       "      <td>2008/11/12</td>\n",
       "      <td>Male</td>\n",
       "      <td>Service</td>\n",
       "      <td>Yes</td>\n",
       "      <td>0</td>\n",
       "      <td>1.0</td>\n",
       "      <td>0.0</td>\n",
       "    </tr>\n",
       "    <tr>\n",
       "      <th>1</th>\n",
       "      <td>1</td>\n",
       "      <td>2008/3/11</td>\n",
       "      <td>Male</td>\n",
       "      <td>Product</td>\n",
       "      <td>No</td>\n",
       "      <td>3</td>\n",
       "      <td>8.0</td>\n",
       "      <td>7.9</td>\n",
       "    </tr>\n",
       "    <tr>\n",
       "      <th>2</th>\n",
       "      <td>2</td>\n",
       "      <td>2008/4/3</td>\n",
       "      <td>Male</td>\n",
       "      <td>Service</td>\n",
       "      <td>No</td>\n",
       "      <td>4</td>\n",
       "      <td>9.0</td>\n",
       "      <td>8.1</td>\n",
       "    </tr>\n",
       "    <tr>\n",
       "      <th>3</th>\n",
       "      <td>3</td>\n",
       "      <td>2008/10/1</td>\n",
       "      <td>Male</td>\n",
       "      <td>Product</td>\n",
       "      <td>No</td>\n",
       "      <td>1</td>\n",
       "      <td>3.0</td>\n",
       "      <td>5.7</td>\n",
       "    </tr>\n",
       "    <tr>\n",
       "      <th>4</th>\n",
       "      <td>4</td>\n",
       "      <td>2008/1/5</td>\n",
       "      <td>Female</td>\n",
       "      <td>Service</td>\n",
       "      <td>No</td>\n",
       "      <td>3</td>\n",
       "      <td>5.0</td>\n",
       "      <td>NaN</td>\n",
       "    </tr>\n",
       "  </tbody>\n",
       "</table>\n",
       "</div>"
      ],
      "text/plain": [
       "   Employee ID Date of Joining  Gender Company Type WFH Setup Available  \\\n",
       "0            0      2008/11/12    Male      Service                 Yes   \n",
       "1            1       2008/3/11    Male      Product                  No   \n",
       "2            2        2008/4/3    Male      Service                  No   \n",
       "3            3       2008/10/1    Male      Product                  No   \n",
       "4            4        2008/1/5  Female      Service                  No   \n",
       "\n",
       "   Designation  Resource Allocation  Mental Fatigue Score  \n",
       "0            0                  1.0                   0.0  \n",
       "1            3                  8.0                   7.9  \n",
       "2            4                  9.0                   8.1  \n",
       "3            1                  3.0                   5.7  \n",
       "4            3                  5.0                   NaN  "
      ]
     },
     "execution_count": 33,
     "metadata": {},
     "output_type": "execute_result"
    }
   ],
   "source": [
    "df_test = pd.read_csv(r'./test.csv')\n",
    "print(df_test.shape)\n",
    "df_test.head()"
   ]
  },
  {
   "cell_type": "code",
   "execution_count": 34,
   "id": "bc9b4eae",
   "metadata": {
    "ExecuteTime": {
     "end_time": "2022-10-27T16:56:07.739577Z",
     "start_time": "2022-10-27T16:56:07.721198Z"
    }
   },
   "outputs": [],
   "source": [
    "X_test = df_test[df_test.columns[1:]]"
   ]
  },
  {
   "cell_type": "markdown",
   "id": "04855841",
   "metadata": {
    "id": "vaA_AJqSPfo0"
   },
   "source": [
    "## Data Preprocessing for testing"
   ]
  },
  {
   "cell_type": "markdown",
   "id": "ad7683d8",
   "metadata": {},
   "source": [
    "## Transfer Time related Data"
   ]
  },
  {
   "cell_type": "code",
   "execution_count": 35,
   "id": "68a69041",
   "metadata": {
    "ExecuteTime": {
     "end_time": "2022-10-27T16:56:09.829202Z",
     "start_time": "2022-10-27T16:56:09.812308Z"
    }
   },
   "outputs": [],
   "source": [
    "def transfer_date(date):\n",
    "    date_format = \"%Y/%m/%d\"\n",
    "    a = datetime.strptime('2022/10/10', date_format)\n",
    "    b = datetime.strptime(date, date_format)\n",
    "    delta = a - b\n",
    "    return delta.days"
   ]
  },
  {
   "cell_type": "code",
   "execution_count": 37,
   "id": "311baa03",
   "metadata": {
    "ExecuteTime": {
     "end_time": "2022-10-27T16:56:15.278564Z",
     "start_time": "2022-10-27T16:56:15.235747Z"
    }
   },
   "outputs": [
    {
     "name": "stderr",
     "output_type": "stream",
     "text": [
      "C:\\Users\\USER\\AppData\\Local\\Temp\\ipykernel_23864\\345012162.py:1: SettingWithCopyWarning: \n",
      "A value is trying to be set on a copy of a slice from a DataFrame.\n",
      "Try using .loc[row_indexer,col_indexer] = value instead\n",
      "\n",
      "See the caveats in the documentation: https://pandas.pydata.org/pandas-docs/stable/user_guide/indexing.html#returning-a-view-versus-a-copy\n",
      "  X_test['Date of Joining'] = X_test['Date of Joining'].apply(lambda x : transfer_date(x))\n"
     ]
    }
   ],
   "source": [
    "X_test['Date of Joining'] = X_test['Date of Joining'].apply(lambda x : transfer_date(x))"
   ]
  },
  {
   "cell_type": "markdown",
   "id": "f67bcce9",
   "metadata": {},
   "source": [
    "## Categorical Data Transforming -  Target Encoder"
   ]
  },
  {
   "cell_type": "code",
   "execution_count": 38,
   "id": "a8a55651",
   "metadata": {
    "ExecuteTime": {
     "end_time": "2022-10-27T16:56:16.288520Z",
     "start_time": "2022-10-27T16:56:16.275564Z"
    }
   },
   "outputs": [],
   "source": [
    "## 原類別型\n",
    "X_test = ce_leave.transform(X_test)"
   ]
  },
  {
   "cell_type": "markdown",
   "id": "b15befbc",
   "metadata": {},
   "source": [
    "## Normalize Data"
   ]
  },
  {
   "cell_type": "code",
   "execution_count": 39,
   "id": "e2fdcc66",
   "metadata": {
    "ExecuteTime": {
     "end_time": "2022-10-27T16:56:20.129708Z",
     "start_time": "2022-10-27T16:56:20.122733Z"
    }
   },
   "outputs": [],
   "source": [
    "# Normalization\n",
    "X_test = pd.DataFrame(Normalize_scaler.transform(X_test), columns=X_test.columns, index=X_test.index)"
   ]
  },
  {
   "cell_type": "markdown",
   "id": "176540f2",
   "metadata": {},
   "source": [
    "## Fill Missing Value - KNN Imputer"
   ]
  },
  {
   "cell_type": "code",
   "execution_count": 40,
   "id": "gb3Fwn1_LRiz",
   "metadata": {
    "ExecuteTime": {
     "end_time": "2022-10-27T16:56:21.526213Z",
     "start_time": "2022-10-27T16:56:21.516294Z"
    },
    "colab": {
     "base_uri": "https://localhost:8080/"
    },
    "id": "gb3Fwn1_LRiz",
    "outputId": "558f0bbd-022b-4a87-e375-2b24d3596067"
   },
   "outputs": [
    {
     "data": {
      "text/plain": [
       "Date of Joining           0\n",
       "Gender                    0\n",
       "Company Type              0\n",
       "WFH Setup Available       0\n",
       "Designation               0\n",
       "Resource Allocation     110\n",
       "Mental Fatigue Score    186\n",
       "dtype: int64"
      ]
     },
     "execution_count": 40,
     "metadata": {},
     "output_type": "execute_result"
    }
   ],
   "source": [
    "X_test.isna().sum()"
   ]
  },
  {
   "cell_type": "code",
   "execution_count": 41,
   "id": "710bc74f",
   "metadata": {
    "ExecuteTime": {
     "end_time": "2022-10-27T16:56:22.147088Z",
     "start_time": "2022-10-27T16:56:22.043977Z"
    }
   },
   "outputs": [],
   "source": [
    "X_test = pd.DataFrame(imputer.transform(X_test),columns = X_test.columns)"
   ]
  },
  {
   "cell_type": "markdown",
   "id": "512632ac",
   "metadata": {},
   "source": [
    "## Predict Testing set"
   ]
  },
  {
   "cell_type": "code",
   "execution_count": 42,
   "id": "a8d10891",
   "metadata": {
    "ExecuteTime": {
     "end_time": "2022-10-27T16:56:47.192079Z",
     "start_time": "2022-10-27T16:56:47.178156Z"
    }
   },
   "outputs": [],
   "source": [
    "# TODO\n",
    "X_test = X_test.loc[:,~X_test.columns.isin(['WFH Setup Available', 'Company Type','Gender'])]"
   ]
  },
  {
   "cell_type": "code",
   "execution_count": 44,
   "id": "af16b97b",
   "metadata": {
    "ExecuteTime": {
     "end_time": "2022-10-27T16:56:53.820303Z",
     "start_time": "2022-10-27T16:56:53.812370Z"
    }
   },
   "outputs": [],
   "source": [
    "checkpoint = tf.keras.callbacks.EarlyStopping(patience=10, monitor='val_loss')\n",
    "callbacks_list = [checkpoint]"
   ]
  },
  {
   "cell_type": "code",
   "execution_count": 45,
   "id": "99b1eb32",
   "metadata": {
    "ExecuteTime": {
     "end_time": "2022-10-27T16:57:23.320492Z",
     "start_time": "2022-10-27T16:56:55.251919Z"
    }
   },
   "outputs": [
    {
     "name": "stdout",
     "output_type": "stream",
     "text": [
      "Epoch 1/500\n",
      "241/241 [==============================] - 2s 6ms/step - loss: 0.0620 - mae: 0.0620 - val_loss: 0.0520 - val_mae: 0.0520\n",
      "Epoch 2/500\n",
      "241/241 [==============================] - 1s 5ms/step - loss: 0.0616 - mae: 0.0616 - val_loss: 0.0518 - val_mae: 0.0518\n",
      "Epoch 3/500\n",
      "241/241 [==============================] - 1s 5ms/step - loss: 0.0609 - mae: 0.0609 - val_loss: 0.0517 - val_mae: 0.0517\n",
      "Epoch 4/500\n",
      "241/241 [==============================] - 1s 5ms/step - loss: 0.0616 - mae: 0.0616 - val_loss: 0.0518 - val_mae: 0.0518\n",
      "Epoch 5/500\n",
      "241/241 [==============================] - 1s 5ms/step - loss: 0.0613 - mae: 0.0613 - val_loss: 0.0503 - val_mae: 0.0503\n",
      "Epoch 6/500\n",
      "241/241 [==============================] - 1s 5ms/step - loss: 0.0610 - mae: 0.0610 - val_loss: 0.0501 - val_mae: 0.0501\n",
      "Epoch 7/500\n",
      "241/241 [==============================] - 1s 4ms/step - loss: 0.0609 - mae: 0.0609 - val_loss: 0.0499 - val_mae: 0.0499\n",
      "Epoch 8/500\n",
      "241/241 [==============================] - 1s 4ms/step - loss: 0.0609 - mae: 0.0609 - val_loss: 0.0505 - val_mae: 0.0505\n",
      "Epoch 9/500\n",
      "241/241 [==============================] - 1s 4ms/step - loss: 0.0600 - mae: 0.0600 - val_loss: 0.0506 - val_mae: 0.0506\n",
      "Epoch 10/500\n",
      "241/241 [==============================] - 1s 4ms/step - loss: 0.0602 - mae: 0.0602 - val_loss: 0.0506 - val_mae: 0.0506\n",
      "Epoch 11/500\n",
      "241/241 [==============================] - 1s 4ms/step - loss: 0.0610 - mae: 0.0610 - val_loss: 0.0499 - val_mae: 0.0499\n",
      "Epoch 12/500\n",
      "241/241 [==============================] - 1s 4ms/step - loss: 0.0609 - mae: 0.0609 - val_loss: 0.0498 - val_mae: 0.0498\n",
      "Epoch 13/500\n",
      "241/241 [==============================] - 1s 4ms/step - loss: 0.0598 - mae: 0.0598 - val_loss: 0.0497 - val_mae: 0.0497\n",
      "Epoch 14/500\n",
      "241/241 [==============================] - 1s 4ms/step - loss: 0.0603 - mae: 0.0603 - val_loss: 0.0494 - val_mae: 0.0494\n",
      "Epoch 15/500\n",
      "241/241 [==============================] - 1s 4ms/step - loss: 0.0595 - mae: 0.0595 - val_loss: 0.0501 - val_mae: 0.0501\n",
      "Epoch 16/500\n",
      "241/241 [==============================] - 1s 4ms/step - loss: 0.0592 - mae: 0.0592 - val_loss: 0.0493 - val_mae: 0.0493\n",
      "Epoch 17/500\n",
      "241/241 [==============================] - 1s 4ms/step - loss: 0.0613 - mae: 0.0613 - val_loss: 0.0501 - val_mae: 0.0501\n",
      "Epoch 18/500\n",
      "241/241 [==============================] - 1s 4ms/step - loss: 0.0602 - mae: 0.0602 - val_loss: 0.0500 - val_mae: 0.0500\n",
      "Epoch 19/500\n",
      "241/241 [==============================] - 1s 4ms/step - loss: 0.0597 - mae: 0.0597 - val_loss: 0.0503 - val_mae: 0.0503\n",
      "Epoch 20/500\n",
      "241/241 [==============================] - 1s 4ms/step - loss: 0.0610 - mae: 0.0610 - val_loss: 0.0495 - val_mae: 0.0495\n",
      "Epoch 21/500\n",
      "241/241 [==============================] - 1s 4ms/step - loss: 0.0605 - mae: 0.0605 - val_loss: 0.0495 - val_mae: 0.0495\n",
      "Epoch 22/500\n",
      "241/241 [==============================] - 1s 4ms/step - loss: 0.0595 - mae: 0.0595 - val_loss: 0.0495 - val_mae: 0.0495\n",
      "Epoch 23/500\n",
      "241/241 [==============================] - 1s 4ms/step - loss: 0.0608 - mae: 0.0608 - val_loss: 0.0495 - val_mae: 0.0495\n",
      "Epoch 24/500\n",
      "241/241 [==============================] - 1s 5ms/step - loss: 0.0600 - mae: 0.0600 - val_loss: 0.0500 - val_mae: 0.0500\n",
      "Epoch 25/500\n",
      "241/241 [==============================] - 1s 4ms/step - loss: 0.0599 - mae: 0.0599 - val_loss: 0.0494 - val_mae: 0.0494\n",
      "Epoch 26/500\n",
      "241/241 [==============================] - 1s 4ms/step - loss: 0.0595 - mae: 0.0595 - val_loss: 0.0504 - val_mae: 0.0504\n"
     ]
    }
   ],
   "source": [
    "history_hb = best_model_hb.fit(X, y, epochs=500, batch_size=32, validation_split = 0.2, callbacks=callbacks_list)"
   ]
  },
  {
   "cell_type": "code",
   "execution_count": 46,
   "id": "HJF5Z3zHIpER",
   "metadata": {
    "ExecuteTime": {
     "end_time": "2022-10-27T16:57:33.886992Z",
     "start_time": "2022-10-27T16:57:33.660694Z"
    },
    "id": "HJF5Z3zHIpER"
   },
   "outputs": [
    {
     "name": "stdout",
     "output_type": "stream",
     "text": [
      "62/62 [==============================] - 0s 2ms/step\n"
     ]
    }
   ],
   "source": [
    "y_pred = best_model_hb.predict(X_test)"
   ]
  },
  {
   "cell_type": "code",
   "execution_count": 48,
   "id": "4879107a",
   "metadata": {
    "ExecuteTime": {
     "end_time": "2022-10-27T16:57:41.413469Z",
     "start_time": "2022-10-27T16:57:41.404502Z"
    }
   },
   "outputs": [
    {
     "data": {
      "text/plain": [
       "array([[-0.05578294],\n",
       "       [ 0.7098317 ],\n",
       "       [ 0.74825215],\n",
       "       ...,\n",
       "       [ 0.32495973],\n",
       "       [ 0.5522934 ],\n",
       "       [ 0.47835886]], dtype=float32)"
      ]
     },
     "execution_count": 48,
     "metadata": {},
     "output_type": "execute_result"
    }
   ],
   "source": [
    "y_pred"
   ]
  },
  {
   "cell_type": "code",
   "execution_count": 49,
   "id": "741acb7e",
   "metadata": {
    "ExecuteTime": {
     "end_time": "2022-10-27T16:57:47.402068Z",
     "start_time": "2022-10-27T16:57:47.380288Z"
    }
   },
   "outputs": [],
   "source": [
    "y_pred_output = []\n",
    "for i in y_pred:\n",
    "    if i<0:\n",
    "        y_pred_output.append(0)\n",
    "    elif i>1:\n",
    "        y_pred_output.append(1)\n",
    "    else:\n",
    "        y_pred_output.append(i)\n",
    "        \n",
    "y_pred_output = pd.DataFrame(y_pred_output,columns=['Burn Rate'])"
   ]
  },
  {
   "cell_type": "markdown",
   "id": "NrJx8svNIpER",
   "metadata": {
    "id": "NrJx8svNIpER"
   },
   "source": [
    "# Output .csv for submission"
   ]
  },
  {
   "cell_type": "code",
   "execution_count": 50,
   "id": "sapxBlbhIpER",
   "metadata": {
    "ExecuteTime": {
     "end_time": "2022-10-27T16:57:49.089443Z",
     "start_time": "2022-10-27T16:57:49.067216Z"
    },
    "id": "sapxBlbhIpER"
   },
   "outputs": [],
   "source": [
    "df_ans = pd.DataFrame(y_pred_output.astype(float), columns=['Burn Rate'])\n",
    "df_ans.to_csv('mySubmission.csv', index_label='Employee ID')"
   ]
  },
  {
   "cell_type": "code",
   "execution_count": 51,
   "id": "f01f4a75",
   "metadata": {
    "ExecuteTime": {
     "end_time": "2022-10-27T16:57:52.161081Z",
     "start_time": "2022-10-27T16:57:52.146172Z"
    }
   },
   "outputs": [
    {
     "data": {
      "text/html": [
       "<div>\n",
       "<style scoped>\n",
       "    .dataframe tbody tr th:only-of-type {\n",
       "        vertical-align: middle;\n",
       "    }\n",
       "\n",
       "    .dataframe tbody tr th {\n",
       "        vertical-align: top;\n",
       "    }\n",
       "\n",
       "    .dataframe thead th {\n",
       "        text-align: right;\n",
       "    }\n",
       "</style>\n",
       "<table border=\"1\" class=\"dataframe\">\n",
       "  <thead>\n",
       "    <tr style=\"text-align: right;\">\n",
       "      <th></th>\n",
       "      <th>Burn Rate</th>\n",
       "    </tr>\n",
       "  </thead>\n",
       "  <tbody>\n",
       "    <tr>\n",
       "      <th>0</th>\n",
       "      <td>0.000000</td>\n",
       "    </tr>\n",
       "    <tr>\n",
       "      <th>1</th>\n",
       "      <td>0.709832</td>\n",
       "    </tr>\n",
       "    <tr>\n",
       "      <th>2</th>\n",
       "      <td>0.748252</td>\n",
       "    </tr>\n",
       "    <tr>\n",
       "      <th>3</th>\n",
       "      <td>0.412237</td>\n",
       "    </tr>\n",
       "    <tr>\n",
       "      <th>4</th>\n",
       "      <td>0.468639</td>\n",
       "    </tr>\n",
       "    <tr>\n",
       "      <th>...</th>\n",
       "      <td>...</td>\n",
       "    </tr>\n",
       "    <tr>\n",
       "      <th>1975</th>\n",
       "      <td>0.174063</td>\n",
       "    </tr>\n",
       "    <tr>\n",
       "      <th>1976</th>\n",
       "      <td>0.452137</td>\n",
       "    </tr>\n",
       "    <tr>\n",
       "      <th>1977</th>\n",
       "      <td>0.324960</td>\n",
       "    </tr>\n",
       "    <tr>\n",
       "      <th>1978</th>\n",
       "      <td>0.552293</td>\n",
       "    </tr>\n",
       "    <tr>\n",
       "      <th>1979</th>\n",
       "      <td>0.478359</td>\n",
       "    </tr>\n",
       "  </tbody>\n",
       "</table>\n",
       "<p>1980 rows × 1 columns</p>\n",
       "</div>"
      ],
      "text/plain": [
       "      Burn Rate\n",
       "0      0.000000\n",
       "1      0.709832\n",
       "2      0.748252\n",
       "3      0.412237\n",
       "4      0.468639\n",
       "...         ...\n",
       "1975   0.174063\n",
       "1976   0.452137\n",
       "1977   0.324960\n",
       "1978   0.552293\n",
       "1979   0.478359\n",
       "\n",
       "[1980 rows x 1 columns]"
      ]
     },
     "execution_count": 51,
     "metadata": {},
     "output_type": "execute_result"
    }
   ],
   "source": [
    "df_ans"
   ]
  }
 ],
 "metadata": {
  "colab": {
   "collapsed_sections": [],
   "provenance": []
  },
  "kernelspec": {
   "display_name": "Python 3 (ipykernel)",
   "language": "python",
   "name": "python3"
  },
  "language_info": {
   "codemirror_mode": {
    "name": "ipython",
    "version": 3
   },
   "file_extension": ".py",
   "mimetype": "text/x-python",
   "name": "python",
   "nbconvert_exporter": "python",
   "pygments_lexer": "ipython3",
   "version": "3.9.13"
  },
  "toc": {
   "base_numbering": 1,
   "nav_menu": {},
   "number_sections": true,
   "sideBar": true,
   "skip_h1_title": false,
   "title_cell": "Table of Contents",
   "title_sidebar": "Contents",
   "toc_cell": false,
   "toc_position": {
    "height": "calc(100% - 180px)",
    "left": "10px",
    "top": "150px",
    "width": "303.835px"
   },
   "toc_section_display": true,
   "toc_window_display": true
  }
 },
 "nbformat": 4,
 "nbformat_minor": 5
}
