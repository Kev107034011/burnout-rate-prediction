{
 "cells": [
  {
   "cell_type": "markdown",
   "id": "3wSi-KSCIpEM",
   "metadata": {
    "id": "3wSi-KSCIpEM"
   },
   "source": [
    "# Import Package"
   ]
  },
  {
   "cell_type": "code",
   "execution_count": 1,
   "id": "e1084a50",
   "metadata": {
    "ExecuteTime": {
     "end_time": "2022-10-20T05:21:38.774736Z",
     "start_time": "2022-10-20T05:21:38.763772Z"
    }
   },
   "outputs": [],
   "source": [
    "import random"
   ]
  },
  {
   "cell_type": "code",
   "execution_count": 2,
   "id": "5Cz5-77fIpEN",
   "metadata": {
    "ExecuteTime": {
     "end_time": "2022-10-20T05:21:39.922987Z",
     "start_time": "2022-10-20T05:21:38.776728Z"
    },
    "colab": {
     "base_uri": "https://localhost:8080/",
     "height": 36
    },
    "id": "5Cz5-77fIpEN",
    "outputId": "3ebd36d7-7ac8-418a-b0ad-cc206e1b61ee"
   },
   "outputs": [
    {
     "name": "stdout",
     "output_type": "stream",
     "text": [
      "248\n"
     ]
    },
    {
     "name": "stderr",
     "output_type": "stream",
     "text": [
      "C:\\Users\\USER\\anaconda3\\envs\\tensorflow_new\\lib\\site-packages\\tqdm\\auto.py:22: TqdmWarning: IProgress not found. Please update jupyter and ipywidgets. See https://ipywidgets.readthedocs.io/en/stable/user_install.html\n",
      "  from .autonotebook import tqdm as notebook_tqdm\n"
     ]
    },
    {
     "data": {
      "text/plain": [
       "'C:\\\\Users\\\\USER\\\\Desktop\\\\Kev\\\\碩一\\\\人工智慧\\\\HW2'"
      ]
     },
     "execution_count": 2,
     "metadata": {},
     "output_type": "execute_result"
    }
   ],
   "source": [
    "SEED = random.randint(1, 1000)\n",
    "print(SEED)\n",
    "SEED = 950\n",
    "# 基本套件\n",
    "from sklearn.pipeline import Pipeline\n",
    "import numpy as np\n",
    "import pandas as pd\n",
    "import os\n",
    "from datetime import datetime\n",
    "\n",
    "# Categorical Data Transforming\n",
    "import category_encoders as ce\n",
    "from sklearn.impute import KNNImputer\n",
    "\n",
    "# Change Scaler\n",
    "from sklearn.preprocessing import MinMaxScaler\n",
    "from sklearn.preprocessing import StandardScaler\n",
    "from sklearn.preprocessing import RobustScaler\n",
    "\n",
    "# 資料集切割\n",
    "from sklearn.model_selection import train_test_split\n",
    "from sklearn.model_selection import cross_val_score, cross_validate\n",
    "from sklearn.model_selection import StratifiedKFold\n",
    "\n",
    "# 特徵篩選\n",
    "from mlxtend.feature_selection import SequentialFeatureSelector as SFS\n",
    "\n",
    "# 使用模型\n",
    "from sklearn.linear_model import LinearRegression\n",
    "from sklearn.svm import SVR\n",
    "from sklearn.ensemble import RandomForestRegressor\n",
    "import xgboost as xgb\n",
    "# import tensorflow as tf\n",
    "\n",
    "\n",
    "# 資料視覺化\n",
    "import matplotlib.pyplot as plt\n",
    "import seaborn as sns\n",
    "import plotly.express as px\n",
    "\n",
    "\n",
    "# 最佳化參數\n",
    "import optuna\n",
    "\n",
    "os.getcwd()"
   ]
  },
  {
   "cell_type": "markdown",
   "id": "16QNBD14IpEO",
   "metadata": {
    "id": "16QNBD14IpEO"
   },
   "source": [
    "# Read data"
   ]
  },
  {
   "cell_type": "code",
   "execution_count": 3,
   "id": "jVqvLLiVIpEO",
   "metadata": {
    "ExecuteTime": {
     "end_time": "2022-10-20T05:21:39.953829Z",
     "start_time": "2022-10-20T05:21:39.923984Z"
    },
    "colab": {
     "base_uri": "https://localhost:8080/",
     "height": 224
    },
    "id": "jVqvLLiVIpEO",
    "outputId": "4b593aa1-5d3a-4d0f-b92b-bec36c0e6d16"
   },
   "outputs": [
    {
     "name": "stdout",
     "output_type": "stream",
     "text": [
      "view the data shape (10108, 9)\n"
     ]
    },
    {
     "data": {
      "text/html": [
       "<div>\n",
       "<style scoped>\n",
       "    .dataframe tbody tr th:only-of-type {\n",
       "        vertical-align: middle;\n",
       "    }\n",
       "\n",
       "    .dataframe tbody tr th {\n",
       "        vertical-align: top;\n",
       "    }\n",
       "\n",
       "    .dataframe thead th {\n",
       "        text-align: right;\n",
       "    }\n",
       "</style>\n",
       "<table border=\"1\" class=\"dataframe\">\n",
       "  <thead>\n",
       "    <tr style=\"text-align: right;\">\n",
       "      <th></th>\n",
       "      <th>Employee ID</th>\n",
       "      <th>Date of Joining</th>\n",
       "      <th>Gender</th>\n",
       "      <th>Company Type</th>\n",
       "      <th>WFH Setup Available</th>\n",
       "      <th>Designation</th>\n",
       "      <th>Resource Allocation</th>\n",
       "      <th>Mental Fatigue Score</th>\n",
       "      <th>Burn Rate</th>\n",
       "    </tr>\n",
       "  </thead>\n",
       "  <tbody>\n",
       "    <tr>\n",
       "      <th>0</th>\n",
       "      <td>0</td>\n",
       "      <td>2008/9/30</td>\n",
       "      <td>Female</td>\n",
       "      <td>Service</td>\n",
       "      <td>No</td>\n",
       "      <td>2</td>\n",
       "      <td>3.0</td>\n",
       "      <td>3.8</td>\n",
       "      <td>0.16</td>\n",
       "    </tr>\n",
       "    <tr>\n",
       "      <th>1</th>\n",
       "      <td>1</td>\n",
       "      <td>2008/11/30</td>\n",
       "      <td>Male</td>\n",
       "      <td>Service</td>\n",
       "      <td>Yes</td>\n",
       "      <td>1</td>\n",
       "      <td>2.0</td>\n",
       "      <td>5.0</td>\n",
       "      <td>0.36</td>\n",
       "    </tr>\n",
       "    <tr>\n",
       "      <th>2</th>\n",
       "      <td>2</td>\n",
       "      <td>2008/3/10</td>\n",
       "      <td>Female</td>\n",
       "      <td>Product</td>\n",
       "      <td>Yes</td>\n",
       "      <td>2</td>\n",
       "      <td>NaN</td>\n",
       "      <td>5.8</td>\n",
       "      <td>0.49</td>\n",
       "    </tr>\n",
       "    <tr>\n",
       "      <th>3</th>\n",
       "      <td>3</td>\n",
       "      <td>2008/11/3</td>\n",
       "      <td>Male</td>\n",
       "      <td>Service</td>\n",
       "      <td>Yes</td>\n",
       "      <td>1</td>\n",
       "      <td>1.0</td>\n",
       "      <td>2.6</td>\n",
       "      <td>0.20</td>\n",
       "    </tr>\n",
       "    <tr>\n",
       "      <th>4</th>\n",
       "      <td>4</td>\n",
       "      <td>2008/7/24</td>\n",
       "      <td>Female</td>\n",
       "      <td>Service</td>\n",
       "      <td>No</td>\n",
       "      <td>3</td>\n",
       "      <td>7.0</td>\n",
       "      <td>6.9</td>\n",
       "      <td>0.52</td>\n",
       "    </tr>\n",
       "  </tbody>\n",
       "</table>\n",
       "</div>"
      ],
      "text/plain": [
       "   Employee ID Date of Joining  Gender Company Type WFH Setup Available  \\\n",
       "0            0       2008/9/30  Female      Service                  No   \n",
       "1            1      2008/11/30    Male      Service                 Yes   \n",
       "2            2       2008/3/10  Female      Product                 Yes   \n",
       "3            3       2008/11/3    Male      Service                 Yes   \n",
       "4            4       2008/7/24  Female      Service                  No   \n",
       "\n",
       "   Designation  Resource Allocation  Mental Fatigue Score  Burn Rate  \n",
       "0            2                  3.0                   3.8       0.16  \n",
       "1            1                  2.0                   5.0       0.36  \n",
       "2            2                  NaN                   5.8       0.49  \n",
       "3            1                  1.0                   2.6       0.20  \n",
       "4            3                  7.0                   6.9       0.52  "
      ]
     },
     "execution_count": 3,
     "metadata": {},
     "output_type": "execute_result"
    }
   ],
   "source": [
    "df = pd.read_csv(r'./train.csv')\n",
    "print('view the data shape', df.shape)\n",
    "df.head()"
   ]
  },
  {
   "cell_type": "code",
   "execution_count": 4,
   "id": "cb5f7a13",
   "metadata": {
    "ExecuteTime": {
     "end_time": "2022-10-20T05:21:39.969178Z",
     "start_time": "2022-10-20T05:21:39.955785Z"
    }
   },
   "outputs": [],
   "source": [
    "# elliminate traget not na\n",
    "df = df[df['Burn Rate'].notna()]"
   ]
  },
  {
   "cell_type": "code",
   "execution_count": 5,
   "id": "932b1220",
   "metadata": {
    "ExecuteTime": {
     "end_time": "2022-10-20T05:21:39.984324Z",
     "start_time": "2022-10-20T05:21:39.970176Z"
    }
   },
   "outputs": [],
   "source": [
    "df = df[df.columns[1:]]\n",
    "X = df[df.columns[:-1]]\n",
    "y = df[df.columns[-1]]"
   ]
  },
  {
   "cell_type": "code",
   "execution_count": 6,
   "id": "33e76629",
   "metadata": {
    "ExecuteTime": {
     "end_time": "2022-10-20T05:21:40.095228Z",
     "start_time": "2022-10-20T05:21:39.984324Z"
    },
    "scrolled": false
   },
   "outputs": [
    {
     "name": "stderr",
     "output_type": "stream",
     "text": [
      "C:\\Users\\USER\\AppData\\Local\\Temp\\ipykernel_15060\\58359773.py:1: FutureWarning: The default value of numeric_only in DataFrame.corr is deprecated. In a future version, it will default to False. Select only valid columns or specify the value of numeric_only to silence this warning.\n",
      "  sns.heatmap(df.corr())\n"
     ]
    },
    {
     "data": {
      "text/plain": [
       "<AxesSubplot: >"
      ]
     },
     "execution_count": 6,
     "metadata": {},
     "output_type": "execute_result"
    },
    {
     "data": {
      "image/png": "[encoded data removed]",
      "text/plain": [
       "<Figure size 640x480 with 2 Axes>"
      ]
     },
     "metadata": {},
     "output_type": "display_data"
    }
   ],
   "source": [
    "sns.heatmap(df.corr())"
   ]
  },
  {
   "cell_type": "code",
   "execution_count": 7,
   "id": "a01d3bab",
   "metadata": {
    "ExecuteTime": {
     "end_time": "2022-10-20T05:21:40.110179Z",
     "start_time": "2022-10-20T05:21:40.095228Z"
    }
   },
   "outputs": [
    {
     "data": {
      "text/html": [
       "<div>\n",
       "<style scoped>\n",
       "    .dataframe tbody tr th:only-of-type {\n",
       "        vertical-align: middle;\n",
       "    }\n",
       "\n",
       "    .dataframe tbody tr th {\n",
       "        vertical-align: top;\n",
       "    }\n",
       "\n",
       "    .dataframe thead th {\n",
       "        text-align: right;\n",
       "    }\n",
       "</style>\n",
       "<table border=\"1\" class=\"dataframe\">\n",
       "  <thead>\n",
       "    <tr style=\"text-align: right;\">\n",
       "      <th></th>\n",
       "      <th>Designation</th>\n",
       "      <th>Resource Allocation</th>\n",
       "      <th>Mental Fatigue Score</th>\n",
       "      <th>Burn Rate</th>\n",
       "    </tr>\n",
       "  </thead>\n",
       "  <tbody>\n",
       "    <tr>\n",
       "      <th>count</th>\n",
       "      <td>9624.000000</td>\n",
       "      <td>9041.000000</td>\n",
       "      <td>8738.000000</td>\n",
       "      <td>9624.000000</td>\n",
       "    </tr>\n",
       "    <tr>\n",
       "      <th>mean</th>\n",
       "      <td>2.183292</td>\n",
       "      <td>4.500055</td>\n",
       "      <td>5.731231</td>\n",
       "      <td>0.452351</td>\n",
       "    </tr>\n",
       "    <tr>\n",
       "      <th>std</th>\n",
       "      <td>1.141031</td>\n",
       "      <td>2.051501</td>\n",
       "      <td>1.921508</td>\n",
       "      <td>0.198787</td>\n",
       "    </tr>\n",
       "    <tr>\n",
       "      <th>min</th>\n",
       "      <td>0.000000</td>\n",
       "      <td>1.000000</td>\n",
       "      <td>0.000000</td>\n",
       "      <td>0.000000</td>\n",
       "    </tr>\n",
       "    <tr>\n",
       "      <th>25%</th>\n",
       "      <td>1.000000</td>\n",
       "      <td>3.000000</td>\n",
       "      <td>4.600000</td>\n",
       "      <td>0.320000</td>\n",
       "    </tr>\n",
       "    <tr>\n",
       "      <th>50%</th>\n",
       "      <td>2.000000</td>\n",
       "      <td>4.000000</td>\n",
       "      <td>5.900000</td>\n",
       "      <td>0.450000</td>\n",
       "    </tr>\n",
       "    <tr>\n",
       "      <th>75%</th>\n",
       "      <td>3.000000</td>\n",
       "      <td>6.000000</td>\n",
       "      <td>7.100000</td>\n",
       "      <td>0.590000</td>\n",
       "    </tr>\n",
       "    <tr>\n",
       "      <th>max</th>\n",
       "      <td>5.000000</td>\n",
       "      <td>10.000000</td>\n",
       "      <td>10.000000</td>\n",
       "      <td>1.000000</td>\n",
       "    </tr>\n",
       "  </tbody>\n",
       "</table>\n",
       "</div>"
      ],
      "text/plain": [
       "       Designation  Resource Allocation  Mental Fatigue Score    Burn Rate\n",
       "count  9624.000000          9041.000000           8738.000000  9624.000000\n",
       "mean      2.183292             4.500055              5.731231     0.452351\n",
       "std       1.141031             2.051501              1.921508     0.198787\n",
       "min       0.000000             1.000000              0.000000     0.000000\n",
       "25%       1.000000             3.000000              4.600000     0.320000\n",
       "50%       2.000000             4.000000              5.900000     0.450000\n",
       "75%       3.000000             6.000000              7.100000     0.590000\n",
       "max       5.000000            10.000000             10.000000     1.000000"
      ]
     },
     "execution_count": 7,
     "metadata": {},
     "output_type": "execute_result"
    }
   ],
   "source": [
    "df.describe()"
   ]
  },
  {
   "cell_type": "markdown",
   "id": "vaA_AJqSPfo0",
   "metadata": {
    "id": "vaA_AJqSPfo0"
   },
   "source": [
    "# Data Preprocessing"
   ]
  },
  {
   "cell_type": "markdown",
   "id": "46151c18",
   "metadata": {},
   "source": [
    "## Transfer Time related Data"
   ]
  },
  {
   "cell_type": "code",
   "execution_count": 8,
   "id": "da494d19",
   "metadata": {
    "ExecuteTime": {
     "end_time": "2022-10-20T05:21:40.125442Z",
     "start_time": "2022-10-20T05:21:40.111176Z"
    }
   },
   "outputs": [],
   "source": [
    "def transfer_date(date):\n",
    "    date_format = \"%Y/%m/%d\"\n",
    "    a = datetime.strptime('2022/10/10', date_format)\n",
    "    b = datetime.strptime(date, date_format)\n",
    "    delta = a - b\n",
    "    return delta.days"
   ]
  },
  {
   "cell_type": "code",
   "execution_count": 9,
   "id": "d249a953",
   "metadata": {
    "ExecuteTime": {
     "end_time": "2022-10-20T05:21:40.218522Z",
     "start_time": "2022-10-20T05:21:40.126439Z"
    }
   },
   "outputs": [
    {
     "name": "stderr",
     "output_type": "stream",
     "text": [
      "C:\\Users\\USER\\AppData\\Local\\Temp\\ipykernel_15060\\1446608504.py:1: SettingWithCopyWarning: \n",
      "A value is trying to be set on a copy of a slice from a DataFrame.\n",
      "Try using .loc[row_indexer,col_indexer] = value instead\n",
      "\n",
      "See the caveats in the documentation: https://pandas.pydata.org/pandas-docs/stable/user_guide/indexing.html#returning-a-view-versus-a-copy\n",
      "  X['Date of Joining'] = X['Date of Joining'].apply(lambda x : transfer_date(x))\n"
     ]
    }
   ],
   "source": [
    "X['Date of Joining'] = X['Date of Joining'].apply(lambda x : transfer_date(x))"
   ]
  },
  {
   "cell_type": "code",
   "execution_count": 10,
   "id": "be55a18f",
   "metadata": {
    "ExecuteTime": {
     "end_time": "2022-10-20T05:21:40.233486Z",
     "start_time": "2022-10-20T05:21:40.220549Z"
    }
   },
   "outputs": [
    {
     "data": {
      "text/plain": [
       "count    9624.000000\n",
       "mean     5214.568579\n",
       "std       105.818250\n",
       "min      5031.000000\n",
       "25%      5123.000000\n",
       "50%      5213.000000\n",
       "75%      5308.000000\n",
       "max      5396.000000\n",
       "Name: Date of Joining, dtype: float64"
      ]
     },
     "execution_count": 10,
     "metadata": {},
     "output_type": "execute_result"
    }
   ],
   "source": [
    "X['Date of Joining'].describe()"
   ]
  },
  {
   "cell_type": "markdown",
   "id": "84043b1e",
   "metadata": {},
   "source": [
    "## Categorical Data Transforming -  Target Encoder"
   ]
  },
  {
   "cell_type": "code",
   "execution_count": 11,
   "id": "040d5098",
   "metadata": {
    "ExecuteTime": {
     "end_time": "2022-10-20T05:21:40.264804Z",
     "start_time": "2022-10-20T05:21:40.233486Z"
    }
   },
   "outputs": [],
   "source": [
    "## 原類別型\n",
    "ce_leave = ce.MEstimateEncoder(cols = ['Gender','Company Type','WFH Setup Available'], handle_unknown='value')\n",
    "ce_leave.fit(X, y)     \n",
    "X = ce_leave.transform(X)"
   ]
  },
  {
   "cell_type": "markdown",
   "id": "1efa7eed",
   "metadata": {},
   "source": [
    "## Normalize Data"
   ]
  },
  {
   "cell_type": "code",
   "execution_count": 12,
   "id": "f6737bde",
   "metadata": {
    "ExecuteTime": {
     "end_time": "2022-10-20T05:21:40.280314Z",
     "start_time": "2022-10-20T05:21:40.265802Z"
    }
   },
   "outputs": [],
   "source": [
    "# Normalization\n",
    "Normalize_scaler = MinMaxScaler()\n",
    "X = pd.DataFrame(Normalize_scaler.fit_transform(X), columns=X.columns, index=X.index)"
   ]
  },
  {
   "cell_type": "markdown",
   "id": "9d15295b",
   "metadata": {},
   "source": [
    "## Fill Missing Value - KNN Imputer"
   ]
  },
  {
   "cell_type": "code",
   "execution_count": 13,
   "id": "Xjt9kVQpIpEP",
   "metadata": {
    "ExecuteTime": {
     "end_time": "2022-10-20T05:21:40.295954Z",
     "start_time": "2022-10-20T05:21:40.281311Z"
    },
    "colab": {
     "base_uri": "https://localhost:8080/"
    },
    "id": "Xjt9kVQpIpEP",
    "outputId": "575da9d3-5983-4959-862e-dac170fd99be"
   },
   "outputs": [
    {
     "data": {
      "text/plain": [
       "Date of Joining           0\n",
       "Gender                    0\n",
       "Company Type              0\n",
       "WFH Setup Available       0\n",
       "Designation               0\n",
       "Resource Allocation     583\n",
       "Mental Fatigue Score    886\n",
       "dtype: int64"
      ]
     },
     "execution_count": 13,
     "metadata": {},
     "output_type": "execute_result"
    }
   ],
   "source": [
    "X.isna().sum()"
   ]
  },
  {
   "cell_type": "code",
   "execution_count": 14,
   "id": "82354660",
   "metadata": {
    "ExecuteTime": {
     "end_time": "2022-10-20T05:21:40.720102Z",
     "start_time": "2022-10-20T05:21:40.296954Z"
    }
   },
   "outputs": [],
   "source": [
    "# TODO\n",
    "imputer = KNNImputer(n_neighbors=4)\n",
    "X = pd.DataFrame(imputer.fit_transform(X),columns = X.columns)"
   ]
  },
  {
   "cell_type": "code",
   "execution_count": 15,
   "id": "ae9c0feb",
   "metadata": {
    "ExecuteTime": {
     "end_time": "2022-10-20T05:21:40.735941Z",
     "start_time": "2022-10-20T05:21:40.721550Z"
    }
   },
   "outputs": [
    {
     "data": {
      "text/plain": [
       "Date of Joining         0\n",
       "Gender                  0\n",
       "Company Type            0\n",
       "WFH Setup Available     0\n",
       "Designation             0\n",
       "Resource Allocation     0\n",
       "Mental Fatigue Score    0\n",
       "dtype: int64"
      ]
     },
     "execution_count": 15,
     "metadata": {},
     "output_type": "execute_result"
    }
   ],
   "source": [
    "X.isna().sum()"
   ]
  },
  {
   "cell_type": "code",
   "execution_count": 16,
   "id": "f0d35a06",
   "metadata": {
    "ExecuteTime": {
     "end_time": "2022-10-20T05:21:40.751322Z",
     "start_time": "2022-10-20T05:21:40.736978Z"
    }
   },
   "outputs": [],
   "source": [
    "X.reset_index(drop=True,inplace=True)\n",
    "y.reset_index(drop=True,inplace=True)"
   ]
  },
  {
   "cell_type": "markdown",
   "id": "0265f024",
   "metadata": {},
   "source": [
    "# EDA"
   ]
  },
  {
   "cell_type": "code",
   "execution_count": 17,
   "id": "b28072bc",
   "metadata": {
    "ExecuteTime": {
     "end_time": "2022-10-20T05:21:40.892708Z",
     "start_time": "2022-10-20T05:21:40.752320Z"
    }
   },
   "outputs": [
    {
     "data": {
      "text/plain": [
       "<AxesSubplot: >"
      ]
     },
     "execution_count": 17,
     "metadata": {},
     "output_type": "execute_result"
    },
    {
     "data": {
      "image/png": "[encoded data removed]",
      "text/plain": [
       "<Figure size 640x480 with 2 Axes>"
      ]
     },
     "metadata": {},
     "output_type": "display_data"
    }
   ],
   "source": [
    "df = pd.concat([X,y],axis=1)\n",
    "sns.heatmap(df.corr())"
   ]
  },
  {
   "cell_type": "markdown",
   "id": "7139aaad",
   "metadata": {},
   "source": [
    "# Feature Selection"
   ]
  },
  {
   "cell_type": "code",
   "execution_count": 18,
   "id": "d44a60e0",
   "metadata": {
    "ExecuteTime": {
     "end_time": "2022-10-20T05:21:40.908482Z",
     "start_time": "2022-10-20T05:21:40.893706Z"
    }
   },
   "outputs": [],
   "source": [
    "# TODO\n",
    "df = df.loc[:,~df.columns.isin(['Date of Joining', 'Company Type','Gender'])]"
   ]
  },
  {
   "cell_type": "markdown",
   "id": "e4df3f5d",
   "metadata": {},
   "source": [
    "# Modeling"
   ]
  },
  {
   "cell_type": "markdown",
   "id": "72aa7e63",
   "metadata": {},
   "source": [
    "## Hypterparameter tuning - Optuna"
   ]
  },
  {
   "cell_type": "code",
   "execution_count": 19,
   "id": "ea8140ba",
   "metadata": {
    "ExecuteTime": {
     "end_time": "2022-10-20T05:21:40.923894Z",
     "start_time": "2022-10-20T05:21:40.909479Z"
    }
   },
   "outputs": [],
   "source": [
    "#optuna to set the hyperparameter of XGBoost\n",
    "def objective_xgb(trial):\n",
    "    \n",
    "    param = {\n",
    "        'max_depth': trial.suggest_int('max_depth', 6, 15),\n",
    "        \"subsample\": trial.suggest_float(\"subsample\", 0.2, 1.0),\n",
    "        'n_estimators': trial.suggest_int('n_estimators', 500, 2000, 100),\n",
    "        'eta': trial.suggest_float(\"eta\", 1e-8, 1.0, log=True),\n",
    "        'alpha': trial.suggest_float('alpha', 1e-8, 1.0, log=True),\n",
    "        'lambda': trial.suggest_float('lambda', 1e-8, 1.0, log=True),\n",
    "        'gamma': trial.suggest_float(\"gamma\", 1e-8, 1.0, log=True),\n",
    "        'min_child_weight': trial.suggest_int('min_child_weight', 2, 10),\n",
    "        'grow_policy': trial.suggest_categorical(\"grow_policy\", [\"depthwise\", \"lossguide\"]),\n",
    "        \"colsample_bytree\": trial.suggest_float(\"colsample_bytree\", 0.2, 1.0)\n",
    "    }\n",
    "    model = xgb.XGBRegressor(**param,tree_method='gpu_hist',random_state=SEED).fit(X_train,y_train['Burn Rate'])\n",
    "    y_pred = model.predict(X_valid)\n",
    "    pred_list = y_pred.tolist()\n",
    "    act_list = y_valid['Burn Rate'].tolist()\n",
    "\n",
    "    error_list = []   \n",
    "    for i in range(0, len(y_pred)):\n",
    "        error_list.append(abs(round(act_list[i] - pred_list[i], 4)))\n",
    "    abs_error_list_r4 =  [abs(ele) for ele in error_list]\n",
    "    \n",
    "    return sum(abs_error_list_r4)/len(abs_error_list_r4)"
   ]
  },
  {
   "cell_type": "code",
   "execution_count": 20,
   "id": "14c7d070",
   "metadata": {
    "ExecuteTime": {
     "end_time": "2022-10-20T05:21:40.939091Z",
     "start_time": "2022-10-20T05:21:40.924891Z"
    }
   },
   "outputs": [],
   "source": [
    "# 分成不同盒子 - 分層抽樣用\n",
    "def get_box(df):\n",
    "    Y1_list = []\n",
    "    for Y1 in df['Burn Rate']: \n",
    "        if (Y1 > np.percentile(df['Burn Rate'], 80)):\n",
    "            Y1_list.append('3')\n",
    "        elif (Y1 < np.percentile(df['Burn Rate'], 20)):\n",
    "            Y1_list.append('2')\n",
    "        else:\n",
    "            Y1_list.append('1')\n",
    "    df['box'] = Y1_list\n",
    "    return df"
   ]
  },
  {
   "cell_type": "code",
   "execution_count": 21,
   "id": "d1202934",
   "metadata": {
    "ExecuteTime": {
     "end_time": "2022-10-20T05:21:42.871353Z",
     "start_time": "2022-10-20T05:21:40.940088Z"
    }
   },
   "outputs": [],
   "source": [
    "# 分層抽樣因子\n",
    "df = get_box(df)\n",
    "\n",
    "X = df[df.columns[:-2]]\n",
    "y = df[df.columns[-2:]]\n",
    "\n",
    "X_train, X_valid, y_train, y_valid = train_test_split(X, y, test_size=0.2, random_state=42,stratify=y['box'])"
   ]
  },
  {
   "cell_type": "code",
   "execution_count": 22,
   "id": "16b45d53",
   "metadata": {
    "ExecuteTime": {
     "end_time": "2022-10-20T05:21:42.886714Z",
     "start_time": "2022-10-20T05:21:42.871353Z"
    }
   },
   "outputs": [],
   "source": [
    "# # optuna\n",
    "# study_xgb = optuna.create_study(direction=\"minimize\")\n",
    "# study_xgb.optimize(objective_xgb, n_trials=100, n_jobs=4)"
   ]
  },
  {
   "cell_type": "markdown",
   "id": "WyJKb2JdIpEQ",
   "metadata": {
    "id": "WyJKb2JdIpEQ"
   },
   "source": [
    "## Training (model construction)"
   ]
  },
  {
   "cell_type": "code",
   "execution_count": 23,
   "id": "98e151dd",
   "metadata": {
    "ExecuteTime": {
     "end_time": "2022-10-20T05:21:42.902129Z",
     "start_time": "2022-10-20T05:21:42.887756Z"
    }
   },
   "outputs": [],
   "source": [
    "y = y[y.columns[0]]"
   ]
  },
  {
   "cell_type": "code",
   "execution_count": 24,
   "id": "d38ce877",
   "metadata": {
    "ExecuteTime": {
     "end_time": "2022-10-20T05:21:42.917638Z",
     "start_time": "2022-10-20T05:21:42.903165Z"
    }
   },
   "outputs": [],
   "source": [
    "# This hyperparameter set was decided by some micro-adjustment process based on the result previously generated by Optuna.\n",
    "\n",
    "best_param_1 = {'max_depth': 6,\n",
    " 'subsample': 0.9807247151163194,\n",
    " 'n_estimators': 1800,\n",
    " 'eta': 0.005119323915143175,\n",
    " 'alpha': 4.4860920065321045e-06,\n",
    " 'lambda': 3.99038649363455e-06,\n",
    " 'gamma': 0.0018736038708502495,\n",
    " 'min_child_weight': 10,\n",
    " 'grow_policy': 'depthwise',\n",
    " 'colsample_bytree': 0.7638067121388866}"
   ]
  },
  {
   "cell_type": "code",
   "execution_count": 25,
   "id": "36e4169e",
   "metadata": {
    "ExecuteTime": {
     "end_time": "2022-10-20T05:21:44.717989Z",
     "start_time": "2022-10-20T05:21:42.917638Z"
    }
   },
   "outputs": [],
   "source": [
    "# TODO\n",
    "# build model with best hyperparameter\n",
    "model_xgb = xgb.XGBRegressor(**best_param_1,random_state=SEED).fit(X,y)"
   ]
  },
  {
   "cell_type": "markdown",
   "id": "GQtkLdwIIpEQ",
   "metadata": {
    "id": "GQtkLdwIIpEQ"
   },
   "source": [
    "## Cross validation\n",
    "- usually we will do cross validation to evaluate the generalization of model\n",
    "- or you can just use ```sklearn.model_selection.train_test_split``` to evaluate your model"
   ]
  },
  {
   "cell_type": "code",
   "execution_count": 26,
   "id": "6FrlV4m5IpEQ",
   "metadata": {
    "ExecuteTime": {
     "end_time": "2022-10-20T05:21:44.733935Z",
     "start_time": "2022-10-20T05:21:44.718986Z"
    },
    "colab": {
     "base_uri": "https://localhost:8080/"
    },
    "id": "6FrlV4m5IpEQ",
    "outputId": "d7141844-631d-4060-9f8c-f4de6c22c348"
   },
   "outputs": [],
   "source": [
    "# # TODO\n",
    "# # Using Stratified K fold to find result\n",
    "# # skf = StratifiedKFold(n_splits=5,random_state=SEED)\n",
    "\n",
    "# scores = cross_val_score(model_xgb, X, y, cv=5)\n",
    "# print(\"R2: %0.2f (std: %0.2f)\" % (scores.mean(), scores.std()))\n",
    "# print(scores)\n",
    "# # need other scoring\n",
    "# scores = cross_validate(model_xgb, X, y, cv=5,\n",
    "#                        scoring=('r2', 'neg_mean_squared_error', 'neg_mean_absolute_percentage_error'))\n",
    "# print(\"====================================\")\n",
    "# print(\"R2: {} (std: {})\".format(scores['test_r2'].mean(), scores['test_r2'].std()))\n",
    "# print(\"MSE: {} (std: {})\".format(-scores['test_neg_mean_squared_error'].mean(), scores['test_neg_mean_squared_error'].std()))\n",
    "# print(\"MAPE: {} (std: {})\".format(-scores['test_neg_mean_absolute_percentage_error'].mean(), scores['test_neg_mean_absolute_percentage_error'].std()))"
   ]
  },
  {
   "cell_type": "markdown",
   "id": "myOBllB_IpEQ",
   "metadata": {
    "id": "myOBllB_IpEQ"
   },
   "source": [
    "# Prediction\n",
    "1. read data\n",
    "2. model prediction\n",
    "3. to_csv"
   ]
  },
  {
   "cell_type": "code",
   "execution_count": 27,
   "id": "HyWyzS-oIpEQ",
   "metadata": {
    "ExecuteTime": {
     "end_time": "2022-10-20T05:21:44.765829Z",
     "start_time": "2022-10-20T05:21:44.734932Z"
    },
    "colab": {
     "base_uri": "https://localhost:8080/",
     "height": 224
    },
    "id": "HyWyzS-oIpEQ",
    "outputId": "49a27bb4-62b1-4e10-d03b-379955382aaf"
   },
   "outputs": [
    {
     "name": "stdout",
     "output_type": "stream",
     "text": [
      "(1980, 8)\n"
     ]
    },
    {
     "data": {
      "text/html": [
       "<div>\n",
       "<style scoped>\n",
       "    .dataframe tbody tr th:only-of-type {\n",
       "        vertical-align: middle;\n",
       "    }\n",
       "\n",
       "    .dataframe tbody tr th {\n",
       "        vertical-align: top;\n",
       "    }\n",
       "\n",
       "    .dataframe thead th {\n",
       "        text-align: right;\n",
       "    }\n",
       "</style>\n",
       "<table border=\"1\" class=\"dataframe\">\n",
       "  <thead>\n",
       "    <tr style=\"text-align: right;\">\n",
       "      <th></th>\n",
       "      <th>Employee ID</th>\n",
       "      <th>Date of Joining</th>\n",
       "      <th>Gender</th>\n",
       "      <th>Company Type</th>\n",
       "      <th>WFH Setup Available</th>\n",
       "      <th>Designation</th>\n",
       "      <th>Resource Allocation</th>\n",
       "      <th>Mental Fatigue Score</th>\n",
       "    </tr>\n",
       "  </thead>\n",
       "  <tbody>\n",
       "    <tr>\n",
       "      <th>0</th>\n",
       "      <td>0</td>\n",
       "      <td>2008/11/12</td>\n",
       "      <td>Male</td>\n",
       "      <td>Service</td>\n",
       "      <td>Yes</td>\n",
       "      <td>0</td>\n",
       "      <td>1.0</td>\n",
       "      <td>0.0</td>\n",
       "    </tr>\n",
       "    <tr>\n",
       "      <th>1</th>\n",
       "      <td>1</td>\n",
       "      <td>2008/3/11</td>\n",
       "      <td>Male</td>\n",
       "      <td>Product</td>\n",
       "      <td>No</td>\n",
       "      <td>3</td>\n",
       "      <td>8.0</td>\n",
       "      <td>7.9</td>\n",
       "    </tr>\n",
       "    <tr>\n",
       "      <th>2</th>\n",
       "      <td>2</td>\n",
       "      <td>2008/4/3</td>\n",
       "      <td>Male</td>\n",
       "      <td>Service</td>\n",
       "      <td>No</td>\n",
       "      <td>4</td>\n",
       "      <td>9.0</td>\n",
       "      <td>8.1</td>\n",
       "    </tr>\n",
       "    <tr>\n",
       "      <th>3</th>\n",
       "      <td>3</td>\n",
       "      <td>2008/10/1</td>\n",
       "      <td>Male</td>\n",
       "      <td>Product</td>\n",
       "      <td>No</td>\n",
       "      <td>1</td>\n",
       "      <td>3.0</td>\n",
       "      <td>5.7</td>\n",
       "    </tr>\n",
       "    <tr>\n",
       "      <th>4</th>\n",
       "      <td>4</td>\n",
       "      <td>2008/1/5</td>\n",
       "      <td>Female</td>\n",
       "      <td>Service</td>\n",
       "      <td>No</td>\n",
       "      <td>3</td>\n",
       "      <td>5.0</td>\n",
       "      <td>NaN</td>\n",
       "    </tr>\n",
       "  </tbody>\n",
       "</table>\n",
       "</div>"
      ],
      "text/plain": [
       "   Employee ID Date of Joining  Gender Company Type WFH Setup Available  \\\n",
       "0            0      2008/11/12    Male      Service                 Yes   \n",
       "1            1       2008/3/11    Male      Product                  No   \n",
       "2            2        2008/4/3    Male      Service                  No   \n",
       "3            3       2008/10/1    Male      Product                  No   \n",
       "4            4        2008/1/5  Female      Service                  No   \n",
       "\n",
       "   Designation  Resource Allocation  Mental Fatigue Score  \n",
       "0            0                  1.0                   0.0  \n",
       "1            3                  8.0                   7.9  \n",
       "2            4                  9.0                   8.1  \n",
       "3            1                  3.0                   5.7  \n",
       "4            3                  5.0                   NaN  "
      ]
     },
     "execution_count": 27,
     "metadata": {},
     "output_type": "execute_result"
    }
   ],
   "source": [
    "df_test = pd.read_csv(r'./test.csv')\n",
    "print(df_test.shape)\n",
    "df_test.head()"
   ]
  },
  {
   "cell_type": "code",
   "execution_count": 28,
   "id": "bc9b4eae",
   "metadata": {
    "ExecuteTime": {
     "end_time": "2022-10-20T05:21:44.781775Z",
     "start_time": "2022-10-20T05:21:44.768819Z"
    }
   },
   "outputs": [],
   "source": [
    "X_test = df_test[df_test.columns[1:]]"
   ]
  },
  {
   "cell_type": "markdown",
   "id": "04855841",
   "metadata": {
    "id": "vaA_AJqSPfo0"
   },
   "source": [
    "## Data Preprocessing for testing"
   ]
  },
  {
   "cell_type": "markdown",
   "id": "ad7683d8",
   "metadata": {},
   "source": [
    "## Transfer Time related Data"
   ]
  },
  {
   "cell_type": "code",
   "execution_count": 29,
   "id": "68a69041",
   "metadata": {
    "ExecuteTime": {
     "end_time": "2022-10-20T05:21:44.797722Z",
     "start_time": "2022-10-20T05:21:44.782772Z"
    }
   },
   "outputs": [],
   "source": [
    "def transfer_date(date):\n",
    "    date_format = \"%Y/%m/%d\"\n",
    "    a = datetime.strptime('2022/10/10', date_format)\n",
    "    b = datetime.strptime(date, date_format)\n",
    "    delta = a - b\n",
    "    return delta.days"
   ]
  },
  {
   "cell_type": "code",
   "execution_count": 30,
   "id": "311baa03",
   "metadata": {
    "ExecuteTime": {
     "end_time": "2022-10-20T05:21:44.829316Z",
     "start_time": "2022-10-20T05:21:44.798719Z"
    }
   },
   "outputs": [
    {
     "name": "stderr",
     "output_type": "stream",
     "text": [
      "C:\\Users\\USER\\AppData\\Local\\Temp\\ipykernel_15060\\345012162.py:1: SettingWithCopyWarning: \n",
      "A value is trying to be set on a copy of a slice from a DataFrame.\n",
      "Try using .loc[row_indexer,col_indexer] = value instead\n",
      "\n",
      "See the caveats in the documentation: https://pandas.pydata.org/pandas-docs/stable/user_guide/indexing.html#returning-a-view-versus-a-copy\n",
      "  X_test['Date of Joining'] = X_test['Date of Joining'].apply(lambda x : transfer_date(x))\n"
     ]
    }
   ],
   "source": [
    "X_test['Date of Joining'] = X_test['Date of Joining'].apply(lambda x : transfer_date(x))"
   ]
  },
  {
   "cell_type": "markdown",
   "id": "f67bcce9",
   "metadata": {},
   "source": [
    "## Categorical Data Transforming -  Target Encoder"
   ]
  },
  {
   "cell_type": "code",
   "execution_count": 31,
   "id": "a8a55651",
   "metadata": {
    "ExecuteTime": {
     "end_time": "2022-10-20T05:21:44.844930Z",
     "start_time": "2022-10-20T05:21:44.830314Z"
    }
   },
   "outputs": [],
   "source": [
    "## 原類別型\n",
    "X_test = ce_leave.transform(X_test)"
   ]
  },
  {
   "cell_type": "markdown",
   "id": "b15befbc",
   "metadata": {},
   "source": [
    "## Normalize Data"
   ]
  },
  {
   "cell_type": "code",
   "execution_count": 32,
   "id": "e2fdcc66",
   "metadata": {
    "ExecuteTime": {
     "end_time": "2022-10-20T05:21:44.860314Z",
     "start_time": "2022-10-20T05:21:44.845928Z"
    }
   },
   "outputs": [],
   "source": [
    "# Normalization\n",
    "X_test = pd.DataFrame(Normalize_scaler.transform(X_test), columns=X_test.columns, index=X_test.index)"
   ]
  },
  {
   "cell_type": "markdown",
   "id": "176540f2",
   "metadata": {},
   "source": [
    "## Fill Missing Value - KNN Imputer"
   ]
  },
  {
   "cell_type": "code",
   "execution_count": 33,
   "id": "gb3Fwn1_LRiz",
   "metadata": {
    "ExecuteTime": {
     "end_time": "2022-10-20T05:21:44.875786Z",
     "start_time": "2022-10-20T05:21:44.861311Z"
    },
    "colab": {
     "base_uri": "https://localhost:8080/"
    },
    "id": "gb3Fwn1_LRiz",
    "outputId": "558f0bbd-022b-4a87-e375-2b24d3596067"
   },
   "outputs": [
    {
     "data": {
      "text/plain": [
       "Date of Joining           0\n",
       "Gender                    0\n",
       "Company Type              0\n",
       "WFH Setup Available       0\n",
       "Designation               0\n",
       "Resource Allocation     110\n",
       "Mental Fatigue Score    186\n",
       "dtype: int64"
      ]
     },
     "execution_count": 33,
     "metadata": {},
     "output_type": "execute_result"
    }
   ],
   "source": [
    "X_test.isna().sum()"
   ]
  },
  {
   "cell_type": "code",
   "execution_count": 34,
   "id": "710bc74f",
   "metadata": {
    "ExecuteTime": {
     "end_time": "2022-10-20T05:21:44.970393Z",
     "start_time": "2022-10-20T05:21:44.876784Z"
    }
   },
   "outputs": [],
   "source": [
    "X_test = pd.DataFrame(imputer.transform(X_test),columns = X_test.columns)"
   ]
  },
  {
   "cell_type": "markdown",
   "id": "4165b28c",
   "metadata": {},
   "source": [
    "## Feature Selection"
   ]
  },
  {
   "cell_type": "code",
   "execution_count": 35,
   "id": "159bfce3",
   "metadata": {
    "ExecuteTime": {
     "end_time": "2022-10-20T05:21:44.986319Z",
     "start_time": "2022-10-20T05:21:44.971388Z"
    }
   },
   "outputs": [],
   "source": [
    "# TODO\n",
    "X_test = X_test.loc[:,~X_test.columns.isin(['Date of Joining', 'Company Type','Gender'])]"
   ]
  },
  {
   "cell_type": "markdown",
   "id": "512632ac",
   "metadata": {},
   "source": [
    "## Predict Testing set"
   ]
  },
  {
   "cell_type": "code",
   "execution_count": 36,
   "id": "HJF5Z3zHIpER",
   "metadata": {
    "ExecuteTime": {
     "end_time": "2022-10-20T05:21:45.017217Z",
     "start_time": "2022-10-20T05:21:44.987318Z"
    },
    "id": "HJF5Z3zHIpER"
   },
   "outputs": [],
   "source": [
    "y_pred = model_xgb.predict(X_test)"
   ]
  },
  {
   "cell_type": "code",
   "execution_count": 37,
   "id": "741acb7e",
   "metadata": {
    "ExecuteTime": {
     "end_time": "2022-10-20T05:21:45.033164Z",
     "start_time": "2022-10-20T05:21:45.018214Z"
    }
   },
   "outputs": [],
   "source": [
    "y_pred_output = []\n",
    "for i in y_pred:\n",
    "    if i<0:\n",
    "        y_pred_output.append(0)\n",
    "    elif i>1:\n",
    "        y_pred_output.append(1)\n",
    "    else:\n",
    "        y_pred_output.append(i)\n",
    "        \n",
    "y_pred_output = pd.DataFrame(y_pred_output,columns=['Burn Rate'])"
   ]
  },
  {
   "cell_type": "markdown",
   "id": "NrJx8svNIpER",
   "metadata": {
    "id": "NrJx8svNIpER"
   },
   "source": [
    "# Output .csv for submission"
   ]
  },
  {
   "cell_type": "code",
   "execution_count": 38,
   "id": "sapxBlbhIpER",
   "metadata": {
    "ExecuteTime": {
     "end_time": "2022-10-20T05:21:45.049110Z",
     "start_time": "2022-10-20T05:21:45.034160Z"
    },
    "id": "sapxBlbhIpER"
   },
   "outputs": [],
   "source": [
    "df_ans = pd.DataFrame(y_pred_output.astype(float), columns=['Burn Rate'])\n",
    "df_ans.to_csv('mySubmission.csv', index_label='Employee ID')"
   ]
  },
  {
   "cell_type": "code",
   "execution_count": 39,
   "id": "f01f4a75",
   "metadata": {
    "ExecuteTime": {
     "end_time": "2022-10-20T05:21:45.064060Z",
     "start_time": "2022-10-20T05:21:45.049110Z"
    }
   },
   "outputs": [
    {
     "data": {
      "text/html": [
       "<div>\n",
       "<style scoped>\n",
       "    .dataframe tbody tr th:only-of-type {\n",
       "        vertical-align: middle;\n",
       "    }\n",
       "\n",
       "    .dataframe tbody tr th {\n",
       "        vertical-align: top;\n",
       "    }\n",
       "\n",
       "    .dataframe thead th {\n",
       "        text-align: right;\n",
       "    }\n",
       "</style>\n",
       "<table border=\"1\" class=\"dataframe\">\n",
       "  <thead>\n",
       "    <tr style=\"text-align: right;\">\n",
       "      <th></th>\n",
       "      <th>Burn Rate</th>\n",
       "    </tr>\n",
       "  </thead>\n",
       "  <tbody>\n",
       "    <tr>\n",
       "      <th>0</th>\n",
       "      <td>0.004374</td>\n",
       "    </tr>\n",
       "    <tr>\n",
       "      <th>1</th>\n",
       "      <td>0.754634</td>\n",
       "    </tr>\n",
       "    <tr>\n",
       "      <th>2</th>\n",
       "      <td>0.770507</td>\n",
       "    </tr>\n",
       "    <tr>\n",
       "      <th>3</th>\n",
       "      <td>0.409425</td>\n",
       "    </tr>\n",
       "    <tr>\n",
       "      <th>4</th>\n",
       "      <td>0.490788</td>\n",
       "    </tr>\n",
       "    <tr>\n",
       "      <th>...</th>\n",
       "      <td>...</td>\n",
       "    </tr>\n",
       "    <tr>\n",
       "      <th>1975</th>\n",
       "      <td>0.180735</td>\n",
       "    </tr>\n",
       "    <tr>\n",
       "      <th>1976</th>\n",
       "      <td>0.455782</td>\n",
       "    </tr>\n",
       "    <tr>\n",
       "      <th>1977</th>\n",
       "      <td>0.343214</td>\n",
       "    </tr>\n",
       "    <tr>\n",
       "      <th>1978</th>\n",
       "      <td>0.585250</td>\n",
       "    </tr>\n",
       "    <tr>\n",
       "      <th>1979</th>\n",
       "      <td>0.503671</td>\n",
       "    </tr>\n",
       "  </tbody>\n",
       "</table>\n",
       "<p>1980 rows × 1 columns</p>\n",
       "</div>"
      ],
      "text/plain": [
       "      Burn Rate\n",
       "0      0.004374\n",
       "1      0.754634\n",
       "2      0.770507\n",
       "3      0.409425\n",
       "4      0.490788\n",
       "...         ...\n",
       "1975   0.180735\n",
       "1976   0.455782\n",
       "1977   0.343214\n",
       "1978   0.585250\n",
       "1979   0.503671\n",
       "\n",
       "[1980 rows x 1 columns]"
      ]
     },
     "execution_count": 39,
     "metadata": {},
     "output_type": "execute_result"
    }
   ],
   "source": [
    "df_ans"
   ]
  }
 ],
 "metadata": {
  "colab": {
   "collapsed_sections": [],
   "provenance": []
  },
  "kernelspec": {
   "display_name": "Python 3 (ipykernel)",
   "language": "python",
   "name": "python3"
  },
  "language_info": {
   "codemirror_mode": {
    "name": "ipython",
    "version": 3
   },
   "file_extension": ".py",
   "mimetype": "text/x-python",
   "name": "python",
   "nbconvert_exporter": "python",
   "pygments_lexer": "ipython3",
   "version": "3.9.13"
  },
  "toc": {
   "base_numbering": 1,
   "nav_menu": {},
   "number_sections": true,
   "sideBar": true,
   "skip_h1_title": false,
   "title_cell": "Table of Contents",
   "title_sidebar": "Contents",
   "toc_cell": false,
   "toc_position": {
    "height": "calc(100% - 180px)",
    "left": "10px",
    "top": "150px",
    "width": "303.793px"
   },
   "toc_section_display": true,
   "toc_window_display": true
  }
 },
 "nbformat": 4,
 "nbformat_minor": 5
}
